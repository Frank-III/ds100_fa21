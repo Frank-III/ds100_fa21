{
 "cells": [
  {
   "cell_type": "code",
   "execution_count": 1,
   "id": "e2eedd1c",
   "metadata": {
    "deletable": false,
    "editable": false
   },
   "outputs": [],
   "source": [
    "# Initialize Otter\n",
    "import otter\n",
    "grader = otter.Notebook(\"Traffic.ipynb\")"
   ]
  },
  {
   "cell_type": "markdown",
   "id": "40f0c57c",
   "metadata": {},
   "source": [
    "# Final Project: Traffic\n",
    "## Due Date: Monday, December 13th, 11:59 PM\n",
    "## Collaboration Policy\n",
    "\n",
    "Data science is a collaborative activity. While you may talk with other groups about\n",
    "the project, we ask that you **write your solutions within your own groups**. If you do\n",
    "discuss the assignments with others outside of your group please **include their names** at the top\n",
    "of your notebook."
   ]
  },
  {
   "cell_type": "markdown",
   "id": "e7ba9096",
   "metadata": {},
   "source": [
    "# Data 100 Final Project: Traffic in a post-lockdown world\n",
    "\n",
    "**Scenario:** You're a data scientist at Uber -- sitting in a war room on March 16, 2020, 1 day after California-wide COVID lockdown measures began and the day shelter-in-place measures are announced in the bay area. The entire data science department is on fire: All of your existing traffic models have regressed *significantly*. Given the sudden change in traffic patterns (i.e., no traffic at all), the company's traffic estimates are wildly incorrect. This is a top priority for the company. Since traffic estimates are used directly for pricing strategies, this is actively costing the company millions every hour. You are tasked with fixing these models.\n",
    "\n",
    "**Takeaways:** How do you \"fix\" models that have learned biases from pre-lockdown traffic? How do you train new ones, with just 24 hours of data? What sorts of data do you examine, to better understand the situation? In the midst of company-wide panic, you'll need a strong inferential acumen to lead a robust data science response. In this project, we'll walk you through a simulated war room data science effort, culminating in some strategies to fix models online, which are experiencing large distributional shifts in data.\n",
    "\n",
    "For this project, we'll explore traffic data provided by the **Uber Movement** dataset, specifically around the start of COVID shutdowns in March 2020. Your project is structured around the following ideas:\n",
    "\n",
    "```\n",
    "1. Guided data cleaning: Clustering data spatially\n",
    "    a. Load Uber traffic speeds dataset\n",
    "    b. Map traffic speeds to Google Plus Codes (spatially uniform)\n",
    "        i. Load node-to-gps-coordinates data\n",
    "        ii. Map traffic speed to GPS coordinates\n",
    "        iii. Convert GPS coordinates to plus code regions\n",
    "        iv. Sanity check number of plus code regions in San Francisco\n",
    "        v. Plot a histogram of the standard deviation in speed, per plus code region.\n",
    "    c. Map traffic speeds to census tracts (spatially non-uniform)\n",
    "        i. Download census tracts geojson\n",
    "        ii. Map traffic speed to census tracts\n",
    "        iii. Sanity check number of census tracts in San Francisco with data.\n",
    "        iv. Plot a histogram of the standard deviation in speed, per census tract.\n",
    "    d. What defines a \"good\" or \"bad\" spatial clustering?\n",
    "2. Guided EDA: Understanding COVID lockdown impact on traffic\n",
    "    a. How did lockdown affect average traffic speeds?\n",
    "        i. Sort census tracts by average speed, pre-lockdown.\n",
    "        ii. Sort census tracts by average speed, post-lockdown.\n",
    "        iii. Sort census tracts by change in average speed, from pre to post lockdown.\n",
    "        iv. Quantify the impact of lockdown on average speeds.\n",
    "        v. Quantify the impact of pre-lockdown average speed on change in speed.\n",
    "    b. What traffic areas were impacted by lockdown?\n",
    "        i. Visualize heatmap of average traffic speed per census tract, pre-lockdown.\n",
    "        ii. Visualize change in average daily speeds pre vs. post lockdown.\n",
    "        iii. Quantify the impact of lockdown on daily speeds, spatially.\n",
    "3. Open-Ended EDA: Understanding lockdown impact on traffic times\n",
    "    a. Download Uber Movement (Travel Times) dataset\n",
    "4. Guided Modeling: Predict traffic speed post-lockdown\n",
    "    a. Predict daily traffic speed on pre-lockdown data\n",
    "        i. Assemble dataset to predict daily traffic speed.\n",
    "        ii. Train and evaluate linear model on pre-lockdown data.\n",
    "    b. Understand failures on post-lockdown data\n",
    "        i. Evaluate on post-lockdown data\n",
    "        ii. Report model performance temporally\n",
    "    c. \"Fix\" model on post-lockdown data\n",
    "        i. Learn delta off of a moving bias\n",
    "        ii. Does it \"solve itself\"? Does the pre-lockdown model predict, after the change point?\n",
    "        iii. Naively retrain model with post-lockdown data\n",
    "        iv. What if you just ignore the change point?\n",
    "5. Open-Ended Modeling: Predicting travel times post-lockdown\n",
    "```\n",
    "\n",
    "Concepts tested: regex, pivot, join, grouping, inferential thinking"
   ]
  },
  {
   "cell_type": "code",
   "execution_count": 2,
   "id": "dac22504",
   "metadata": {
    "scrolled": true
   },
   "outputs": [
    {
     "name": "stderr",
     "output_type": "stream",
     "text": [
      "/home/frank/miniconda3/envs/data100/lib/python3.6/site-packages/geopandas/_compat.py:110: UserWarning: The Shapely GEOS version (3.9.1-CAPI-1.14.2) is incompatible with the GEOS version PyGEOS was compiled with (3.10.1-CAPI-1.16.0). Conversions between both will be slow.\n",
      "  shapely_geos_version, geos_capi_version_string\n"
     ]
    }
   ],
   "source": [
    "import pandas as pd\n",
    "import geopandas as gpd\n",
    "import numpy as np\n",
    "import csv\n",
    "import json\n",
    "import os\n",
    "import contextily as cx\n",
    "from collections import defaultdict\n",
    "import re\n",
    "from typing import Callable\n",
    "\n",
    "from sklearn.linear_model import LinearRegression\n",
    "import matplotlib.pyplot as plt\n",
    "\n",
    "from zipfile import ZipFile\n",
    "zf = ZipFile('data.zip', 'r')\n",
    "zf.extractall('.')\n",
    "\n",
    "# more readable exceptions\n",
    "#%pip3 install --quiet iwut\n",
    "%load_ext iwut\n",
    "%wut on"
   ]
  },
  {
   "cell_type": "markdown",
   "id": "e1170aa2",
   "metadata": {
    "tags": []
   },
   "source": [
    "# Step 1 - Guided Data Cleaning: Partitioning Data Spatially\n",
    "\n",
    "Our hope is answer: How do we group information spatially? We'll specifically look at 2 ways of partitioning data spatially, to understand the impact of spatial partitioning strategies on our analyses:\n",
    "\n",
    "1. Dividing the world uniformly into slices, like Google's plus codes.\n",
    "2. Dividing the world according to population, using census tracts.\n",
    "\n",
    "In this step, we'll load the following datasets that we'll need for this project:\n",
    "\n",
    "- Daily travel times from Uber Movement data in March 2020 from San Francisco, by census tract\n",
    "- Daily traffic speeds from Uber Movement data in Q1 2020 from San Francisco, between OSM nodes\n",
    "- Census tracts dividing San Francisco by GPS coordinates\n",
    "- Mapping from OSM nodes to GPS coordinates\n",
    "\n",
    "There are several terms and concepts to get familiar with upfront:\n",
    "\n",
    "- **Open Street Maps (OSM)** provides nodes (points in space, [wiki](https://wiki.openstreetmap.org/wiki/Node)) and ways (segments between nodes [wiki](https://wiki.openstreetmap.org/wiki/Way)). These IDs are used in the Uber Movement dataset to identify streets in the traffic speeds dataset.\n",
    "- **Census Tracts** provided by the county of San Francisco geographically divides space according to the US 2010 Census. This is used in the Uber Movement dataset to identify regions of differing travel times."
   ]
  },
  {
   "cell_type": "markdown",
   "id": "f972f63f",
   "metadata": {
    "deletable": false,
    "editable": false
   },
   "source": [
    "## 1.a. Load Uber traffic speeds dataset\n",
    "\n",
    "The dataset is located at `data/movement-speeds-daily-san-francisco-2020-3.csv`. **Load this dataset into a dataframe.**\n",
    "\n",
    "*The original dataset from Uber was provided hourly and took up 2.1 GB on disk, which means it couldn't fit into your 1GB of RAM. You can find the dataset preparation script at `data/PrepareTrafficDataset.ipynb` which aggregated within each day, reducing the dataset to just 55MB on disk.*\n",
    "\n",
    "*This was originally going to be question in this project, but it takes 22 minutes to run. Better yet, if you mess up, your kernel dies and you start over. We deemed it too frustrating and preprocessed the dataset to spare you the pain... but just know that this is a real-world issue!*\n",
    "\n",
    "<!--\n",
    "BEGIN QUESTION\n",
    "name: q1a\n",
    "points: 1\n",
    "-->"
   ]
  },
  {
   "cell_type": "code",
   "execution_count": 3,
   "id": "afa7b370",
   "metadata": {},
   "outputs": [
    {
     "data": {
      "text/html": [
       "<div>\n",
       "<style scoped>\n",
       "    .dataframe tbody tr th:only-of-type {\n",
       "        vertical-align: middle;\n",
       "    }\n",
       "\n",
       "    .dataframe tbody tr th {\n",
       "        vertical-align: top;\n",
       "    }\n",
       "\n",
       "    .dataframe thead th {\n",
       "        text-align: right;\n",
       "    }\n",
       "</style>\n",
       "<table border=\"1\" class=\"dataframe\">\n",
       "  <thead>\n",
       "    <tr style=\"text-align: right;\">\n",
       "      <th></th>\n",
       "      <th>osm_start_node_id</th>\n",
       "      <th>osm_end_node_id</th>\n",
       "      <th>day</th>\n",
       "      <th>speed_mph_mean</th>\n",
       "    </tr>\n",
       "  </thead>\n",
       "  <tbody>\n",
       "    <tr>\n",
       "      <th>0</th>\n",
       "      <td>281266</td>\n",
       "      <td>702258940</td>\n",
       "      <td>1</td>\n",
       "      <td>59.674042</td>\n",
       "    </tr>\n",
       "    <tr>\n",
       "      <th>1</th>\n",
       "      <td>281266</td>\n",
       "      <td>702274215</td>\n",
       "      <td>1</td>\n",
       "      <td>68.444042</td>\n",
       "    </tr>\n",
       "    <tr>\n",
       "      <th>2</th>\n",
       "      <td>302876</td>\n",
       "      <td>240259516</td>\n",
       "      <td>1</td>\n",
       "      <td>66.446500</td>\n",
       "    </tr>\n",
       "    <tr>\n",
       "      <th>3</th>\n",
       "      <td>302878</td>\n",
       "      <td>437325360</td>\n",
       "      <td>1</td>\n",
       "      <td>65.516850</td>\n",
       "    </tr>\n",
       "    <tr>\n",
       "      <th>4</th>\n",
       "      <td>302883</td>\n",
       "      <td>65381191</td>\n",
       "      <td>1</td>\n",
       "      <td>61.880556</td>\n",
       "    </tr>\n",
       "    <tr>\n",
       "      <th>...</th>\n",
       "      <td>...</td>\n",
       "      <td>...</td>\n",
       "      <td>...</td>\n",
       "      <td>...</td>\n",
       "    </tr>\n",
       "    <tr>\n",
       "      <th>1586647</th>\n",
       "      <td>6569140748</td>\n",
       "      <td>1350115374</td>\n",
       "      <td>31</td>\n",
       "      <td>68.484833</td>\n",
       "    </tr>\n",
       "    <tr>\n",
       "      <th>1586648</th>\n",
       "      <td>6570476556</td>\n",
       "      <td>4551993266</td>\n",
       "      <td>31</td>\n",
       "      <td>36.837000</td>\n",
       "    </tr>\n",
       "    <tr>\n",
       "      <th>1586649</th>\n",
       "      <td>6573249373</td>\n",
       "      <td>4911384010</td>\n",
       "      <td>31</td>\n",
       "      <td>39.021000</td>\n",
       "    </tr>\n",
       "    <tr>\n",
       "      <th>1586650</th>\n",
       "      <td>6573553681</td>\n",
       "      <td>256888796</td>\n",
       "      <td>31</td>\n",
       "      <td>68.728333</td>\n",
       "    </tr>\n",
       "    <tr>\n",
       "      <th>1586651</th>\n",
       "      <td>6577722252</td>\n",
       "      <td>209835741</td>\n",
       "      <td>31</td>\n",
       "      <td>68.905538</td>\n",
       "    </tr>\n",
       "  </tbody>\n",
       "</table>\n",
       "<p>1586652 rows × 4 columns</p>\n",
       "</div>"
      ],
      "text/plain": [
       "         osm_start_node_id  osm_end_node_id  day  speed_mph_mean\n",
       "0                   281266        702258940    1       59.674042\n",
       "1                   281266        702274215    1       68.444042\n",
       "2                   302876        240259516    1       66.446500\n",
       "3                   302878        437325360    1       65.516850\n",
       "4                   302883         65381191    1       61.880556\n",
       "...                    ...              ...  ...             ...\n",
       "1586647         6569140748       1350115374   31       68.484833\n",
       "1586648         6570476556       4551993266   31       36.837000\n",
       "1586649         6573249373       4911384010   31       39.021000\n",
       "1586650         6573553681        256888796   31       68.728333\n",
       "1586651         6577722252        209835741   31       68.905538\n",
       "\n",
       "[1586652 rows x 4 columns]"
      ]
     },
     "execution_count": 3,
     "metadata": {},
     "output_type": "execute_result"
    }
   ],
   "source": [
    "# Load Uber Movement (Movement Speeds) dataset into dataframe\n",
    "speeds_to_nodes = pd.read_csv('data/movement-speeds-daily-san-francisco-2020-3.csv')\n",
    "\n",
    "speeds_to_nodes"
   ]
  },
  {
   "cell_type": "code",
   "execution_count": 4,
   "id": "1a8f96bb",
   "metadata": {
    "deletable": false,
    "editable": false
   },
   "outputs": [
    {
     "data": {
      "text/html": [
       "<p><strong><pre style='display: inline;'>q1a</pre></strong> passed!</p>"
      ],
      "text/plain": [
       "q1a results: All test cases passed!"
      ]
     },
     "execution_count": 4,
     "metadata": {},
     "output_type": "execute_result"
    }
   ],
   "source": [
    "grader.check(\"q1a\")"
   ]
  },
  {
   "cell_type": "markdown",
   "id": "657ce62e",
   "metadata": {
    "deletable": false,
    "editable": false
   },
   "source": [
    "<!-- BEGIN QUESTION -->\n",
    "\n",
    "## 1.b. Map traffic speed to Google Plus Codes\n",
    "\n",
    "Google Plus Codes divide up the world uniformly into rectangular slices ([link](https://maps.google.com/pluscodes/)). Let's use this to segment traffic speeds spatially. Take a moment to answer: **Is this spatial structure effective for summarizing traffic speed?** Before completing this section, substantiate your answer with examples of your expectations (e.g., we expect A to be separated from B). After completing this section, substantiate your answer with observations you've made.\n",
    "\n",
    "<!--\n",
    "BEGIN QUESTION\n",
    "name: q1b\n",
    "points: 2\n",
    "manual: True\n",
    "-->"
   ]
  },
  {
   "cell_type": "markdown",
   "id": "7fdfc8c4",
   "metadata": {},
   "source": [
    "_Type your answer here, replacing this text._"
   ]
  },
  {
   "cell_type": "markdown",
   "id": "956d25e2",
   "metadata": {},
   "source": [
    "<!-- END QUESTION -->\n",
    "\n",
    "\n",
    "\n",
    "### 1.b.i. Load Node-to-GPS-Coordinate Data\n",
    "\n",
    "In this substep, we'll load a mapping from OSM nodes to GPS coordinates. The dataset is provided in a gzip'ed XML file from OpenStreetMaps (OSM). The mapping from OSM nodes to GPS coordinates was downloaded from https://download.bbbike.org/osm/bbbike/SanFrancisco/SanFrancisco.osm.gz. We've downloaded this for you, to avoid any issues with OSM updates.\n",
    "\n",
    "**If** you try to load the provided `.osm` (an `.xml` in disguise) using Python's built-in XML utilities **(by uncommenting the last 2 lines in the below cell)**, you will hit an out-of-memory error, as your kernel is forced to restart."
   ]
  },
  {
   "cell_type": "code",
   "execution_count": 5,
   "id": "2b734bb9",
   "metadata": {},
   "outputs": [],
   "source": [
    "# [OSM] - Read the OSM XML and extract mapping from node ID to GPS coordinates\n",
    "PATH_OSM = os.path.expanduser('data/SanFrancisco.osm')\n",
    "\n",
    "# Runs out of memory! File itself is 430 MB, even when filtering out\n",
    "# irrelevant rows, and remaining 3M rows are too expensive to parse,\n",
    "# resulting in OOM\n",
    "\n",
    "# import xml.etree.ElementTree as ET\n",
    "# _tree = ET.parse(PATH_OSM)"
   ]
  },
  {
   "cell_type": "markdown",
   "id": "50de7d9e",
   "metadata": {},
   "source": [
    "Your above code hits a memory error, so instead, we will use our handy-dandy tool--regex--from earlier in the semester to load just the parts of the file that we need. **Given the XML snippet below, write a regex pattern to extract OSM node ID, latitude, and longitude.** (The first capture group should be node ID. The second should be latitude, and the third should be longitude.) A snippet of the XML is included below ([screenshot](https://extract.bbbike.org/extract-screenshots.html)):\n",
    "\n",
    "```\n",
    "<?xml version='1.0' encoding='UTF-8'?>\n",
    "<osm version=\"0.6\" generator=\"osmconvert 0.8.3\">\n",
    "    <bounds minlat=\"42.4543\" minlon=\"-2.4761999\" maxlat=\"42.4...\"/>\n",
    "    <node id=\"26861066\" lat=\"42.471111\" lon=\"-2.454722\" version=\"...\"/>\n",
    "        <tag k=\"name\" v=\"Camping La Playa\"/>\n",
    "        <tag k=\"tourism\" v=\"camp_site\"/>\n",
    "        <tag k=\"operator\" v=\"private\"/>\n",
    "        ...\n",
    "    </node>\n",
    "    <node id=\"34793287\" lat=\"42.4713587\" lon=\"-2.4510783\" version=\"...\"/>\n",
    "        <tag k=\"created_by\" v=\"JOSM\"/>\n",
    "    </node>\n",
    "    <node id=\"34793294\" lat=\"42.4610836\" lon=\"-2.4303622\" version=\"...\"/>\n",
    "    <node id=\"34793297\" lat=\"42.4548363\" lon=\"-2.4287657\" version=\"...\"/>\n",
    "    ...\n",
    "</osm>\n",
    "```"
   ]
  },
  {
   "cell_type": "code",
   "execution_count": 6,
   "id": "4b82c675",
   "metadata": {
    "scrolled": true
   },
   "outputs": [],
   "source": [
    "# [OSM] - Read the OSM XML using a regex operation instead.\n",
    "def read_node_lat_lon(path: str, pattern: str, line_condition: Callable):\n",
    "    \"\"\"\n",
    "    Read the provided path line at a line. If the provided regex pattern\n",
    "    has a match, return the grouped matches as items in a generator.\n",
    "    \n",
    "    :param path: Path to read data from\n",
    "    :param pattern: Regex pattern to test against each line\n",
    "    :param line_condition: function that returns if we should check regex\n",
    "        against current line\n",
    "    \"\"\"\n",
    "    with open(path) as f:\n",
    "        for line in f:\n",
    "            result = re.search(pattern, line)\n",
    "            if result is not None and line_condition(result):\n",
    "                yield int(result.group(1)), float(result.group(2)), float(result.group(3))"
   ]
  },
  {
   "cell_type": "code",
   "execution_count": 7,
   "id": "8bbae0df",
   "metadata": {},
   "outputs": [
    {
     "data": {
      "text/html": [
       "<div>\n",
       "<style scoped>\n",
       "    .dataframe tbody tr th:only-of-type {\n",
       "        vertical-align: middle;\n",
       "    }\n",
       "\n",
       "    .dataframe tbody tr th {\n",
       "        vertical-align: top;\n",
       "    }\n",
       "\n",
       "    .dataframe thead th {\n",
       "        text-align: right;\n",
       "    }\n",
       "</style>\n",
       "<table border=\"1\" class=\"dataframe\">\n",
       "  <thead>\n",
       "    <tr style=\"text-align: right;\">\n",
       "      <th></th>\n",
       "      <th>osm_node_id</th>\n",
       "      <th>Latitude</th>\n",
       "      <th>Longitude</th>\n",
       "    </tr>\n",
       "  </thead>\n",
       "  <tbody>\n",
       "    <tr>\n",
       "      <th>0</th>\n",
       "      <td>26118026</td>\n",
       "      <td>37.675280</td>\n",
       "      <td>-122.389194</td>\n",
       "    </tr>\n",
       "    <tr>\n",
       "      <th>1</th>\n",
       "      <td>29891973</td>\n",
       "      <td>37.674935</td>\n",
       "      <td>-122.389130</td>\n",
       "    </tr>\n",
       "    <tr>\n",
       "      <th>2</th>\n",
       "      <td>29892598</td>\n",
       "      <td>37.716892</td>\n",
       "      <td>-122.398893</td>\n",
       "    </tr>\n",
       "    <tr>\n",
       "      <th>3</th>\n",
       "      <td>30033679</td>\n",
       "      <td>37.599877</td>\n",
       "      <td>-122.376497</td>\n",
       "    </tr>\n",
       "    <tr>\n",
       "      <th>4</th>\n",
       "      <td>30033686</td>\n",
       "      <td>37.642167</td>\n",
       "      <td>-122.405946</td>\n",
       "    </tr>\n",
       "    <tr>\n",
       "      <th>...</th>\n",
       "      <td>...</td>\n",
       "      <td>...</td>\n",
       "      <td>...</td>\n",
       "    </tr>\n",
       "    <tr>\n",
       "      <th>19139</th>\n",
       "      <td>6522255428</td>\n",
       "      <td>37.760543</td>\n",
       "      <td>-122.443563</td>\n",
       "    </tr>\n",
       "    <tr>\n",
       "      <th>19140</th>\n",
       "      <td>6522255492</td>\n",
       "      <td>37.759317</td>\n",
       "      <td>-122.444996</td>\n",
       "    </tr>\n",
       "    <tr>\n",
       "      <th>19141</th>\n",
       "      <td>6522764204</td>\n",
       "      <td>37.762163</td>\n",
       "      <td>-122.436143</td>\n",
       "    </tr>\n",
       "    <tr>\n",
       "      <th>19142</th>\n",
       "      <td>6522764212</td>\n",
       "      <td>37.756061</td>\n",
       "      <td>-122.436761</td>\n",
       "    </tr>\n",
       "    <tr>\n",
       "      <th>19143</th>\n",
       "      <td>6522764213</td>\n",
       "      <td>37.761187</td>\n",
       "      <td>-122.440089</td>\n",
       "    </tr>\n",
       "  </tbody>\n",
       "</table>\n",
       "<p>19144 rows × 3 columns</p>\n",
       "</div>"
      ],
      "text/plain": [
       "       osm_node_id   Latitude   Longitude\n",
       "0         26118026  37.675280 -122.389194\n",
       "1         29891973  37.674935 -122.389130\n",
       "2         29892598  37.716892 -122.398893\n",
       "3         30033679  37.599877 -122.376497\n",
       "4         30033686  37.642167 -122.405946\n",
       "...            ...        ...         ...\n",
       "19139   6522255428  37.760543 -122.443563\n",
       "19140   6522255492  37.759317 -122.444996\n",
       "19141   6522764204  37.762163 -122.436143\n",
       "19142   6522764212  37.756061 -122.436761\n",
       "19143   6522764213  37.761187 -122.440089\n",
       "\n",
       "[19144 rows x 3 columns]"
      ]
     },
     "execution_count": 7,
     "metadata": {},
     "output_type": "execute_result"
    }
   ],
   "source": [
    "node_ids = set(speeds_to_nodes.osm_start_node_id) | set(speeds_to_nodes.osm_end_node_id)\n",
    "\n",
    "NODE_PATTERN = r\"\"\".*node id=\"(\\d+)\" lat=\"-*(\\d+\\.\\d+)\" lon=\"(-*\\d+\\.\\d+)\".*\"\"\"\n",
    "\n",
    "node_to_gps = pd.DataFrame(read_node_lat_lon(\n",
    "    PATH_OSM,\n",
    "    pattern=NODE_PATTERN,\n",
    "    line_condition=lambda result: int(result.group(1)) in node_ids\n",
    "), columns=['osm_node_id', 'Latitude', 'Longitude'])\n",
    "node_to_gps"
   ]
  },
  {
   "cell_type": "code",
   "execution_count": 8,
   "id": "253fe3a7",
   "metadata": {
    "deletable": false,
    "editable": false
   },
   "outputs": [
    {
     "data": {
      "text/html": [
       "<p><strong><pre style='display: inline;'>q1bi</pre></strong> passed!</p>"
      ],
      "text/plain": [
       "q1bi results: All test cases passed!"
      ]
     },
     "execution_count": 8,
     "metadata": {},
     "output_type": "execute_result"
    }
   ],
   "source": [
    "grader.check(\"q1bi\")"
   ]
  },
  {
   "cell_type": "markdown",
   "id": "90d2e3dd",
   "metadata": {
    "deletable": false,
    "editable": false
   },
   "source": [
    "### 1.b.ii. Map traffic speed to GPS coordinates.\n",
    "\n",
    "Traffic speeds are currently connected to OSM nodes. You will then use the mapping from OSM nodes to GPS coordinates, to map traffic speeds to GPS coordinates. **Link each traffic speed measurement to the GPS coordinate of its starting node.**\n",
    "\n",
    "**Note**: For simplicity, assume each segment is associated with the node it *starts* with. \n",
    "\n",
    "**Hint**: Not all nodes are included in the OSM node mapping. Make sure to ignore any nodes without valid GPS coordinates.\n",
    "\n",
    "<!--\n",
    "BEGIN QUESTION\n",
    "name: q1bii\n",
    "points: 3\n",
    "-->"
   ]
  },
  {
   "cell_type": "code",
   "execution_count": 9,
   "id": "1dbc5f8c",
   "metadata": {
    "scrolled": true
   },
   "outputs": [
    {
     "data": {
      "text/html": [
       "<div>\n",
       "<style scoped>\n",
       "    .dataframe tbody tr th:only-of-type {\n",
       "        vertical-align: middle;\n",
       "    }\n",
       "\n",
       "    .dataframe tbody tr th {\n",
       "        vertical-align: top;\n",
       "    }\n",
       "\n",
       "    .dataframe thead th {\n",
       "        text-align: right;\n",
       "    }\n",
       "</style>\n",
       "<table border=\"1\" class=\"dataframe\">\n",
       "  <thead>\n",
       "    <tr style=\"text-align: right;\">\n",
       "      <th></th>\n",
       "      <th>osm_start_node_id</th>\n",
       "      <th>osm_end_node_id</th>\n",
       "      <th>day</th>\n",
       "      <th>speed_mph_mean</th>\n",
       "      <th>osm_node_id</th>\n",
       "      <th>Latitude</th>\n",
       "      <th>Longitude</th>\n",
       "    </tr>\n",
       "  </thead>\n",
       "  <tbody>\n",
       "    <tr>\n",
       "      <th>0</th>\n",
       "      <td>26118026</td>\n",
       "      <td>259458979</td>\n",
       "      <td>1</td>\n",
       "      <td>64.478000</td>\n",
       "      <td>26118026</td>\n",
       "      <td>37.675280</td>\n",
       "      <td>-122.389194</td>\n",
       "    </tr>\n",
       "    <tr>\n",
       "      <th>1</th>\n",
       "      <td>26118026</td>\n",
       "      <td>259458979</td>\n",
       "      <td>2</td>\n",
       "      <td>62.868208</td>\n",
       "      <td>26118026</td>\n",
       "      <td>37.675280</td>\n",
       "      <td>-122.389194</td>\n",
       "    </tr>\n",
       "    <tr>\n",
       "      <th>2</th>\n",
       "      <td>26118026</td>\n",
       "      <td>259458979</td>\n",
       "      <td>3</td>\n",
       "      <td>62.211750</td>\n",
       "      <td>26118026</td>\n",
       "      <td>37.675280</td>\n",
       "      <td>-122.389194</td>\n",
       "    </tr>\n",
       "    <tr>\n",
       "      <th>3</th>\n",
       "      <td>26118026</td>\n",
       "      <td>259458979</td>\n",
       "      <td>4</td>\n",
       "      <td>62.192458</td>\n",
       "      <td>26118026</td>\n",
       "      <td>37.675280</td>\n",
       "      <td>-122.389194</td>\n",
       "    </tr>\n",
       "    <tr>\n",
       "      <th>4</th>\n",
       "      <td>26118026</td>\n",
       "      <td>259458979</td>\n",
       "      <td>5</td>\n",
       "      <td>61.913292</td>\n",
       "      <td>26118026</td>\n",
       "      <td>37.675280</td>\n",
       "      <td>-122.389194</td>\n",
       "    </tr>\n",
       "    <tr>\n",
       "      <th>...</th>\n",
       "      <td>...</td>\n",
       "      <td>...</td>\n",
       "      <td>...</td>\n",
       "      <td>...</td>\n",
       "      <td>...</td>\n",
       "      <td>...</td>\n",
       "      <td>...</td>\n",
       "    </tr>\n",
       "    <tr>\n",
       "      <th>417634</th>\n",
       "      <td>4069109544</td>\n",
       "      <td>615120176</td>\n",
       "      <td>30</td>\n",
       "      <td>38.956000</td>\n",
       "      <td>4069109544</td>\n",
       "      <td>37.732039</td>\n",
       "      <td>-122.507126</td>\n",
       "    </tr>\n",
       "    <tr>\n",
       "      <th>417635</th>\n",
       "      <td>5448539901</td>\n",
       "      <td>65446993</td>\n",
       "      <td>16</td>\n",
       "      <td>25.627000</td>\n",
       "      <td>5448539901</td>\n",
       "      <td>37.622476</td>\n",
       "      <td>-122.413763</td>\n",
       "    </tr>\n",
       "    <tr>\n",
       "      <th>417636</th>\n",
       "      <td>302964668</td>\n",
       "      <td>4069109544</td>\n",
       "      <td>19</td>\n",
       "      <td>40.802000</td>\n",
       "      <td>302964668</td>\n",
       "      <td>37.732418</td>\n",
       "      <td>-122.507206</td>\n",
       "    </tr>\n",
       "    <tr>\n",
       "      <th>417637</th>\n",
       "      <td>302964668</td>\n",
       "      <td>4069109544</td>\n",
       "      <td>20</td>\n",
       "      <td>36.076000</td>\n",
       "      <td>302964668</td>\n",
       "      <td>37.732418</td>\n",
       "      <td>-122.507206</td>\n",
       "    </tr>\n",
       "    <tr>\n",
       "      <th>417638</th>\n",
       "      <td>5022068066</td>\n",
       "      <td>302964668</td>\n",
       "      <td>19</td>\n",
       "      <td>39.592000</td>\n",
       "      <td>5022068066</td>\n",
       "      <td>37.733635</td>\n",
       "      <td>-122.507100</td>\n",
       "    </tr>\n",
       "  </tbody>\n",
       "</table>\n",
       "<p>417639 rows × 7 columns</p>\n",
       "</div>"
      ],
      "text/plain": [
       "        osm_start_node_id  osm_end_node_id  day  speed_mph_mean  osm_node_id  \\\n",
       "0                26118026        259458979    1       64.478000     26118026   \n",
       "1                26118026        259458979    2       62.868208     26118026   \n",
       "2                26118026        259458979    3       62.211750     26118026   \n",
       "3                26118026        259458979    4       62.192458     26118026   \n",
       "4                26118026        259458979    5       61.913292     26118026   \n",
       "...                   ...              ...  ...             ...          ...   \n",
       "417634         4069109544        615120176   30       38.956000   4069109544   \n",
       "417635         5448539901         65446993   16       25.627000   5448539901   \n",
       "417636          302964668       4069109544   19       40.802000    302964668   \n",
       "417637          302964668       4069109544   20       36.076000    302964668   \n",
       "417638         5022068066        302964668   19       39.592000   5022068066   \n",
       "\n",
       "         Latitude   Longitude  \n",
       "0       37.675280 -122.389194  \n",
       "1       37.675280 -122.389194  \n",
       "2       37.675280 -122.389194  \n",
       "3       37.675280 -122.389194  \n",
       "4       37.675280 -122.389194  \n",
       "...           ...         ...  \n",
       "417634  37.732039 -122.507126  \n",
       "417635  37.622476 -122.413763  \n",
       "417636  37.732418 -122.507206  \n",
       "417637  37.732418 -122.507206  \n",
       "417638  37.733635 -122.507100  \n",
       "\n",
       "[417639 rows x 7 columns]"
      ]
     },
     "execution_count": 9,
     "metadata": {},
     "output_type": "execute_result"
    }
   ],
   "source": [
    "# Find mapping from traffic speeds to GPS coordinates\n",
    "speeds_to_gps = speeds_to_nodes.merge(node_to_gps,how='inner' ,left_on = 'osm_start_node_id',right_on = 'osm_node_id')\n",
    "speeds_to_gps"
   ]
  },
  {
   "cell_type": "code",
   "execution_count": 10,
   "id": "b0f931cc",
   "metadata": {
    "deletable": false,
    "editable": false
   },
   "outputs": [
    {
     "data": {
      "text/html": [
       "<p><strong><pre style='display: inline;'>q1bii</pre></strong> passed!</p>"
      ],
      "text/plain": [
       "q1bii results: All test cases passed!"
      ]
     },
     "execution_count": 10,
     "metadata": {},
     "output_type": "execute_result"
    }
   ],
   "source": [
    "grader.check(\"q1bii\")"
   ]
  },
  {
   "cell_type": "markdown",
   "id": "ffd3be0e",
   "metadata": {
    "deletable": false,
    "editable": false
   },
   "source": [
    "### 1.b.iii. Convert GPS coordinates to plus code regions.\n",
    "\n",
    "Plus code regions divide up the world into uniformly-sized rectangles, which we will assume is 0.012 degrees latitudiunally and longitudinally. **For each traffic speed row, compute the plus code region it belongs to**, based on its GPS coordinates.\n",
    "\n",
    "To do this, we suggest computing a latitudinal index `plus_latitude_idx` and a longitudinal index `plus_longitude_idx` for the plus code region each row belongs to. *Make sure these columns are integer-valued*.\n",
    "\n",
    "**Hint**: If you're running into nans, you did 1.b.ii. incorrectly!\n",
    "\n",
    "<!--\n",
    "BEGIN QUESTION\n",
    "name: q1biii\n",
    "points: 3\n",
    "-->"
   ]
  },
  {
   "cell_type": "code",
   "execution_count": 11,
   "id": "6e3bb4ee",
   "metadata": {},
   "outputs": [
    {
     "data": {
      "text/html": [
       "<div>\n",
       "<style scoped>\n",
       "    .dataframe tbody tr th:only-of-type {\n",
       "        vertical-align: middle;\n",
       "    }\n",
       "\n",
       "    .dataframe tbody tr th {\n",
       "        vertical-align: top;\n",
       "    }\n",
       "\n",
       "    .dataframe thead th {\n",
       "        text-align: right;\n",
       "    }\n",
       "</style>\n",
       "<table border=\"1\" class=\"dataframe\">\n",
       "  <thead>\n",
       "    <tr style=\"text-align: right;\">\n",
       "      <th></th>\n",
       "      <th>osm_start_node_id</th>\n",
       "      <th>osm_end_node_id</th>\n",
       "      <th>day</th>\n",
       "      <th>speed_mph_mean</th>\n",
       "      <th>osm_node_id</th>\n",
       "      <th>Latitude</th>\n",
       "      <th>Longitude</th>\n",
       "      <th>plus_latitude_idx</th>\n",
       "      <th>plus_longitude_idx</th>\n",
       "    </tr>\n",
       "  </thead>\n",
       "  <tbody>\n",
       "    <tr>\n",
       "      <th>0</th>\n",
       "      <td>26118026</td>\n",
       "      <td>259458979</td>\n",
       "      <td>1</td>\n",
       "      <td>64.478000</td>\n",
       "      <td>26118026</td>\n",
       "      <td>37.675280</td>\n",
       "      <td>-122.389194</td>\n",
       "      <td>3139</td>\n",
       "      <td>-10200</td>\n",
       "    </tr>\n",
       "    <tr>\n",
       "      <th>1</th>\n",
       "      <td>26118026</td>\n",
       "      <td>259458979</td>\n",
       "      <td>2</td>\n",
       "      <td>62.868208</td>\n",
       "      <td>26118026</td>\n",
       "      <td>37.675280</td>\n",
       "      <td>-122.389194</td>\n",
       "      <td>3139</td>\n",
       "      <td>-10200</td>\n",
       "    </tr>\n",
       "    <tr>\n",
       "      <th>2</th>\n",
       "      <td>26118026</td>\n",
       "      <td>259458979</td>\n",
       "      <td>3</td>\n",
       "      <td>62.211750</td>\n",
       "      <td>26118026</td>\n",
       "      <td>37.675280</td>\n",
       "      <td>-122.389194</td>\n",
       "      <td>3139</td>\n",
       "      <td>-10200</td>\n",
       "    </tr>\n",
       "    <tr>\n",
       "      <th>3</th>\n",
       "      <td>26118026</td>\n",
       "      <td>259458979</td>\n",
       "      <td>4</td>\n",
       "      <td>62.192458</td>\n",
       "      <td>26118026</td>\n",
       "      <td>37.675280</td>\n",
       "      <td>-122.389194</td>\n",
       "      <td>3139</td>\n",
       "      <td>-10200</td>\n",
       "    </tr>\n",
       "    <tr>\n",
       "      <th>4</th>\n",
       "      <td>26118026</td>\n",
       "      <td>259458979</td>\n",
       "      <td>5</td>\n",
       "      <td>61.913292</td>\n",
       "      <td>26118026</td>\n",
       "      <td>37.675280</td>\n",
       "      <td>-122.389194</td>\n",
       "      <td>3139</td>\n",
       "      <td>-10200</td>\n",
       "    </tr>\n",
       "    <tr>\n",
       "      <th>...</th>\n",
       "      <td>...</td>\n",
       "      <td>...</td>\n",
       "      <td>...</td>\n",
       "      <td>...</td>\n",
       "      <td>...</td>\n",
       "      <td>...</td>\n",
       "      <td>...</td>\n",
       "      <td>...</td>\n",
       "      <td>...</td>\n",
       "    </tr>\n",
       "    <tr>\n",
       "      <th>417634</th>\n",
       "      <td>4069109544</td>\n",
       "      <td>615120176</td>\n",
       "      <td>30</td>\n",
       "      <td>38.956000</td>\n",
       "      <td>4069109544</td>\n",
       "      <td>37.732039</td>\n",
       "      <td>-122.507126</td>\n",
       "      <td>3144</td>\n",
       "      <td>-10209</td>\n",
       "    </tr>\n",
       "    <tr>\n",
       "      <th>417635</th>\n",
       "      <td>5448539901</td>\n",
       "      <td>65446993</td>\n",
       "      <td>16</td>\n",
       "      <td>25.627000</td>\n",
       "      <td>5448539901</td>\n",
       "      <td>37.622476</td>\n",
       "      <td>-122.413763</td>\n",
       "      <td>3135</td>\n",
       "      <td>-10202</td>\n",
       "    </tr>\n",
       "    <tr>\n",
       "      <th>417636</th>\n",
       "      <td>302964668</td>\n",
       "      <td>4069109544</td>\n",
       "      <td>19</td>\n",
       "      <td>40.802000</td>\n",
       "      <td>302964668</td>\n",
       "      <td>37.732418</td>\n",
       "      <td>-122.507206</td>\n",
       "      <td>3144</td>\n",
       "      <td>-10209</td>\n",
       "    </tr>\n",
       "    <tr>\n",
       "      <th>417637</th>\n",
       "      <td>302964668</td>\n",
       "      <td>4069109544</td>\n",
       "      <td>20</td>\n",
       "      <td>36.076000</td>\n",
       "      <td>302964668</td>\n",
       "      <td>37.732418</td>\n",
       "      <td>-122.507206</td>\n",
       "      <td>3144</td>\n",
       "      <td>-10209</td>\n",
       "    </tr>\n",
       "    <tr>\n",
       "      <th>417638</th>\n",
       "      <td>5022068066</td>\n",
       "      <td>302964668</td>\n",
       "      <td>19</td>\n",
       "      <td>39.592000</td>\n",
       "      <td>5022068066</td>\n",
       "      <td>37.733635</td>\n",
       "      <td>-122.507100</td>\n",
       "      <td>3144</td>\n",
       "      <td>-10209</td>\n",
       "    </tr>\n",
       "  </tbody>\n",
       "</table>\n",
       "<p>417639 rows × 9 columns</p>\n",
       "</div>"
      ],
      "text/plain": [
       "        osm_start_node_id  osm_end_node_id  day  speed_mph_mean  osm_node_id  \\\n",
       "0                26118026        259458979    1       64.478000     26118026   \n",
       "1                26118026        259458979    2       62.868208     26118026   \n",
       "2                26118026        259458979    3       62.211750     26118026   \n",
       "3                26118026        259458979    4       62.192458     26118026   \n",
       "4                26118026        259458979    5       61.913292     26118026   \n",
       "...                   ...              ...  ...             ...          ...   \n",
       "417634         4069109544        615120176   30       38.956000   4069109544   \n",
       "417635         5448539901         65446993   16       25.627000   5448539901   \n",
       "417636          302964668       4069109544   19       40.802000    302964668   \n",
       "417637          302964668       4069109544   20       36.076000    302964668   \n",
       "417638         5022068066        302964668   19       39.592000   5022068066   \n",
       "\n",
       "         Latitude   Longitude  plus_latitude_idx  plus_longitude_idx  \n",
       "0       37.675280 -122.389194               3139              -10200  \n",
       "1       37.675280 -122.389194               3139              -10200  \n",
       "2       37.675280 -122.389194               3139              -10200  \n",
       "3       37.675280 -122.389194               3139              -10200  \n",
       "4       37.675280 -122.389194               3139              -10200  \n",
       "...           ...         ...                ...                 ...  \n",
       "417634  37.732039 -122.507126               3144              -10209  \n",
       "417635  37.622476 -122.413763               3135              -10202  \n",
       "417636  37.732418 -122.507206               3144              -10209  \n",
       "417637  37.732418 -122.507206               3144              -10209  \n",
       "417638  37.733635 -122.507100               3144              -10209  \n",
       "\n",
       "[417639 rows x 9 columns]"
      ]
     },
     "execution_count": 11,
     "metadata": {},
     "output_type": "execute_result"
    }
   ],
   "source": [
    "# do this however you like\n",
    "speeds_to_gps['plus_latitude_idx'] = (speeds_to_gps['Latitude'] // 0.012).astype(int)\n",
    "speeds_to_gps['plus_longitude_idx'] = (speeds_to_gps['Longitude'] // 0.012).astype(int)\n",
    "speeds_to_gps"
   ]
  },
  {
   "cell_type": "code",
   "execution_count": 12,
   "id": "43568f79",
   "metadata": {
    "deletable": false,
    "editable": false
   },
   "outputs": [
    {
     "data": {
      "text/html": [
       "<p><strong><pre style='display: inline;'>q1biii</pre></strong> passed!</p>"
      ],
      "text/plain": [
       "q1biii results: All test cases passed!"
      ]
     },
     "execution_count": 12,
     "metadata": {},
     "output_type": "execute_result"
    }
   ],
   "source": [
    "grader.check(\"q1biii\")"
   ]
  },
  {
   "cell_type": "markdown",
   "id": "1a6eccf8",
   "metadata": {
    "deletable": false,
    "editable": false
   },
   "source": [
    "### 1.b.iv. Sanity check number of plus code regions in San Francisco.\n",
    "\n",
    "**Compute the number of unique plus codes found in your dataset**. You're checking that the number isn't ridiculous, like 1, or 100,000 (SF is 231 sq mi, so 100k tracts would average 12 sq ft per tract).\n",
    "\n",
    "If you followed the suggestion above, this is the number of unique `(plus_latitude_idx, plus_longitude_idx)` pairs.\n",
    "\n",
    "<!--\n",
    "BEGIN QUESTION\n",
    "name: q1biv\n",
    "points: 4\n",
    "-->"
   ]
  },
  {
   "cell_type": "code",
   "execution_count": 13,
   "id": "9fc353f4",
   "metadata": {},
   "outputs": [
    {
     "data": {
      "text/plain": [
       "276"
      ]
     },
     "execution_count": 13,
     "metadata": {},
     "output_type": "execute_result"
    }
   ],
   "source": [
    "# You're expecting 276 plus codes here. Don't just type \"276\" \n",
    "# below to pass the autograder. The goal is to sanity check your \n",
    "# dataframe!\n",
    "num_pluscode_regions = speeds_to_gps.groupby(['plus_latitude_idx','plus_longitude_idx']).size().shape[0]\n",
    "num_pluscode_regions"
   ]
  },
  {
   "cell_type": "code",
   "execution_count": 14,
   "id": "9969c637",
   "metadata": {
    "deletable": false,
    "editable": false
   },
   "outputs": [
    {
     "data": {
      "text/html": [
       "<p><strong><pre style='display: inline;'>q1biv</pre></strong> passed!</p>"
      ],
      "text/plain": [
       "q1biv results: All test cases passed!"
      ]
     },
     "execution_count": 14,
     "metadata": {},
     "output_type": "execute_result"
    }
   ],
   "source": [
    "grader.check(\"q1biv\")"
   ]
  },
  {
   "cell_type": "markdown",
   "id": "e7d50542",
   "metadata": {
    "deletable": false,
    "editable": false
   },
   "source": [
    "<!-- BEGIN QUESTION -->\n",
    "\n",
    "### 1.b.v. How well do plus code regions summarize movement speeds?\n",
    "\n",
    "The following will give us an idea of how well the average represents traffic speed per plus code region. For these questions, we'll refer to a \"plus code region\" as a \"cluster\":\n",
    "\n",
    "1. **Plot a histogram of the within-cluster standard deviation**.\n",
    "2. **Compute across-cluster average of within-cluster standard deviation**.\n",
    "3. **Compute across-cluster standard deviation of within-cluster average speeds**.\n",
    "4. **Is this average variance reasonable?** To assess what \"reasonable\" means, consider these questions and how to answer them: (1) Do plus codes capture meaningful subpopulations? (2) Do differences between subpopulations outweigh differences within a subpopulation? Use the statistics above to answer these questions, and compute any additional statistics you need. Additionally explain *why these questions are important to assessing the quality of a spatial clustering*.\n",
    "\n",
    "**Hint**: Run the autograder first to ensure your variance average and average variance are correct, before starting to draw conclusions.\n",
    "\n",
    "In the first cell, write your written answers. In the second cell, complete the code.\n",
    "\n",
    "<!--\n",
    "BEGIN QUESTION\n",
    "name: q1bv1\n",
    "points: 2\n",
    "manual: True\n",
    "-->\n",
    "\n"
   ]
  },
  {
   "cell_type": "markdown",
   "id": "9f344ee2",
   "metadata": {},
   "source": [
    "_Type your answer here, replacing this text._"
   ]
  },
  {
   "cell_type": "markdown",
   "id": "3e45a362",
   "metadata": {
    "deletable": false,
    "editable": false
   },
   "source": [
    "<!-- END QUESTION -->\n",
    "\n",
    "<!-- BEGIN QUESTION -->\n",
    "\n",
    "<!--\n",
    "BEGIN QUESTION\n",
    "name: q1bv2\n",
    "points: 2\n",
    "manual: True\n",
    "-->"
   ]
  },
  {
   "cell_type": "code",
   "execution_count": 15,
   "id": "00d9ec83",
   "metadata": {
    "scrolled": true
   },
   "outputs": [
    {
     "data": {
      "image/png": "[encoded data removed]",
      "text/plain": [
       "<Figure size 432x288 with 1 Axes>"
      ]
     },
     "metadata": {
      "needs_background": "light"
     },
     "output_type": "display_data"
    }
   ],
   "source": [
    "speed_variance_by_pluscode =  speeds_to_gps.groupby(['plus_latitude_idx','plus_longitude_idx']).agg({'speed_mph_mean': 'std'})# compute traffic speed variance in each plus code region\n",
    "# plot a histogram\n",
    "average_variance_by_pluscode = speed_variance_by_pluscode['speed_mph_mean'].mean()\n",
    "variance_average_by_pluscode = speeds_to_gps.groupby(['plus_latitude_idx','plus_longitude_idx']).agg({'speed_mph_mean': 'mean'})['speed_mph_mean'].std()\n",
    "import seaborn as sns\n",
    "#speed_variance_by_pluscode['speed_mph_mean'].plot(kind='hist')\n",
    "sns.histplot(data=speed_variance_by_pluscode,x ='speed_mph_mean',alpha =0.5)\n",
    "sns.histplot(data=speeds_to_gps.groupby(['plus_latitude_idx','plus_longitude_idx']).agg({'speed_mph_mean': 'mean'}),x ='speed_mph_mean',alpha =0.5,color='yellow')\n",
    "plt.legend(['std','mean'])\n",
    "plt.show()\n",
    "\n"
   ]
  },
  {
   "cell_type": "markdown",
   "id": "7b9b9177",
   "metadata": {
    "deletable": false,
    "editable": false
   },
   "source": [
    "<!-- END QUESTION -->\n",
    "\n",
    "<!--\n",
    "BEGIN QUESTION\n",
    "name: q1bv3\n",
    "points: 3\n",
    "-->"
   ]
  },
  {
   "cell_type": "code",
   "execution_count": 16,
   "id": "dddeeddd",
   "metadata": {},
   "outputs": [
    {
     "data": {
      "text/html": [
       "<div>\n",
       "<style scoped>\n",
       "    .dataframe tbody tr th:only-of-type {\n",
       "        vertical-align: middle;\n",
       "    }\n",
       "\n",
       "    .dataframe tbody tr th {\n",
       "        vertical-align: top;\n",
       "    }\n",
       "\n",
       "    .dataframe thead th {\n",
       "        text-align: right;\n",
       "    }\n",
       "</style>\n",
       "<table border=\"1\" class=\"dataframe\">\n",
       "  <thead>\n",
       "    <tr style=\"text-align: right;\">\n",
       "      <th></th>\n",
       "      <th></th>\n",
       "      <th>speed_mph_mean</th>\n",
       "    </tr>\n",
       "    <tr>\n",
       "      <th>plus_latitude_idx</th>\n",
       "      <th>plus_longitude_idx</th>\n",
       "      <th></th>\n",
       "    </tr>\n",
       "  </thead>\n",
       "  <tbody>\n",
       "    <tr>\n",
       "      <th rowspan=\"3\" valign=\"top\">3128</th>\n",
       "      <th>-10210</th>\n",
       "      <td>3.650232</td>\n",
       "    </tr>\n",
       "    <tr>\n",
       "      <th>-10198</th>\n",
       "      <td>20.704487</td>\n",
       "    </tr>\n",
       "    <tr>\n",
       "      <th>-10194</th>\n",
       "      <td>12.342234</td>\n",
       "    </tr>\n",
       "    <tr>\n",
       "      <th rowspan=\"2\" valign=\"top\">3129</th>\n",
       "      <th>-10210</th>\n",
       "      <td>4.083821</td>\n",
       "    </tr>\n",
       "    <tr>\n",
       "      <th>-10199</th>\n",
       "      <td>21.390912</td>\n",
       "    </tr>\n",
       "    <tr>\n",
       "      <th>...</th>\n",
       "      <th>...</th>\n",
       "      <td>...</td>\n",
       "    </tr>\n",
       "    <tr>\n",
       "      <th rowspan=\"5\" valign=\"top\">3160</th>\n",
       "      <th>-10198</th>\n",
       "      <td>15.293632</td>\n",
       "    </tr>\n",
       "    <tr>\n",
       "      <th>-10197</th>\n",
       "      <td>17.915911</td>\n",
       "    </tr>\n",
       "    <tr>\n",
       "      <th>-10196</th>\n",
       "      <td>14.243592</td>\n",
       "    </tr>\n",
       "    <tr>\n",
       "      <th>-10195</th>\n",
       "      <td>12.237229</td>\n",
       "    </tr>\n",
       "    <tr>\n",
       "      <th>-10194</th>\n",
       "      <td>17.590817</td>\n",
       "    </tr>\n",
       "  </tbody>\n",
       "</table>\n",
       "<p>276 rows × 1 columns</p>\n",
       "</div>"
      ],
      "text/plain": [
       "                                      speed_mph_mean\n",
       "plus_latitude_idx plus_longitude_idx                \n",
       "3128              -10210                    3.650232\n",
       "                  -10198                   20.704487\n",
       "                  -10194                   12.342234\n",
       "3129              -10210                    4.083821\n",
       "                  -10199                   21.390912\n",
       "...                                              ...\n",
       "3160              -10198                   15.293632\n",
       "                  -10197                   17.915911\n",
       "                  -10196                   14.243592\n",
       "                  -10195                   12.237229\n",
       "                  -10194                   17.590817\n",
       "\n",
       "[276 rows x 1 columns]"
      ]
     },
     "execution_count": 16,
     "metadata": {},
     "output_type": "execute_result"
    }
   ],
   "source": [
    "speed_variance_by_pluscode"
   ]
  },
  {
   "cell_type": "code",
   "execution_count": 17,
   "id": "d6cf561a",
   "metadata": {
    "deletable": false,
    "editable": false
   },
   "outputs": [
    {
     "data": {
      "text/html": [
       "<p><strong><pre style='display: inline;'>q1bv3</pre></strong> passed!</p>"
      ],
      "text/plain": [
       "q1bv3 results: All test cases passed!"
      ]
     },
     "execution_count": 17,
     "metadata": {},
     "output_type": "execute_result"
    }
   ],
   "source": [
    "grader.check(\"q1bv3\")"
   ]
  },
  {
   "cell_type": "markdown",
   "id": "5a7a6e79",
   "metadata": {},
   "source": [
    "## 1.c. Map traffic speed to census tract.\n",
    "\n",
    "Census tracts divide the space much less uniformly, subdividing regions that we were interested in into smaller zones. This suggests promise in providing informative spatial segments. Note that the daily traffic speeds are provided between OpenStreetMap (OSM) nodes, so we'll need to map nodes to census tracts somehow.\n",
    "\n",
    "Above, we've mapped traffic speeds to GPS coordinates. Below, we'll then link GPS coordinates to census tracts, to complete the mapping from traffic speeds to census tracts."
   ]
  },
  {
   "cell_type": "markdown",
   "id": "d02aca27",
   "metadata": {
    "deletable": false,
    "editable": false
   },
   "source": [
    "### 1.c.i. Download Census Tracts Geojson\n",
    "\n",
    "**Load the census tracts geojson.** Make sure to see the relevant [geopandas io documentation](https://geopandas.org/docs/user_guide/io.html) to see how to load a geojson.\n",
    "\n",
    "**Hint**: It should take you just one line to load.\n",
    "\n",
    "<!--\n",
    "BEGIN QUESTION\n",
    "name: q1ci\n",
    "points: 1\n",
    "-->"
   ]
  },
  {
   "cell_type": "code",
   "execution_count": 18,
   "id": "905c8c7e",
   "metadata": {
    "scrolled": true
   },
   "outputs": [
    {
     "data": {
      "text/html": [
       "<div>\n",
       "<style scoped>\n",
       "    .dataframe tbody tr th:only-of-type {\n",
       "        vertical-align: middle;\n",
       "    }\n",
       "\n",
       "    .dataframe tbody tr th {\n",
       "        vertical-align: top;\n",
       "    }\n",
       "\n",
       "    .dataframe thead th {\n",
       "        text-align: right;\n",
       "    }\n",
       "</style>\n",
       "<table border=\"1\" class=\"dataframe\">\n",
       "  <thead>\n",
       "    <tr style=\"text-align: right;\">\n",
       "      <th></th>\n",
       "      <th>MOVEMENT_ID</th>\n",
       "      <th>DISPLAY_NAME</th>\n",
       "      <th>geometry</th>\n",
       "    </tr>\n",
       "  </thead>\n",
       "  <tbody>\n",
       "    <tr>\n",
       "      <th>0</th>\n",
       "      <td>1</td>\n",
       "      <td>Sargent Creek, San Ardo</td>\n",
       "      <td>MULTIPOLYGON (((-121.59511 36.11126, -121.5401...</td>\n",
       "    </tr>\n",
       "    <tr>\n",
       "      <th>1</th>\n",
       "      <td>2</td>\n",
       "      <td>400 Northumberland Avenue, Redwood Oaks, Redwo...</td>\n",
       "      <td>MULTIPOLYGON (((-122.22463 37.46507, -122.2236...</td>\n",
       "    </tr>\n",
       "    <tr>\n",
       "      <th>2</th>\n",
       "      <td>3</td>\n",
       "      <td>18300 Sutter Boulevard, Morgan Hill</td>\n",
       "      <td>MULTIPOLYGON (((-121.67978 37.15859, -121.6719...</td>\n",
       "    </tr>\n",
       "    <tr>\n",
       "      <th>3</th>\n",
       "      <td>4</td>\n",
       "      <td>2700 Stoughton Way, Sheffield, Sacramento</td>\n",
       "      <td>MULTIPOLYGON (((-121.35921 38.57175, -121.3462...</td>\n",
       "    </tr>\n",
       "    <tr>\n",
       "      <th>4</th>\n",
       "      <td>5</td>\n",
       "      <td>3200 Huntsman Drive, Rosemont Park, Sacramento</td>\n",
       "      <td>MULTIPOLYGON (((-121.37512 38.55309, -121.3715...</td>\n",
       "    </tr>\n",
       "    <tr>\n",
       "      <th>...</th>\n",
       "      <td>...</td>\n",
       "      <td>...</td>\n",
       "      <td>...</td>\n",
       "    </tr>\n",
       "    <tr>\n",
       "      <th>2705</th>\n",
       "      <td>2706</td>\n",
       "      <td>10000 Bobbell Drive, Elk Grove</td>\n",
       "      <td>MULTIPOLYGON (((-121.48392 38.40874, -121.4787...</td>\n",
       "    </tr>\n",
       "    <tr>\n",
       "      <th>2706</th>\n",
       "      <td>2707</td>\n",
       "      <td>400 Ericwood Court, Manteca</td>\n",
       "      <td>MULTIPOLYGON (((-121.22695 37.82647, -121.2185...</td>\n",
       "    </tr>\n",
       "    <tr>\n",
       "      <th>2707</th>\n",
       "      <td>2708</td>\n",
       "      <td>200 Westview Drive, Sunshine Gardens, South Sa...</td>\n",
       "      <td>MULTIPOLYGON (((-122.45179 37.66912, -122.4506...</td>\n",
       "    </tr>\n",
       "    <tr>\n",
       "      <th>2708</th>\n",
       "      <td>2709</td>\n",
       "      <td>1200 Halyard Drive, West Sacramento</td>\n",
       "      <td>MULTIPOLYGON (((-121.58346 38.57860, -121.5827...</td>\n",
       "    </tr>\n",
       "    <tr>\n",
       "      <th>2709</th>\n",
       "      <td>2710</td>\n",
       "      <td>2500 Clubhouse Drive West, Whitney Oaks, Rocklin</td>\n",
       "      <td>MULTIPOLYGON (((-121.25720 38.82472, -121.2545...</td>\n",
       "    </tr>\n",
       "  </tbody>\n",
       "</table>\n",
       "<p>2710 rows × 3 columns</p>\n",
       "</div>"
      ],
      "text/plain": [
       "      MOVEMENT_ID                                       DISPLAY_NAME  \\\n",
       "0               1                            Sargent Creek, San Ardo   \n",
       "1               2  400 Northumberland Avenue, Redwood Oaks, Redwo...   \n",
       "2               3                18300 Sutter Boulevard, Morgan Hill   \n",
       "3               4          2700 Stoughton Way, Sheffield, Sacramento   \n",
       "4               5     3200 Huntsman Drive, Rosemont Park, Sacramento   \n",
       "...           ...                                                ...   \n",
       "2705         2706                     10000 Bobbell Drive, Elk Grove   \n",
       "2706         2707                        400 Ericwood Court, Manteca   \n",
       "2707         2708  200 Westview Drive, Sunshine Gardens, South Sa...   \n",
       "2708         2709                1200 Halyard Drive, West Sacramento   \n",
       "2709         2710   2500 Clubhouse Drive West, Whitney Oaks, Rocklin   \n",
       "\n",
       "                                               geometry  \n",
       "0     MULTIPOLYGON (((-121.59511 36.11126, -121.5401...  \n",
       "1     MULTIPOLYGON (((-122.22463 37.46507, -122.2236...  \n",
       "2     MULTIPOLYGON (((-121.67978 37.15859, -121.6719...  \n",
       "3     MULTIPOLYGON (((-121.35921 38.57175, -121.3462...  \n",
       "4     MULTIPOLYGON (((-121.37512 38.55309, -121.3715...  \n",
       "...                                                 ...  \n",
       "2705  MULTIPOLYGON (((-121.48392 38.40874, -121.4787...  \n",
       "2706  MULTIPOLYGON (((-121.22695 37.82647, -121.2185...  \n",
       "2707  MULTIPOLYGON (((-122.45179 37.66912, -122.4506...  \n",
       "2708  MULTIPOLYGON (((-121.58346 38.57860, -121.5827...  \n",
       "2709  MULTIPOLYGON (((-121.25720 38.82472, -121.2545...  \n",
       "\n",
       "[2710 rows x 3 columns]"
      ]
     },
     "execution_count": 18,
     "metadata": {},
     "output_type": "execute_result"
    }
   ],
   "source": [
    "PATH_TRACTS = os.path.expanduser('data/san_francisco_censustracts.json')\n",
    "tract_to_gps = gpd.read_file(PATH_TRACTS)\n",
    "tract_to_gps['MOVEMENT_ID'] = tract_to_gps['MOVEMENT_ID'].astype(int)\n",
    "tract_to_gps"
   ]
  },
  {
   "cell_type": "code",
   "execution_count": 19,
   "id": "7ad51eba",
   "metadata": {
    "deletable": false,
    "editable": false
   },
   "outputs": [
    {
     "data": {
      "text/html": [
       "<p><strong><pre style='display: inline;'>q1ci</pre></strong> passed!</p>"
      ],
      "text/plain": [
       "q1ci results: All test cases passed!"
      ]
     },
     "execution_count": 19,
     "metadata": {},
     "output_type": "execute_result"
    }
   ],
   "source": [
    "grader.check(\"q1ci\")"
   ]
  },
  {
   "cell_type": "markdown",
   "id": "9a801db2",
   "metadata": {
    "deletable": false,
    "editable": false
   },
   "source": [
    "### 1.c.ii Map traffic speed to census tracts.\n",
    "\n",
    "You will need to *spatially join* the (1) mapping from traffic speed to GPS coordinates `speed_to_gps` and (2) the mapping from GPS coordinates to boundaries of census tracts `tract_to_gps` to group all traffic speeds by census tract. This \"spatial join\" is an advanced feature recently released (as of time of writing, in Oct 2021) in geopandas, which allows us to connect single points to their enclosing polygons. You will do this question in 3 parts:\n",
    "\n",
    "1. Convert the last dataframe `speeds_to_gps` into a geopandas dataframe `speeds_to_points`, where GPS coordinates are now geopandas points. See this tutorial: https://geopandas.org/gallery/create_geopandas_from_pandas.html#From-longitudes-and-latitudes\n",
    "2. Set the coordinate-system for the new geopandas dataframe to the \"world geodesic system\" [link](https://epsg.io/4326), or in other words, the coordinate system that GPS coordinates are reported in.\n",
    "3. Compute a spatial join between census tracts `tract_to_gps` and the geopandas traffic speeds `speeds_to_points`\n",
    "\n",
    "<!--\n",
    "BEGIN QUESTION\n",
    "name: q1cii\n",
    "points: 4\n",
    "-->"
   ]
  },
  {
   "cell_type": "code",
   "execution_count": 20,
   "id": "0d2640f0",
   "metadata": {},
   "outputs": [
    {
     "name": "stderr",
     "output_type": "stream",
     "text": [
      "/home/frank/miniconda3/envs/data100/lib/python3.6/site-packages/ipykernel_launcher.py:6: UserWarning: CRS mismatch between the CRS of left geometries and the CRS of right geometries.\n",
      "Use `to_crs()` to reproject one of the input geometries to match the CRS of the other.\n",
      "\n",
      "Left CRS: EPSG:4326\n",
      "Right CRS: None\n",
      "\n",
      "  \n"
     ]
    },
    {
     "data": {
      "text/html": [
       "<div>\n",
       "<style scoped>\n",
       "    .dataframe tbody tr th:only-of-type {\n",
       "        vertical-align: middle;\n",
       "    }\n",
       "\n",
       "    .dataframe tbody tr th {\n",
       "        vertical-align: top;\n",
       "    }\n",
       "\n",
       "    .dataframe thead th {\n",
       "        text-align: right;\n",
       "    }\n",
       "</style>\n",
       "<table border=\"1\" class=\"dataframe\">\n",
       "  <thead>\n",
       "    <tr style=\"text-align: right;\">\n",
       "      <th></th>\n",
       "      <th>MOVEMENT_ID</th>\n",
       "      <th>DISPLAY_NAME</th>\n",
       "      <th>geometry</th>\n",
       "      <th>index_right</th>\n",
       "      <th>osm_start_node_id</th>\n",
       "      <th>osm_end_node_id</th>\n",
       "      <th>day</th>\n",
       "      <th>speed_mph_mean</th>\n",
       "      <th>osm_node_id</th>\n",
       "      <th>Latitude</th>\n",
       "      <th>Longitude</th>\n",
       "      <th>plus_latitude_idx</th>\n",
       "      <th>plus_longitude_idx</th>\n",
       "    </tr>\n",
       "  </thead>\n",
       "  <tbody>\n",
       "    <tr>\n",
       "      <th>8</th>\n",
       "      <td>9</td>\n",
       "      <td>500 Hyde Street, Tenderloin, San Francisco</td>\n",
       "      <td>MULTIPOLYGON (((-122.41827 37.78704, -122.4150...</td>\n",
       "      <td>346374</td>\n",
       "      <td>5429620647</td>\n",
       "      <td>65333834</td>\n",
       "      <td>16</td>\n",
       "      <td>4.390000</td>\n",
       "      <td>5429620647</td>\n",
       "      <td>37.784356</td>\n",
       "      <td>-122.416866</td>\n",
       "      <td>3148</td>\n",
       "      <td>-10202</td>\n",
       "    </tr>\n",
       "    <tr>\n",
       "      <th>8</th>\n",
       "      <td>9</td>\n",
       "      <td>500 Hyde Street, Tenderloin, San Francisco</td>\n",
       "      <td>MULTIPOLYGON (((-122.41827 37.78704, -122.4150...</td>\n",
       "      <td>346370</td>\n",
       "      <td>5429620647</td>\n",
       "      <td>65333834</td>\n",
       "      <td>12</td>\n",
       "      <td>8.373600</td>\n",
       "      <td>5429620647</td>\n",
       "      <td>37.784356</td>\n",
       "      <td>-122.416866</td>\n",
       "      <td>3148</td>\n",
       "      <td>-10202</td>\n",
       "    </tr>\n",
       "    <tr>\n",
       "      <th>8</th>\n",
       "      <td>9</td>\n",
       "      <td>500 Hyde Street, Tenderloin, San Francisco</td>\n",
       "      <td>MULTIPOLYGON (((-122.41827 37.78704, -122.4150...</td>\n",
       "      <td>346366</td>\n",
       "      <td>5429620647</td>\n",
       "      <td>65333831</td>\n",
       "      <td>10</td>\n",
       "      <td>10.491000</td>\n",
       "      <td>5429620647</td>\n",
       "      <td>37.784356</td>\n",
       "      <td>-122.416866</td>\n",
       "      <td>3148</td>\n",
       "      <td>-10202</td>\n",
       "    </tr>\n",
       "    <tr>\n",
       "      <th>8</th>\n",
       "      <td>9</td>\n",
       "      <td>500 Hyde Street, Tenderloin, San Francisco</td>\n",
       "      <td>MULTIPOLYGON (((-122.41827 37.78704, -122.4150...</td>\n",
       "      <td>346360</td>\n",
       "      <td>5429620647</td>\n",
       "      <td>65333834</td>\n",
       "      <td>5</td>\n",
       "      <td>11.634500</td>\n",
       "      <td>5429620647</td>\n",
       "      <td>37.784356</td>\n",
       "      <td>-122.416866</td>\n",
       "      <td>3148</td>\n",
       "      <td>-10202</td>\n",
       "    </tr>\n",
       "    <tr>\n",
       "      <th>8</th>\n",
       "      <td>9</td>\n",
       "      <td>500 Hyde Street, Tenderloin, San Francisco</td>\n",
       "      <td>MULTIPOLYGON (((-122.41827 37.78704, -122.4150...</td>\n",
       "      <td>346361</td>\n",
       "      <td>5429620647</td>\n",
       "      <td>65333831</td>\n",
       "      <td>6</td>\n",
       "      <td>5.826500</td>\n",
       "      <td>5429620647</td>\n",
       "      <td>37.784356</td>\n",
       "      <td>-122.416866</td>\n",
       "      <td>3148</td>\n",
       "      <td>-10202</td>\n",
       "    </tr>\n",
       "    <tr>\n",
       "      <th>...</th>\n",
       "      <td>...</td>\n",
       "      <td>...</td>\n",
       "      <td>...</td>\n",
       "      <td>...</td>\n",
       "      <td>...</td>\n",
       "      <td>...</td>\n",
       "      <td>...</td>\n",
       "      <td>...</td>\n",
       "      <td>...</td>\n",
       "      <td>...</td>\n",
       "      <td>...</td>\n",
       "      <td>...</td>\n",
       "      <td>...</td>\n",
       "    </tr>\n",
       "    <tr>\n",
       "      <th>2707</th>\n",
       "      <td>2708</td>\n",
       "      <td>200 Westview Drive, Sunshine Gardens, South Sa...</td>\n",
       "      <td>MULTIPOLYGON (((-122.45179 37.66912, -122.4506...</td>\n",
       "      <td>393115</td>\n",
       "      <td>65436480</td>\n",
       "      <td>4550820797</td>\n",
       "      <td>6</td>\n",
       "      <td>23.799333</td>\n",
       "      <td>65436480</td>\n",
       "      <td>37.661119</td>\n",
       "      <td>-122.438615</td>\n",
       "      <td>3138</td>\n",
       "      <td>-10204</td>\n",
       "    </tr>\n",
       "    <tr>\n",
       "      <th>2707</th>\n",
       "      <td>2708</td>\n",
       "      <td>200 Westview Drive, Sunshine Gardens, South Sa...</td>\n",
       "      <td>MULTIPOLYGON (((-122.45179 37.66912, -122.4506...</td>\n",
       "      <td>393127</td>\n",
       "      <td>65436480</td>\n",
       "      <td>4552055202</td>\n",
       "      <td>13</td>\n",
       "      <td>23.748000</td>\n",
       "      <td>65436480</td>\n",
       "      <td>37.661119</td>\n",
       "      <td>-122.438615</td>\n",
       "      <td>3138</td>\n",
       "      <td>-10204</td>\n",
       "    </tr>\n",
       "    <tr>\n",
       "      <th>2707</th>\n",
       "      <td>2708</td>\n",
       "      <td>200 Westview Drive, Sunshine Gardens, South Sa...</td>\n",
       "      <td>MULTIPOLYGON (((-122.45179 37.66912, -122.4506...</td>\n",
       "      <td>395725</td>\n",
       "      <td>267053289</td>\n",
       "      <td>5435703115</td>\n",
       "      <td>9</td>\n",
       "      <td>21.266000</td>\n",
       "      <td>267053289</td>\n",
       "      <td>37.663610</td>\n",
       "      <td>-122.441970</td>\n",
       "      <td>3138</td>\n",
       "      <td>-10204</td>\n",
       "    </tr>\n",
       "    <tr>\n",
       "      <th>2707</th>\n",
       "      <td>2708</td>\n",
       "      <td>200 Westview Drive, Sunshine Gardens, South Sa...</td>\n",
       "      <td>MULTIPOLYGON (((-122.45179 37.66912, -122.4506...</td>\n",
       "      <td>412803</td>\n",
       "      <td>2278938365</td>\n",
       "      <td>267053289</td>\n",
       "      <td>9</td>\n",
       "      <td>10.968000</td>\n",
       "      <td>2278938365</td>\n",
       "      <td>37.664004</td>\n",
       "      <td>-122.442453</td>\n",
       "      <td>3138</td>\n",
       "      <td>-10204</td>\n",
       "    </tr>\n",
       "    <tr>\n",
       "      <th>2707</th>\n",
       "      <td>2708</td>\n",
       "      <td>200 Westview Drive, Sunshine Gardens, South Sa...</td>\n",
       "      <td>MULTIPOLYGON (((-122.45179 37.66912, -122.4506...</td>\n",
       "      <td>412802</td>\n",
       "      <td>2278938365</td>\n",
       "      <td>267053289</td>\n",
       "      <td>3</td>\n",
       "      <td>12.112500</td>\n",
       "      <td>2278938365</td>\n",
       "      <td>37.664004</td>\n",
       "      <td>-122.442453</td>\n",
       "      <td>3138</td>\n",
       "      <td>-10204</td>\n",
       "    </tr>\n",
       "  </tbody>\n",
       "</table>\n",
       "<p>418848 rows × 13 columns</p>\n",
       "</div>"
      ],
      "text/plain": [
       "      MOVEMENT_ID                                       DISPLAY_NAME  \\\n",
       "8               9         500 Hyde Street, Tenderloin, San Francisco   \n",
       "8               9         500 Hyde Street, Tenderloin, San Francisco   \n",
       "8               9         500 Hyde Street, Tenderloin, San Francisco   \n",
       "8               9         500 Hyde Street, Tenderloin, San Francisco   \n",
       "8               9         500 Hyde Street, Tenderloin, San Francisco   \n",
       "...           ...                                                ...   \n",
       "2707         2708  200 Westview Drive, Sunshine Gardens, South Sa...   \n",
       "2707         2708  200 Westview Drive, Sunshine Gardens, South Sa...   \n",
       "2707         2708  200 Westview Drive, Sunshine Gardens, South Sa...   \n",
       "2707         2708  200 Westview Drive, Sunshine Gardens, South Sa...   \n",
       "2707         2708  200 Westview Drive, Sunshine Gardens, South Sa...   \n",
       "\n",
       "                                               geometry  index_right  \\\n",
       "8     MULTIPOLYGON (((-122.41827 37.78704, -122.4150...       346374   \n",
       "8     MULTIPOLYGON (((-122.41827 37.78704, -122.4150...       346370   \n",
       "8     MULTIPOLYGON (((-122.41827 37.78704, -122.4150...       346366   \n",
       "8     MULTIPOLYGON (((-122.41827 37.78704, -122.4150...       346360   \n",
       "8     MULTIPOLYGON (((-122.41827 37.78704, -122.4150...       346361   \n",
       "...                                                 ...          ...   \n",
       "2707  MULTIPOLYGON (((-122.45179 37.66912, -122.4506...       393115   \n",
       "2707  MULTIPOLYGON (((-122.45179 37.66912, -122.4506...       393127   \n",
       "2707  MULTIPOLYGON (((-122.45179 37.66912, -122.4506...       395725   \n",
       "2707  MULTIPOLYGON (((-122.45179 37.66912, -122.4506...       412803   \n",
       "2707  MULTIPOLYGON (((-122.45179 37.66912, -122.4506...       412802   \n",
       "\n",
       "      osm_start_node_id  osm_end_node_id  day  speed_mph_mean  osm_node_id  \\\n",
       "8            5429620647         65333834   16        4.390000   5429620647   \n",
       "8            5429620647         65333834   12        8.373600   5429620647   \n",
       "8            5429620647         65333831   10       10.491000   5429620647   \n",
       "8            5429620647         65333834    5       11.634500   5429620647   \n",
       "8            5429620647         65333831    6        5.826500   5429620647   \n",
       "...                 ...              ...  ...             ...          ...   \n",
       "2707           65436480       4550820797    6       23.799333     65436480   \n",
       "2707           65436480       4552055202   13       23.748000     65436480   \n",
       "2707          267053289       5435703115    9       21.266000    267053289   \n",
       "2707         2278938365        267053289    9       10.968000   2278938365   \n",
       "2707         2278938365        267053289    3       12.112500   2278938365   \n",
       "\n",
       "       Latitude   Longitude  plus_latitude_idx  plus_longitude_idx  \n",
       "8     37.784356 -122.416866               3148              -10202  \n",
       "8     37.784356 -122.416866               3148              -10202  \n",
       "8     37.784356 -122.416866               3148              -10202  \n",
       "8     37.784356 -122.416866               3148              -10202  \n",
       "8     37.784356 -122.416866               3148              -10202  \n",
       "...         ...         ...                ...                 ...  \n",
       "2707  37.661119 -122.438615               3138              -10204  \n",
       "2707  37.661119 -122.438615               3138              -10204  \n",
       "2707  37.663610 -122.441970               3138              -10204  \n",
       "2707  37.664004 -122.442453               3138              -10204  \n",
       "2707  37.664004 -122.442453               3138              -10204  \n",
       "\n",
       "[418848 rows x 13 columns]"
      ]
     },
     "execution_count": 20,
     "metadata": {},
     "output_type": "execute_result"
    }
   ],
   "source": [
    "speeds_to_points = gpd.GeoDataFrame(speeds_to_gps,\n",
    "                    geometry=gpd.points_from_xy(speeds_to_gps.Longitude,speeds_to_gps.Latitude))\n",
    "speeds_to_points['geometry'] = speeds_to_points['geometry'].set_crs('epsg:4326')\n",
    "#speeds_to_points['geometry'].crs\n",
    "#tract_to_gps.crs = speeds_to_points.crs\n",
    "speeds_to_tract = gpd.sjoin(tract_to_gps,speeds_to_points)\n",
    "\n",
    "\n",
    "speeds_to_tract"
   ]
  },
  {
   "cell_type": "code",
   "execution_count": 21,
   "id": "cc8207f3",
   "metadata": {
    "deletable": false,
    "editable": false
   },
   "outputs": [
    {
     "data": {
      "text/html": [
       "<p><strong><pre style='display: inline;'>q1cii</pre></strong> passed!</p>"
      ],
      "text/plain": [
       "q1cii results: All test cases passed!"
      ]
     },
     "execution_count": 21,
     "metadata": {},
     "output_type": "execute_result"
    }
   ],
   "source": [
    "grader.check(\"q1cii\")"
   ]
  },
  {
   "cell_type": "markdown",
   "id": "c1746a1d",
   "metadata": {
    "deletable": false,
    "editable": false
   },
   "source": [
    "### 1.c.iii. Aggregate movement speeds by census tract.\n",
    "\n",
    "- Create a new dataframe `speeds_by_tract` to group movement speeds by census tract. See the outputted dataframe from 1.c.i. to check how census tracts are identified.\n",
    "- Always double-check your numbers. **Report the number of census tracts** in your dataset.\n",
    "\n",
    "<!--\n",
    "BEGIN QUESTION\n",
    "name: q1ciii\n",
    "points: 2\n",
    "-->"
   ]
  },
  {
   "cell_type": "code",
   "execution_count": 22,
   "id": "4b59dacd",
   "metadata": {},
   "outputs": [
    {
     "data": {
      "text/plain": [
       "295"
      ]
     },
     "execution_count": 22,
     "metadata": {},
     "output_type": "execute_result"
    }
   ],
   "source": [
    "speeds_by_tract = speeds_to_tract.groupby('MOVEMENT_ID').agg({'speed_mph_mean':['mean','std']})\n",
    "num_census_tracts = len(speeds_to_tract['MOVEMENT_ID'].unique())\n",
    "\n",
    "num_census_tracts"
   ]
  },
  {
   "cell_type": "code",
   "execution_count": 23,
   "id": "13ea4bd8",
   "metadata": {
    "deletable": false,
    "editable": false
   },
   "outputs": [
    {
     "data": {
      "text/html": [
       "<p><strong><pre style='display: inline;'>q1ciii</pre></strong> passed!</p>"
      ],
      "text/plain": [
       "q1ciii results: All test cases passed!"
      ]
     },
     "execution_count": 23,
     "metadata": {},
     "output_type": "execute_result"
    }
   ],
   "source": [
    "grader.check(\"q1ciii\")"
   ]
  },
  {
   "cell_type": "markdown",
   "id": "50d28ba4",
   "metadata": {
    "deletable": false,
    "editable": false
   },
   "source": [
    "<!-- BEGIN QUESTION -->\n",
    "\n",
    "### 1.c.iv. How well do census tracts summarize movement speeds?\n",
    "\n",
    "The following will give us an idea of how well the average represents traffic speed per plus code region. For these questions, we'll refer to a \"census tract\" as a \"cluster\":\n",
    "\n",
    "1. **Plot a histogram of the within-cluster standard deviation**.\n",
    "2. **Compute across-cluster average of within-cluster standard deviation**.\n",
    "3. **Compute across-cluster standard deviation of within-cluster average speeds**.\n",
    "4. **Is this average variance reasonable?** To assess what \"reasonable\" means, consider these questions and how to answer them: (1) Do plus codes capture meaningful subpopulations? (2) Do differences between subpopulations outweigh differences within a subpopulation? Use these ideas to assess whether the average standard deviation is high or not.\n",
    "\n",
    "Note: We are using the speed metric of miles per hour here.\n",
    "\n",
    "Just like before, please written answers in the first cell and coding answers in the second cell.\n",
    "<!--5. Using the above, how would you **compare census tracts to plus codes, in terms of its effectiveness** as a spatial clustering mechanism for analyzing traffic speeds? Compare the statistics you've computed. What does it mean for one to be higher than the other?-->\n",
    "\n",
    "<!--\n",
    "BEGIN QUESTION\n",
    "name: q1civ1\n",
    "points: 2\n",
    "manual: True\n",
    "-->\n",
    "\n"
   ]
  },
  {
   "cell_type": "markdown",
   "id": "a4e477c2",
   "metadata": {},
   "source": [
    "_Type your answer here, replacing this text._"
   ]
  },
  {
   "cell_type": "markdown",
   "id": "7541ea2c",
   "metadata": {
    "deletable": false,
    "editable": false
   },
   "source": [
    "<!-- END QUESTION -->\n",
    "\n",
    "<!-- BEGIN QUESTION -->\n",
    "\n",
    "<!--\n",
    "BEGIN QUESTION\n",
    "name: q1civ2\n",
    "points: 2\n",
    "manual: True\n",
    "-->"
   ]
  },
  {
   "cell_type": "code",
   "execution_count": 24,
   "id": "7b0659c1",
   "metadata": {},
   "outputs": [
    {
     "name": "stdout",
     "output_type": "stream",
     "text": [
      "8.300873802949297 8.346122597861662\n"
     ]
    },
    {
     "data": {
      "text/plain": [
       "<matplotlib.legend.Legend at 0x7f9a297f32b0>"
      ]
     },
     "execution_count": 24,
     "metadata": {},
     "output_type": "execute_result"
    },
    {
     "data": {
      "image/png": "[encoded data removed]",
      "text/plain": [
       "<Figure size 432x288 with 1 Axes>"
      ]
     },
     "metadata": {
      "needs_background": "light"
     },
     "output_type": "display_data"
    }
   ],
   "source": [
    "speed_variance_by_tract = speeds_to_tract.groupby('MOVEMENT_ID').agg({'speed_mph_mean':['mean','std']})\n",
    "average_variance_by_tract = speed_variance_by_tract.iloc[:,1].mean()\n",
    "variance_average_by_tract = speed_variance_by_tract.iloc[:,0].std()\n",
    "print(average_variance_by_tract,variance_average_by_tract)\n",
    "\n",
    "sns.histplot(data=speed_variance_by_tract,x =('speed_mph_mean','mean'),alpha =0.5)\n",
    "sns.histplot(data=speed_variance_by_tract,x =('speed_mph_mean','std'),color='yellow',alpha =0.5)\n",
    "plt.legend(['mean','std'])"
   ]
  },
  {
   "cell_type": "markdown",
   "id": "e4152b14",
   "metadata": {
    "deletable": false,
    "editable": false
   },
   "source": [
    "<!-- END QUESTION -->\n",
    "\n",
    "<!--\n",
    "BEGIN QUESTION\n",
    "name: q1civ3\n",
    "points: 3\n",
    "-->"
   ]
  },
  {
   "cell_type": "code",
   "execution_count": 25,
   "id": "d67893fc",
   "metadata": {},
   "outputs": [
    {
     "data": {
      "text/html": [
       "<div>\n",
       "<style scoped>\n",
       "    .dataframe tbody tr th:only-of-type {\n",
       "        vertical-align: middle;\n",
       "    }\n",
       "\n",
       "    .dataframe tbody tr th {\n",
       "        vertical-align: top;\n",
       "    }\n",
       "\n",
       "    .dataframe thead tr th {\n",
       "        text-align: left;\n",
       "    }\n",
       "\n",
       "    .dataframe thead tr:last-of-type th {\n",
       "        text-align: right;\n",
       "    }\n",
       "</style>\n",
       "<table border=\"1\" class=\"dataframe\">\n",
       "  <thead>\n",
       "    <tr>\n",
       "      <th></th>\n",
       "      <th colspan=\"2\" halign=\"left\">speed_mph_mean</th>\n",
       "    </tr>\n",
       "    <tr>\n",
       "      <th></th>\n",
       "      <th>mean</th>\n",
       "      <th>std</th>\n",
       "    </tr>\n",
       "    <tr>\n",
       "      <th>MOVEMENT_ID</th>\n",
       "      <th></th>\n",
       "      <th></th>\n",
       "    </tr>\n",
       "  </thead>\n",
       "  <tbody>\n",
       "    <tr>\n",
       "      <th>9</th>\n",
       "      <td>15.316237</td>\n",
       "      <td>3.821144</td>\n",
       "    </tr>\n",
       "    <tr>\n",
       "      <th>20</th>\n",
       "      <td>16.277806</td>\n",
       "      <td>5.522853</td>\n",
       "    </tr>\n",
       "    <tr>\n",
       "      <th>21</th>\n",
       "      <td>14.468539</td>\n",
       "      <td>3.640453</td>\n",
       "    </tr>\n",
       "    <tr>\n",
       "      <th>44</th>\n",
       "      <td>24.146557</td>\n",
       "      <td>6.634154</td>\n",
       "    </tr>\n",
       "    <tr>\n",
       "      <th>78</th>\n",
       "      <td>16.237131</td>\n",
       "      <td>3.838873</td>\n",
       "    </tr>\n",
       "    <tr>\n",
       "      <th>...</th>\n",
       "      <td>...</td>\n",
       "      <td>...</td>\n",
       "    </tr>\n",
       "    <tr>\n",
       "      <th>2691</th>\n",
       "      <td>20.342143</td>\n",
       "      <td>3.379664</td>\n",
       "    </tr>\n",
       "    <tr>\n",
       "      <th>2694</th>\n",
       "      <td>18.832594</td>\n",
       "      <td>5.787065</td>\n",
       "    </tr>\n",
       "    <tr>\n",
       "      <th>2695</th>\n",
       "      <td>20.678365</td>\n",
       "      <td>4.617596</td>\n",
       "    </tr>\n",
       "    <tr>\n",
       "      <th>2700</th>\n",
       "      <td>34.534874</td>\n",
       "      <td>13.191079</td>\n",
       "    </tr>\n",
       "    <tr>\n",
       "      <th>2708</th>\n",
       "      <td>25.056990</td>\n",
       "      <td>7.136608</td>\n",
       "    </tr>\n",
       "  </tbody>\n",
       "</table>\n",
       "<p>295 rows × 2 columns</p>\n",
       "</div>"
      ],
      "text/plain": [
       "            speed_mph_mean           \n",
       "                      mean        std\n",
       "MOVEMENT_ID                          \n",
       "9                15.316237   3.821144\n",
       "20               16.277806   5.522853\n",
       "21               14.468539   3.640453\n",
       "44               24.146557   6.634154\n",
       "78               16.237131   3.838873\n",
       "...                    ...        ...\n",
       "2691             20.342143   3.379664\n",
       "2694             18.832594   5.787065\n",
       "2695             20.678365   4.617596\n",
       "2700             34.534874  13.191079\n",
       "2708             25.056990   7.136608\n",
       "\n",
       "[295 rows x 2 columns]"
      ]
     },
     "execution_count": 25,
     "metadata": {},
     "output_type": "execute_result"
    }
   ],
   "source": [
    "speed_variance_by_tract"
   ]
  },
  {
   "cell_type": "code",
   "execution_count": 26,
   "id": "450781dc",
   "metadata": {
    "deletable": false,
    "editable": false
   },
   "outputs": [
    {
     "data": {
      "text/html": [
       "<p><strong><pre style='display: inline;'>q1civ3</pre></strong> passed!</p>"
      ],
      "text/plain": [
       "q1civ3 results: All test cases passed!"
      ]
     },
     "execution_count": 26,
     "metadata": {},
     "output_type": "execute_result"
    }
   ],
   "source": [
    "grader.check(\"q1civ3\")"
   ]
  },
  {
   "cell_type": "markdown",
   "id": "c8719bc4",
   "metadata": {
    "deletable": false,
    "editable": false
   },
   "source": [
    "<!-- BEGIN QUESTION -->\n",
    "\n",
    "## 1.d. What would be the ideal spatial clustering?\n",
    "\n",
    "This is an active research problem in many spatiotemporal modeling communities, and there is no single agreed-upon answer. Answer both of the following specifically knowing that you'll need to analyze traffic patterns according to this spatial clustering:\n",
    "\n",
    "1. **What is a good metric for a spatial structure?** How do we define good? Bad? What information do we expect a spatial structure to yield? Use the above parts and questions to help answer this.\n",
    "2. **What would you do to optimize your own metric for success in a spatial structure?**\n",
    "\n",
    "See related articles:\n",
    "\n",
    "- Uber's H3 [link](https://eng.uber.com/h3/), which divides the world into hexagons\n",
    "- Traffic Analysis Zones (TAZ) [link](https://en.wikipedia.org/wiki/Traffic_analysis_zone), which takes census data and additionally accounts for vehicles per household when dividing space\n",
    "\n",
    "<!--\n",
    "BEGIN QUESTION\n",
    "name: q1d\n",
    "points: 3\n",
    "manual: True\n",
    "-->"
   ]
  },
  {
   "cell_type": "markdown",
   "id": "4fb3deac",
   "metadata": {},
   "source": [
    "_Type your answer here, replacing this text._"
   ]
  },
  {
   "cell_type": "markdown",
   "id": "e227a7d7",
   "metadata": {},
   "source": [
    "<!-- END QUESTION -->\n",
    "\n",
    "\n",
    "\n",
    "# Step 2 - Guided EDA: Understanding COVID Lockdown Impact on Traffic\n",
    "\n",
    "In this step, we'll examine the impact of COVID on traffic. In particular, we'll study 3 different questions:\n",
    "\n",
    "- How did lockdown affect traffic speed? What factors dictate how much lockdown affected traffic speed?\n",
    "- What areas of traffic were most impacted by lockdown?"
   ]
  },
  {
   "cell_type": "markdown",
   "id": "6df6189c",
   "metadata": {},
   "source": [
    "## 2.a. How did lockdown affect traffic speed?"
   ]
  },
  {
   "cell_type": "markdown",
   "id": "1a1d34be",
   "metadata": {
    "deletable": false,
    "editable": false
   },
   "source": [
    "<!-- BEGIN QUESTION -->\n",
    "\n",
    "### 2.a.i. Sort census tracts by average speed, pre-lockdown.\n",
    "\n",
    "Consider the pre-lockdown period to be March 1 - 13, before the first COVID-related restrictions (travel bans) were announced on March 14, 2020.\n",
    "\n",
    "1. **Report a DataFrame which includes the *names* of the 10 census tracts with the lowest average speed**, along with the average speed for each tract.\n",
    "2. **Report a DataFrame which includes the *names* of the 10 census tracts with the highest average speed**, along with the average speed for each tract.\n",
    "2. Do these names match your expectations for low speed or high speed traffic pre-lockdown?  What relationships do you notice? (What do the low-speed areas have in common? The high-speed areas?) For this specific question, answer qualitatively. No need to quantify. **Hint**: Look up some of the names on a map, to understand where they are.\n",
    "3. **Plot a histogram for all average speeds, pre-lockdown**.\n",
    "4. You will notice a long tail distribution of high speed traffic. What do you think this corresponds to in San Francisco? Write down your hypothesis.\n",
    "\n",
    "Hint: To start off, think about what joins may be useful to get the desired DataFrame.\n",
    "\n",
    "<!--\n",
    "BEGIN QUESTION\n",
    "name: q2ai1\n",
    "points: 3\n",
    "manual: True\n",
    "-->"
   ]
  },
  {
   "cell_type": "markdown",
   "id": "8cd6ab04",
   "metadata": {},
   "source": [
    "_Type your answer here, replacing this text._"
   ]
  },
  {
   "cell_type": "markdown",
   "id": "f3492fb9",
   "metadata": {
    "deletable": false,
    "editable": false
   },
   "source": [
    "<!-- END QUESTION -->\n",
    "\n",
    "Answer the following question:\n",
    "<!--\n",
    "BEGIN QUESTION\n",
    "name: q2ai2\n",
    "points: 3\n",
    "-->"
   ]
  },
  {
   "cell_type": "code",
   "execution_count": 27,
   "id": "3d1543e9",
   "metadata": {
    "scrolled": true
   },
   "outputs": [
    {
     "data": {
      "text/html": [
       "<div>\n",
       "<style scoped>\n",
       "    .dataframe tbody tr th:only-of-type {\n",
       "        vertical-align: middle;\n",
       "    }\n",
       "\n",
       "    .dataframe tbody tr th {\n",
       "        vertical-align: top;\n",
       "    }\n",
       "\n",
       "    .dataframe thead th {\n",
       "        text-align: right;\n",
       "    }\n",
       "</style>\n",
       "<table border=\"1\" class=\"dataframe\">\n",
       "  <thead>\n",
       "    <tr style=\"text-align: right;\">\n",
       "      <th></th>\n",
       "      <th>MOVEMENT_ID</th>\n",
       "      <th>DISPLAY_NAME</th>\n",
       "      <th>geometry</th>\n",
       "      <th>speed_mph_mean</th>\n",
       "    </tr>\n",
       "  </thead>\n",
       "  <tbody>\n",
       "    <tr>\n",
       "      <th>0</th>\n",
       "      <td>9</td>\n",
       "      <td>500 Hyde Street, Tenderloin, San Francisco</td>\n",
       "      <td>MULTIPOLYGON (((-122.41827 37.78704, -122.4150...</td>\n",
       "      <td>14.585102</td>\n",
       "    </tr>\n",
       "    <tr>\n",
       "      <th>1</th>\n",
       "      <td>20</td>\n",
       "      <td>900 Sutter Street, Lower Nob Hill, San Francisco</td>\n",
       "      <td>MULTIPOLYGON (((-122.42208 37.78847, -122.4153...</td>\n",
       "      <td>15.679922</td>\n",
       "    </tr>\n",
       "    <tr>\n",
       "      <th>2</th>\n",
       "      <td>21</td>\n",
       "      <td>3400 Pierce Street, Marina District, San Franc...</td>\n",
       "      <td>MULTIPOLYGON (((-122.44191 37.80374, -122.4371...</td>\n",
       "      <td>14.292445</td>\n",
       "    </tr>\n",
       "    <tr>\n",
       "      <th>3</th>\n",
       "      <td>44</td>\n",
       "      <td>1700 Egbert Avenue, Bayview, San Francisco</td>\n",
       "      <td>MULTIPOLYGON (((-122.40211 37.72779, -122.3998...</td>\n",
       "      <td>23.353083</td>\n",
       "    </tr>\n",
       "    <tr>\n",
       "      <th>4</th>\n",
       "      <td>78</td>\n",
       "      <td>1400 Thomas Avenue, Bayview, San Francisco</td>\n",
       "      <td>MULTIPOLYGON (((-122.39270 37.72928, -122.3918...</td>\n",
       "      <td>16.213552</td>\n",
       "    </tr>\n",
       "    <tr>\n",
       "      <th>...</th>\n",
       "      <td>...</td>\n",
       "      <td>...</td>\n",
       "      <td>...</td>\n",
       "      <td>...</td>\n",
       "    </tr>\n",
       "    <tr>\n",
       "      <th>290</th>\n",
       "      <td>2691</td>\n",
       "      <td>800 Hacienda Way, Millbrae</td>\n",
       "      <td>MULTIPOLYGON (((-122.42288 37.60714, -122.4187...</td>\n",
       "      <td>20.746333</td>\n",
       "    </tr>\n",
       "    <tr>\n",
       "      <th>291</th>\n",
       "      <td>2694</td>\n",
       "      <td>1900 Buchanan Street, Western Addition, San Fr...</td>\n",
       "      <td>MULTIPOLYGON (((-122.43549 37.78870, -122.4338...</td>\n",
       "      <td>17.042386</td>\n",
       "    </tr>\n",
       "    <tr>\n",
       "      <th>292</th>\n",
       "      <td>2695</td>\n",
       "      <td>2200 Rivera Street, Sunset District, San Franc...</td>\n",
       "      <td>MULTIPOLYGON (((-122.49505 37.74968, -122.4858...</td>\n",
       "      <td>20.029011</td>\n",
       "    </tr>\n",
       "    <tr>\n",
       "      <th>293</th>\n",
       "      <td>2700</td>\n",
       "      <td>300 Ponderosa Road, Avalon, South San Francisco</td>\n",
       "      <td>MULTIPOLYGON (((-122.44834 37.64598, -122.4460...</td>\n",
       "      <td>32.184422</td>\n",
       "    </tr>\n",
       "    <tr>\n",
       "      <th>294</th>\n",
       "      <td>2708</td>\n",
       "      <td>200 Westview Drive, Sunshine Gardens, South Sa...</td>\n",
       "      <td>MULTIPOLYGON (((-122.45179 37.66912, -122.4506...</td>\n",
       "      <td>24.822808</td>\n",
       "    </tr>\n",
       "  </tbody>\n",
       "</table>\n",
       "<p>295 rows × 4 columns</p>\n",
       "</div>"
      ],
      "text/plain": [
       "     MOVEMENT_ID                                       DISPLAY_NAME  \\\n",
       "0              9         500 Hyde Street, Tenderloin, San Francisco   \n",
       "1             20   900 Sutter Street, Lower Nob Hill, San Francisco   \n",
       "2             21  3400 Pierce Street, Marina District, San Franc...   \n",
       "3             44         1700 Egbert Avenue, Bayview, San Francisco   \n",
       "4             78         1400 Thomas Avenue, Bayview, San Francisco   \n",
       "..           ...                                                ...   \n",
       "290         2691                         800 Hacienda Way, Millbrae   \n",
       "291         2694  1900 Buchanan Street, Western Addition, San Fr...   \n",
       "292         2695  2200 Rivera Street, Sunset District, San Franc...   \n",
       "293         2700    300 Ponderosa Road, Avalon, South San Francisco   \n",
       "294         2708  200 Westview Drive, Sunshine Gardens, South Sa...   \n",
       "\n",
       "                                              geometry  speed_mph_mean  \n",
       "0    MULTIPOLYGON (((-122.41827 37.78704, -122.4150...       14.585102  \n",
       "1    MULTIPOLYGON (((-122.42208 37.78847, -122.4153...       15.679922  \n",
       "2    MULTIPOLYGON (((-122.44191 37.80374, -122.4371...       14.292445  \n",
       "3    MULTIPOLYGON (((-122.40211 37.72779, -122.3998...       23.353083  \n",
       "4    MULTIPOLYGON (((-122.39270 37.72928, -122.3918...       16.213552  \n",
       "..                                                 ...             ...  \n",
       "290  MULTIPOLYGON (((-122.42288 37.60714, -122.4187...       20.746333  \n",
       "291  MULTIPOLYGON (((-122.43549 37.78870, -122.4338...       17.042386  \n",
       "292  MULTIPOLYGON (((-122.49505 37.74968, -122.4858...       20.029011  \n",
       "293  MULTIPOLYGON (((-122.44834 37.64598, -122.4460...       32.184422  \n",
       "294  MULTIPOLYGON (((-122.45179 37.66912, -122.4506...       24.822808  \n",
       "\n",
       "[295 rows x 4 columns]"
      ]
     },
     "execution_count": 27,
     "metadata": {},
     "output_type": "execute_result"
    }
   ],
   "source": [
    "# compute the average speed per census tract (will use this later),\n",
    "# BEFORE the shelter-in-place was announced on March 14, 2020.\n",
    "# Autograder expects this to be a series\n",
    "averages_pre = speeds_to_tract[speeds_to_tract['day'] <= 13].groupby('DISPLAY_NAME')['speed_mph_mean'].mean()\n",
    "# Autograder expects this to be a dataframe with name of census tract,\n",
    "# polygon for census tract, and average speed per census tract\n",
    "averages_pre_named = speeds_to_tract[speeds_to_tract['day'] <= 13].groupby('MOVEMENT_ID')['speed_mph_mean'].mean().reset_index()\n",
    "mapping = speeds_to_tract[['DISPLAY_NAME','geometry','MOVEMENT_ID']].drop_duplicates(['DISPLAY_NAME','geometry','MOVEMENT_ID']).set_index('MOVEMENT_ID')\n",
    "averages_pre_named['geometry'] = averages_pre_named['MOVEMENT_ID'].map(mapping['geometry'])\n",
    "averages_pre_named['DISPLAY_NAME'] =averages_pre_named['MOVEMENT_ID'].map(mapping['DISPLAY_NAME'])\n",
    "averages_pre_named =averages_pre_named[['MOVEMENT_ID','DISPLAY_NAME','geometry','speed_mph_mean']] \n",
    "averages_pre_named"
   ]
  },
  {
   "cell_type": "code",
   "execution_count": 28,
   "id": "98b36e40",
   "metadata": {
    "deletable": false,
    "editable": false
   },
   "outputs": [
    {
     "data": {
      "text/html": [
       "<p><strong><pre style='display: inline;'>q2ai2</pre></strong> passed!</p>"
      ],
      "text/plain": [
       "q2ai2 results: All test cases passed!"
      ]
     },
     "execution_count": 28,
     "metadata": {},
     "output_type": "execute_result"
    }
   ],
   "source": [
    "grader.check(\"q2ai2\")"
   ]
  },
  {
   "cell_type": "markdown",
   "id": "bac8a88f",
   "metadata": {
    "deletable": false,
    "editable": false,
    "tags": []
   },
   "source": [
    "Report the lowest 10 census tracts with the lowest average speed\n",
    "Remember we want the NAME of each census tract too. For the autograder, please keep the name of the speed field, `speed_mph_mean`.\n",
    "\n",
    "<!--\n",
    "BEGIN QUESTION\n",
    "name: q2ai3\n",
    "points: 1\n",
    "-->"
   ]
  },
  {
   "cell_type": "code",
   "execution_count": 29,
   "id": "17f0d961",
   "metadata": {
    "scrolled": true
   },
   "outputs": [
    {
     "data": {
      "text/html": [
       "<div>\n",
       "<style scoped>\n",
       "    .dataframe tbody tr th:only-of-type {\n",
       "        vertical-align: middle;\n",
       "    }\n",
       "\n",
       "    .dataframe tbody tr th {\n",
       "        vertical-align: top;\n",
       "    }\n",
       "\n",
       "    .dataframe thead th {\n",
       "        text-align: right;\n",
       "    }\n",
       "</style>\n",
       "<table border=\"1\" class=\"dataframe\">\n",
       "  <thead>\n",
       "    <tr style=\"text-align: right;\">\n",
       "      <th></th>\n",
       "      <th>MOVEMENT_ID</th>\n",
       "      <th>speed_mph_mean</th>\n",
       "    </tr>\n",
       "  </thead>\n",
       "  <tbody>\n",
       "    <tr>\n",
       "      <th>166</th>\n",
       "      <td>1691</td>\n",
       "      <td>12.417079</td>\n",
       "    </tr>\n",
       "    <tr>\n",
       "      <th>249</th>\n",
       "      <td>2340</td>\n",
       "      <td>12.595120</td>\n",
       "    </tr>\n",
       "    <tr>\n",
       "      <th>163</th>\n",
       "      <td>1688</td>\n",
       "      <td>12.945291</td>\n",
       "    </tr>\n",
       "    <tr>\n",
       "      <th>59</th>\n",
       "      <td>651</td>\n",
       "      <td>13.195865</td>\n",
       "    </tr>\n",
       "    <tr>\n",
       "      <th>51</th>\n",
       "      <td>643</td>\n",
       "      <td>13.490311</td>\n",
       "    </tr>\n",
       "    <tr>\n",
       "      <th>164</th>\n",
       "      <td>1689</td>\n",
       "      <td>13.502505</td>\n",
       "    </tr>\n",
       "    <tr>\n",
       "      <th>99</th>\n",
       "      <td>1244</td>\n",
       "      <td>13.549474</td>\n",
       "    </tr>\n",
       "    <tr>\n",
       "      <th>100</th>\n",
       "      <td>1245</td>\n",
       "      <td>13.570625</td>\n",
       "    </tr>\n",
       "    <tr>\n",
       "      <th>52</th>\n",
       "      <td>644</td>\n",
       "      <td>13.626251</td>\n",
       "    </tr>\n",
       "    <tr>\n",
       "      <th>158</th>\n",
       "      <td>1674</td>\n",
       "      <td>13.944773</td>\n",
       "    </tr>\n",
       "  </tbody>\n",
       "</table>\n",
       "</div>"
      ],
      "text/plain": [
       "     MOVEMENT_ID  speed_mph_mean\n",
       "166         1691       12.417079\n",
       "249         2340       12.595120\n",
       "163         1688       12.945291\n",
       "59           651       13.195865\n",
       "51           643       13.490311\n",
       "164         1689       13.502505\n",
       "99          1244       13.549474\n",
       "100         1245       13.570625\n",
       "52           644       13.626251\n",
       "158         1674       13.944773"
      ]
     },
     "execution_count": 29,
     "metadata": {},
     "output_type": "execute_result"
    }
   ],
   "source": [
    "bottom10_averages_pre = averages_pre_named.sort_values('speed_mph_mean')[['MOVEMENT_ID','speed_mph_mean']][:10]\n",
    "bottom10_averages_pre"
   ]
  },
  {
   "cell_type": "code",
   "execution_count": 30,
   "id": "2f31cb10",
   "metadata": {
    "deletable": false,
    "editable": false
   },
   "outputs": [
    {
     "data": {
      "text/html": [
       "<p><strong><pre style='display: inline;'>q2ai3</pre></strong> passed!</p>"
      ],
      "text/plain": [
       "q2ai3 results: All test cases passed!"
      ]
     },
     "execution_count": 30,
     "metadata": {},
     "output_type": "execute_result"
    }
   ],
   "source": [
    "grader.check(\"q2ai3\")"
   ]
  },
  {
   "cell_type": "markdown",
   "id": "4025b156",
   "metadata": {
    "deletable": false,
    "editable": false
   },
   "source": [
    "Report the highest 10 census tracts with the highest average speed.\n",
    "\n",
    "<!--\n",
    "BEGIN QUESTION\n",
    "name: q2ai4\n",
    "points: 1\n",
    "-->"
   ]
  },
  {
   "cell_type": "code",
   "execution_count": 31,
   "id": "99de81ce",
   "metadata": {},
   "outputs": [
    {
     "data": {
      "text/html": [
       "<div>\n",
       "<style scoped>\n",
       "    .dataframe tbody tr th:only-of-type {\n",
       "        vertical-align: middle;\n",
       "    }\n",
       "\n",
       "    .dataframe tbody tr th {\n",
       "        vertical-align: top;\n",
       "    }\n",
       "\n",
       "    .dataframe thead th {\n",
       "        text-align: right;\n",
       "    }\n",
       "</style>\n",
       "<table border=\"1\" class=\"dataframe\">\n",
       "  <thead>\n",
       "    <tr style=\"text-align: right;\">\n",
       "      <th></th>\n",
       "      <th>MOVEMENT_ID</th>\n",
       "      <th>speed_mph_mean</th>\n",
       "    </tr>\n",
       "  </thead>\n",
       "  <tbody>\n",
       "    <tr>\n",
       "      <th>198</th>\n",
       "      <td>1743</td>\n",
       "      <td>38.944079</td>\n",
       "    </tr>\n",
       "    <tr>\n",
       "      <th>191</th>\n",
       "      <td>1732</td>\n",
       "      <td>40.587037</td>\n",
       "    </tr>\n",
       "    <tr>\n",
       "      <th>222</th>\n",
       "      <td>1955</td>\n",
       "      <td>42.784267</td>\n",
       "    </tr>\n",
       "    <tr>\n",
       "      <th>288</th>\n",
       "      <td>2660</td>\n",
       "      <td>43.848188</td>\n",
       "    </tr>\n",
       "    <tr>\n",
       "      <th>231</th>\n",
       "      <td>2244</td>\n",
       "      <td>44.304919</td>\n",
       "    </tr>\n",
       "    <tr>\n",
       "      <th>199</th>\n",
       "      <td>1744</td>\n",
       "      <td>45.492292</td>\n",
       "    </tr>\n",
       "    <tr>\n",
       "      <th>248</th>\n",
       "      <td>2339</td>\n",
       "      <td>47.225137</td>\n",
       "    </tr>\n",
       "    <tr>\n",
       "      <th>155</th>\n",
       "      <td>1653</td>\n",
       "      <td>47.318340</td>\n",
       "    </tr>\n",
       "    <tr>\n",
       "      <th>36</th>\n",
       "      <td>495</td>\n",
       "      <td>53.867847</td>\n",
       "    </tr>\n",
       "    <tr>\n",
       "      <th>23</th>\n",
       "      <td>285</td>\n",
       "      <td>59.498552</td>\n",
       "    </tr>\n",
       "  </tbody>\n",
       "</table>\n",
       "</div>"
      ],
      "text/plain": [
       "     MOVEMENT_ID  speed_mph_mean\n",
       "198         1743       38.944079\n",
       "191         1732       40.587037\n",
       "222         1955       42.784267\n",
       "288         2660       43.848188\n",
       "231         2244       44.304919\n",
       "199         1744       45.492292\n",
       "248         2339       47.225137\n",
       "155         1653       47.318340\n",
       "36           495       53.867847\n",
       "23           285       59.498552"
      ]
     },
     "execution_count": 31,
     "metadata": {},
     "output_type": "execute_result"
    }
   ],
   "source": [
    "top10_averages_pre = averages_pre_named.sort_values('speed_mph_mean')[['MOVEMENT_ID','speed_mph_mean']][-10:]\n",
    "top10_averages_pre"
   ]
  },
  {
   "cell_type": "code",
   "execution_count": 32,
   "id": "b7a0890d",
   "metadata": {
    "deletable": false,
    "editable": false
   },
   "outputs": [
    {
     "data": {
      "text/html": [
       "<p><strong><pre style='display: inline;'>q2ai4</pre></strong> passed!</p>"
      ],
      "text/plain": [
       "q2ai4 results: All test cases passed!"
      ]
     },
     "execution_count": 32,
     "metadata": {},
     "output_type": "execute_result"
    }
   ],
   "source": [
    "grader.check(\"q2ai4\")"
   ]
  },
  {
   "cell_type": "markdown",
   "id": "236db138",
   "metadata": {
    "deletable": false,
    "editable": false
   },
   "source": [
    "<!-- BEGIN QUESTION -->\n",
    "\n",
    "Plot the histogram\n",
    "<!--\n",
    "BEGIN QUESTION\n",
    "name: q2ai5\n",
    "points: 1\n",
    "manual: True\n",
    "-->"
   ]
  },
  {
   "cell_type": "code",
   "execution_count": 33,
   "id": "841c3925",
   "metadata": {
    "scrolled": true
   },
   "outputs": [
    {
     "data": {
      "text/plain": [
       "Text(0.5, 1.0, 'overall')"
      ]
     },
     "execution_count": 33,
     "metadata": {},
     "output_type": "execute_result"
    },
    {
     "data": {
      "image/png": "[encoded data removed]",
      "text/plain": [
       "<Figure size 1080x288 with 3 Axes>"
      ]
     },
     "metadata": {
      "needs_background": "light"
     },
     "output_type": "display_data"
    }
   ],
   "source": [
    "fig,axes = plt.subplots(1,3,figsize=(15,4))\n",
    "sns.histplot(ax=axes[0],data=bottom10_averages_pre,x='speed_mph_mean',alpha=0.5,color='yellow')\n",
    "axes[0].set_title('buttom 10')\n",
    "sns.histplot(ax=axes[1],data=top10_averages_pre,x='speed_mph_mean',alpha=0.5)\n",
    "axes[1].set_title('top 10')\n",
    "sns.histplot(ax=axes[2],data=averages_pre_named,x='speed_mph_mean',alpha=0.5,color='green')\n",
    "axes[2].set_title('overall')"
   ]
  },
  {
   "cell_type": "markdown",
   "id": "5fb7daae",
   "metadata": {
    "deletable": false,
    "editable": false
   },
   "source": [
    "<!-- END QUESTION -->\n",
    "\n",
    "<!-- BEGIN QUESTION -->\n",
    "\n",
    "### 2.a.ii. Sort census tracts by average speed, post-lockdown.\n",
    "\n",
    "I suggest checking the top 10 and bottom 10 tracts by average speed, post-lockdown. Consider the post-lockdown period to be March 14 - 31, after the first COVID restrictions were established on March 14, 2020. It's a healthy sanity check. For this question, you should report:\n",
    "\n",
    "- **Plot a histogram for all average speeds, post-lockdown.**\n",
    "- **What are the major differences between this post-lockdown histogram relative to the pre-lockdown histogram above**? Anything surprising? What did you expect, and what did you find?\n",
    "\n",
    "Write the written answers in the cell below, and the coding answers in the cells after that.\n",
    "\n",
    "<!--\n",
    "BEGIN QUESTION\n",
    "name: q2aii1\n",
    "points: 1\n",
    "manual: True\n",
    "-->"
   ]
  },
  {
   "cell_type": "markdown",
   "id": "21badcd1",
   "metadata": {},
   "source": [
    "_Type your answer here, replacing this text._"
   ]
  },
  {
   "cell_type": "markdown",
   "id": "0267b65f",
   "metadata": {
    "deletable": false,
    "editable": false
   },
   "source": [
    "<!-- END QUESTION -->\n",
    "\n",
    "<!--\n",
    "BEGIN QUESTION\n",
    "name: q2aii2\n",
    "points: 2\n",
    "-->"
   ]
  },
  {
   "cell_type": "code",
   "execution_count": 34,
   "id": "db352a84",
   "metadata": {},
   "outputs": [
    {
     "data": {
      "text/html": [
       "<div>\n",
       "<style scoped>\n",
       "    .dataframe tbody tr th:only-of-type {\n",
       "        vertical-align: middle;\n",
       "    }\n",
       "\n",
       "    .dataframe tbody tr th {\n",
       "        vertical-align: top;\n",
       "    }\n",
       "\n",
       "    .dataframe thead th {\n",
       "        text-align: right;\n",
       "    }\n",
       "</style>\n",
       "<table border=\"1\" class=\"dataframe\">\n",
       "  <thead>\n",
       "    <tr style=\"text-align: right;\">\n",
       "      <th></th>\n",
       "      <th>MOVEMENT_ID</th>\n",
       "      <th>DISPLAY_NAME</th>\n",
       "      <th>geometry</th>\n",
       "      <th>speed_mph_mean</th>\n",
       "    </tr>\n",
       "  </thead>\n",
       "  <tbody>\n",
       "    <tr>\n",
       "      <th>0</th>\n",
       "      <td>9</td>\n",
       "      <td>500 Hyde Street, Tenderloin, San Francisco</td>\n",
       "      <td>MULTIPOLYGON (((-122.41827 37.78704, -122.4150...</td>\n",
       "      <td>16.143154</td>\n",
       "    </tr>\n",
       "    <tr>\n",
       "      <th>1</th>\n",
       "      <td>20</td>\n",
       "      <td>900 Sutter Street, Lower Nob Hill, San Francisco</td>\n",
       "      <td>MULTIPOLYGON (((-122.42208 37.78847, -122.4153...</td>\n",
       "      <td>16.871488</td>\n",
       "    </tr>\n",
       "    <tr>\n",
       "      <th>2</th>\n",
       "      <td>21</td>\n",
       "      <td>3400 Pierce Street, Marina District, San Franc...</td>\n",
       "      <td>MULTIPOLYGON (((-122.44191 37.80374, -122.4371...</td>\n",
       "      <td>15.754795</td>\n",
       "    </tr>\n",
       "    <tr>\n",
       "      <th>3</th>\n",
       "      <td>44</td>\n",
       "      <td>1700 Egbert Avenue, Bayview, San Francisco</td>\n",
       "      <td>MULTIPOLYGON (((-122.40211 37.72779, -122.3998...</td>\n",
       "      <td>25.956602</td>\n",
       "    </tr>\n",
       "    <tr>\n",
       "      <th>4</th>\n",
       "      <td>78</td>\n",
       "      <td>1400 Thomas Avenue, Bayview, San Francisco</td>\n",
       "      <td>MULTIPOLYGON (((-122.39270 37.72928, -122.3918...</td>\n",
       "      <td>16.476000</td>\n",
       "    </tr>\n",
       "    <tr>\n",
       "      <th>...</th>\n",
       "      <td>...</td>\n",
       "      <td>...</td>\n",
       "      <td>...</td>\n",
       "      <td>...</td>\n",
       "    </tr>\n",
       "    <tr>\n",
       "      <th>280</th>\n",
       "      <td>2691</td>\n",
       "      <td>800 Hacienda Way, Millbrae</td>\n",
       "      <td>MULTIPOLYGON (((-122.42288 37.60714, -122.4187...</td>\n",
       "      <td>17.917000</td>\n",
       "    </tr>\n",
       "    <tr>\n",
       "      <th>281</th>\n",
       "      <td>2694</td>\n",
       "      <td>1900 Buchanan Street, Western Addition, San Fr...</td>\n",
       "      <td>MULTIPOLYGON (((-122.43549 37.78870, -122.4338...</td>\n",
       "      <td>22.128519</td>\n",
       "    </tr>\n",
       "    <tr>\n",
       "      <th>282</th>\n",
       "      <td>2695</td>\n",
       "      <td>2200 Rivera Street, Sunset District, San Franc...</td>\n",
       "      <td>MULTIPOLYGON (((-122.49505 37.74968, -122.4858...</td>\n",
       "      <td>23.440404</td>\n",
       "    </tr>\n",
       "    <tr>\n",
       "      <th>283</th>\n",
       "      <td>2700</td>\n",
       "      <td>300 Ponderosa Road, Avalon, South San Francisco</td>\n",
       "      <td>MULTIPOLYGON (((-122.44834 37.64598, -122.4460...</td>\n",
       "      <td>38.807594</td>\n",
       "    </tr>\n",
       "    <tr>\n",
       "      <th>284</th>\n",
       "      <td>2708</td>\n",
       "      <td>200 Westview Drive, Sunshine Gardens, South Sa...</td>\n",
       "      <td>MULTIPOLYGON (((-122.45179 37.66912, -122.4506...</td>\n",
       "      <td>26.171347</td>\n",
       "    </tr>\n",
       "  </tbody>\n",
       "</table>\n",
       "<p>285 rows × 4 columns</p>\n",
       "</div>"
      ],
      "text/plain": [
       "     MOVEMENT_ID                                       DISPLAY_NAME  \\\n",
       "0              9         500 Hyde Street, Tenderloin, San Francisco   \n",
       "1             20   900 Sutter Street, Lower Nob Hill, San Francisco   \n",
       "2             21  3400 Pierce Street, Marina District, San Franc...   \n",
       "3             44         1700 Egbert Avenue, Bayview, San Francisco   \n",
       "4             78         1400 Thomas Avenue, Bayview, San Francisco   \n",
       "..           ...                                                ...   \n",
       "280         2691                         800 Hacienda Way, Millbrae   \n",
       "281         2694  1900 Buchanan Street, Western Addition, San Fr...   \n",
       "282         2695  2200 Rivera Street, Sunset District, San Franc...   \n",
       "283         2700    300 Ponderosa Road, Avalon, South San Francisco   \n",
       "284         2708  200 Westview Drive, Sunshine Gardens, South Sa...   \n",
       "\n",
       "                                              geometry  speed_mph_mean  \n",
       "0    MULTIPOLYGON (((-122.41827 37.78704, -122.4150...       16.143154  \n",
       "1    MULTIPOLYGON (((-122.42208 37.78847, -122.4153...       16.871488  \n",
       "2    MULTIPOLYGON (((-122.44191 37.80374, -122.4371...       15.754795  \n",
       "3    MULTIPOLYGON (((-122.40211 37.72779, -122.3998...       25.956602  \n",
       "4    MULTIPOLYGON (((-122.39270 37.72928, -122.3918...       16.476000  \n",
       "..                                                 ...             ...  \n",
       "280  MULTIPOLYGON (((-122.42288 37.60714, -122.4187...       17.917000  \n",
       "281  MULTIPOLYGON (((-122.43549 37.78870, -122.4338...       22.128519  \n",
       "282  MULTIPOLYGON (((-122.49505 37.74968, -122.4858...       23.440404  \n",
       "283  MULTIPOLYGON (((-122.44834 37.64598, -122.4460...       38.807594  \n",
       "284  MULTIPOLYGON (((-122.45179 37.66912, -122.4506...       26.171347  \n",
       "\n",
       "[285 rows x 4 columns]"
      ]
     },
     "execution_count": 34,
     "metadata": {},
     "output_type": "execute_result"
    }
   ],
   "source": [
    "# compute the average speed per census tract (will use this later),\n",
    "# AFTER (and including) the first COVID restrictions were put into effect.\n",
    "# Autograder expects this to be a series\n",
    "averages_post = speeds_to_tract[speeds_to_tract['day'] > 13].groupby('DISPLAY_NAME')['speed_mph_mean'].mean()\n",
    "# Autograder expects this to be a dataframe with name of census tract,\n",
    "# polygon for census tract, and average speed per census tract\n",
    "averages_post_named = speeds_to_tract[speeds_to_tract['day'] > 13].groupby('MOVEMENT_ID')['speed_mph_mean'].mean().reset_index()\n",
    "mapping = speeds_to_tract[['DISPLAY_NAME','geometry','MOVEMENT_ID']].drop_duplicates(['DISPLAY_NAME','geometry','MOVEMENT_ID']).set_index('MOVEMENT_ID')\n",
    "averages_post_named['geometry'] = averages_post_named['MOVEMENT_ID'].map(mapping['geometry'])\n",
    "averages_post_named['DISPLAY_NAME'] =averages_post_named['MOVEMENT_ID'].map(mapping['DISPLAY_NAME'])\n",
    "averages_post_named =averages_post_named[['MOVEMENT_ID','DISPLAY_NAME','geometry','speed_mph_mean']] \n",
    "averages_post_named"
   ]
  },
  {
   "cell_type": "code",
   "execution_count": 35,
   "id": "abae5025",
   "metadata": {
    "deletable": false,
    "editable": false
   },
   "outputs": [
    {
     "data": {
      "text/html": [
       "<p><strong><pre style='display: inline;'>q2aii2</pre></strong> passed!</p>"
      ],
      "text/plain": [
       "q2aii2 results: All test cases passed!"
      ]
     },
     "execution_count": 35,
     "metadata": {},
     "output_type": "execute_result"
    }
   ],
   "source": [
    "grader.check(\"q2aii2\")"
   ]
  },
  {
   "cell_type": "markdown",
   "id": "49d57ac7",
   "metadata": {
    "deletable": false,
    "editable": false
   },
   "source": [
    "<!-- BEGIN QUESTION -->\n",
    "\n",
    "Plot the histogram\n",
    "<!--\n",
    "BEGIN QUESTION\n",
    "name: q2aii3\n",
    "points: 1\n",
    "manual: True\n",
    "-->"
   ]
  },
  {
   "cell_type": "code",
   "execution_count": 36,
   "id": "a2ad73d9",
   "metadata": {},
   "outputs": [
    {
     "data": {
      "text/plain": [
       "<AxesSubplot:xlabel='speed_mph_mean', ylabel='Count'>"
      ]
     },
     "execution_count": 36,
     "metadata": {},
     "output_type": "execute_result"
    },
    {
     "data": {
      "image/png": "[encoded data removed]",
      "text/plain": [
       "<Figure size 432x288 with 1 Axes>"
      ]
     },
     "metadata": {
      "needs_background": "light"
     },
     "output_type": "display_data"
    }
   ],
   "source": [
    "sns.histplot(data=averages_post_named,x='speed_mph_mean',alpha=0.5,color='green')"
   ]
  },
  {
   "cell_type": "markdown",
   "id": "4a8debfe",
   "metadata": {
    "deletable": false,
    "editable": false
   },
   "source": [
    "<!-- END QUESTION -->\n",
    "\n",
    "<!-- BEGIN QUESTION -->\n",
    "\n",
    "### 2.a.iii. Sort census tracts by change in traffic speed from pre to post lockdown.\n",
    "\n",
    "For each segment, compute the difference between the pre-lockdown average speed (March 1 - 13) and the post-lockdown average speed (March 14 - 31). **Plot a histogram of all differences.** Sanity check that the below histogram matches your observations of the histograms above, on your own.\n",
    "\n",
    "<!--\n",
    "BEGIN QUESTION\n",
    "name: q2aiii\n",
    "points: 2\n",
    "manual: True\n",
    "-->"
   ]
  },
  {
   "cell_type": "code",
   "execution_count": 37,
   "id": "3edb8136",
   "metadata": {},
   "outputs": [
    {
     "data": {
      "image/png": "[encoded data removed]",
      "text/plain": [
       "<Figure size 432x288 with 1 Axes>"
      ]
     },
     "metadata": {
      "needs_background": "light"
     },
     "output_type": "display_data"
    }
   ],
   "source": [
    "# The autograder expects differences to be a series object with index\n",
    "# MOVEMENT_ID.\n",
    "combined = averages_pre_named.copy()\n",
    "combined = combined.join(averages_post_named[['MOVEMENT_ID','speed_mph_mean']].set_index('MOVEMENT_ID'),on='MOVEMENT_ID',rsuffix='post')\n",
    "combined.rename(columns = {'speed_mph_mean':'pre_speed','speed_mph_meanpost':'post_speed'},inplace=True)\n",
    "combined['differences'] = combined['post_speed'] - combined['pre_speed'] \n",
    "sns.histplot(data=combined,x='differences')\n",
    "differences = combined['differences']\n",
    "# plot the differences"
   ]
  },
  {
   "cell_type": "code",
   "execution_count": 38,
   "id": "33affd69",
   "metadata": {
    "deletable": false,
    "editable": false
   },
   "outputs": [
    {
     "data": {
      "text/html": [
       "<p><strong><pre style='display: inline;'>q2aiii</pre></strong> passed!</p>"
      ],
      "text/plain": [
       "q2aiii results: All test cases passed!"
      ]
     },
     "execution_count": 38,
     "metadata": {},
     "output_type": "execute_result"
    }
   ],
   "source": [
    "grader.check(\"q2aiii\")"
   ]
  },
  {
   "cell_type": "markdown",
   "id": "942f64a3",
   "metadata": {
    "deletable": false,
    "editable": false
   },
   "source": [
    "<!-- END QUESTION -->\n",
    "\n",
    "<!-- BEGIN QUESTION -->\n",
    "\n",
    "### 2.a.iv. Quantify the impact of lockdown on average speeds.\n",
    "\n",
    "1. **Plot the average speed by day, across all segments**. Be careful not to plot the average of census tract averages instead. Recall the definition of segments from Q1.\n",
    "2. Is the change in speed smooth and gradually increasing? Or increasing sharply? Why? Use your real-world knowledge of announcements and measures during that time, in your explanation. You can use this list of bay area COVID-related dataes: https://abc7news.com/timeline-of-coronavirus-us-covid-19-bay-area-sf/6047519/\n",
    "\n",
    "<!--\n",
    "BEGIN QUESTION\n",
    "name: q2aiv1\n",
    "points: 1\n",
    "manual: True\n",
    "-->"
   ]
  },
  {
   "cell_type": "code",
   "execution_count": 39,
   "id": "01e89ebf",
   "metadata": {},
   "outputs": [
    {
     "data": {
      "text/plain": [
       "day\n",
       "1     23.644287\n",
       "2     22.338324\n",
       "3     21.838656\n",
       "4     21.941460\n",
       "5     21.998774\n",
       "6     22.114422\n",
       "7     22.863591\n",
       "8     24.059393\n",
       "9     23.022353\n",
       "10    22.673626\n",
       "11    22.788237\n",
       "12    23.091774\n",
       "13    23.332530\n",
       "14    24.189308\n",
       "15    25.712477\n",
       "16    24.782188\n",
       "17    28.920139\n",
       "18    28.820667\n",
       "19    29.509766\n",
       "20    28.949733\n",
       "21    30.072081\n",
       "22    30.768786\n",
       "23    30.249279\n",
       "24    30.126830\n",
       "25    30.257105\n",
       "26    30.144566\n",
       "27    30.364855\n",
       "28    30.502019\n",
       "29    31.068706\n",
       "30    30.463640\n",
       "31    30.897939\n",
       "Name: speed_mph_mean, dtype: float64"
      ]
     },
     "execution_count": 39,
     "metadata": {},
     "output_type": "execute_result"
    }
   ],
   "source": [
    "# Autograder expects this to be a series object containing the\n",
    "# data for your line plot -- average speeds per day.\n",
    "speeds_daily = speeds_to_gps.groupby('day').agg({'speed_mph_mean':'mean'}).squeeze()\n",
    "speeds_daily"
   ]
  },
  {
   "cell_type": "markdown",
   "id": "69038b87",
   "metadata": {
    "deletable": false,
    "editable": false
   },
   "source": [
    "<!-- END QUESTION -->\n",
    "\n",
    "<!-- BEGIN QUESTION -->\n",
    "\n",
    "Write your written answer in the cell below\n",
    "\n",
    "<!--\n",
    "BEGIN QUESTION\n",
    "name: q2aiv2\n",
    "points: 1\n",
    "manual: True\n",
    "-->"
   ]
  },
  {
   "cell_type": "markdown",
   "id": "c605563b",
   "metadata": {},
   "source": [
    "_Type your answer here, replacing this text._"
   ]
  },
  {
   "cell_type": "markdown",
   "id": "c2ad51b9",
   "metadata": {
    "deletable": false,
    "editable": false
   },
   "source": [
    "<!-- END QUESTION -->\n",
    "\n",
    "Ignore the empty cell below, just run the autograder to test the code above is correct.\n",
    "<!--\n",
    "BEGIN QUESTION\n",
    "name: q2aiv3\n",
    "points: 1\n",
    "-->"
   ]
  },
  {
   "cell_type": "code",
   "execution_count": 40,
   "id": "1d2783df",
   "metadata": {},
   "outputs": [
    {
     "data": {
      "text/plain": [
       "<AxesSubplot:xlabel='day', ylabel='speed_mph_mean'>"
      ]
     },
     "execution_count": 40,
     "metadata": {},
     "output_type": "execute_result"
    },
    {
     "data": {
      "image/png": "[encoded data removed]",
      "text/plain": [
       "<Figure size 432x288 with 1 Axes>"
      ]
     },
     "metadata": {
      "needs_background": "light"
     },
     "output_type": "display_data"
    }
   ],
   "source": [
    "sns.lineplot(data= speeds_daily.reset_index(),x='day',y='speed_mph_mean')"
   ]
  },
  {
   "cell_type": "code",
   "execution_count": 41,
   "id": "845d8b3f",
   "metadata": {
    "deletable": false,
    "editable": false
   },
   "outputs": [
    {
     "data": {
      "text/html": [
       "<p><strong style='color: red;'><pre style='display: inline;'>q2aiv3</pre> results:</strong></p><p><strong><pre style='display: inline;'>q2aiv3 - 1</pre> result:</strong></p><pre>    Test case passed!</pre><p><strong><pre style='display: inline;'>q2aiv3 - 2</pre> result:</strong></p><pre>    Trying:\n",
       "        np.isclose(speeds_daily.values[0], 23.63312757040251)\n",
       "    Expecting:\n",
       "        True\n",
       "    **********************************************************************\n",
       "    Line 1, in q2aiv3 1\n",
       "    Failed example:\n",
       "        np.isclose(speeds_daily.values[0], 23.63312757040251)\n",
       "    Expected:\n",
       "        True\n",
       "    Got:\n",
       "        False\n",
       "</pre>"
      ],
      "text/plain": [
       "q2aiv3 results:\n",
       "    q2aiv3 - 1 result:\n",
       "        Test case passed!\n",
       "\n",
       "    q2aiv3 - 2 result:\n",
       "        Trying:\n",
       "            np.isclose(speeds_daily.values[0], 23.63312757040251)\n",
       "        Expecting:\n",
       "            True\n",
       "        **********************************************************************\n",
       "        Line 1, in q2aiv3 1\n",
       "        Failed example:\n",
       "            np.isclose(speeds_daily.values[0], 23.63312757040251)\n",
       "        Expected:\n",
       "            True\n",
       "        Got:\n",
       "            False"
      ]
     },
     "execution_count": 41,
     "metadata": {},
     "output_type": "execute_result"
    }
   ],
   "source": [
    "grader.check(\"q2aiv3\")"
   ]
  },
  {
   "cell_type": "markdown",
   "id": "1e6ad0f5",
   "metadata": {
    "deletable": false,
    "editable": false
   },
   "source": [
    "<!-- BEGIN QUESTION -->\n",
    "\n",
    "### 2.a.v. Quantify the impact of pre-lockdown average speed on change in speed.\n",
    "\n",
    "1. Compute the correlation between change in speed and the *pre*-lockdown average speeds. Do we expect a positive or negative correlation, given our analysis above?\n",
    "2. Compute the correlation between change in speed and the post-lockdown average speeds.\n",
    "3. **How does the correlation in Q1 compare with the correlation in Q2?** You should expect a significant change in correlation value. What insight does this provide about traffic?\n",
    "\n",
    "Written answers in the first cell, coding answerts in the following cell.\n",
    "\n",
    "<!--\n",
    "BEGIN QUESTION\n",
    "name: q2av1\n",
    "points: 2\n",
    "manual: True\n",
    "-->"
   ]
  },
  {
   "cell_type": "markdown",
   "id": "dbf7933b",
   "metadata": {},
   "source": [
    "_Type your answer here, replacing this text._"
   ]
  },
  {
   "cell_type": "markdown",
   "id": "a9ad929d",
   "metadata": {
    "deletable": false,
    "editable": false
   },
   "source": [
    "<!-- END QUESTION -->\n",
    "\n",
    "\n",
    "<!--\n",
    "BEGIN QUESTION\n",
    "name: q2av2\n",
    "points: 2\n",
    "-->"
   ]
  },
  {
   "cell_type": "code",
   "execution_count": 42,
   "id": "b6ef2246",
   "metadata": {},
   "outputs": [
    {
     "data": {
      "text/plain": [
       "(0.4633006380580183, 0.792679998478066)"
      ]
     },
     "execution_count": 42,
     "metadata": {},
     "output_type": "execute_result"
    }
   ],
   "source": [
    "corr_pre_diff = combined['differences'].corr(combined['pre_speed'])\n",
    "corr_post_diff = combined['differences'].corr(combined['post_speed'])\n",
    "\n",
    "corr_pre_diff, corr_post_diff"
   ]
  },
  {
   "cell_type": "code",
   "execution_count": 49,
   "id": "1a894ce9",
   "metadata": {
    "deletable": false,
    "editable": false
   },
   "outputs": [
    {
     "data": {
      "text/html": [
       "<p><strong><pre style='display: inline;'>q2av2</pre></strong> passed!</p>"
      ],
      "text/plain": [
       "q2av2 results: All test cases passed!"
      ]
     },
     "execution_count": 49,
     "metadata": {},
     "output_type": "execute_result"
    }
   ],
   "source": [
    "grader.check(\"q2av2\")"
   ]
  },
  {
   "cell_type": "markdown",
   "id": "8f84bf0b",
   "metadata": {},
   "source": [
    "## 2.b. What traffic areas were impacted by lockdown?"
   ]
  },
  {
   "cell_type": "markdown",
   "id": "d3c20b6a",
   "metadata": {
    "deletable": false,
    "editable": false
   },
   "source": [
    "<!-- BEGIN QUESTION -->\n",
    "\n",
    "### 2.b.i. Visualize spatial heatmap of average traffic speed per census tract, pre-lockdown.\n",
    "\n",
    "Visualize a spatial heatmap of the grouped average daily speeds per census tract, which you computed in previous parts. Use the geopandas [chloropleth maps](https://geopandas.org/docs/user_guide/mapping.html#choropleth-maps). **Write your observations, using your visualization, noting down at least 2 areas or patterns of interest**. These may be a local extrema, or a region that is strangely all similar.\n",
    "\n",
    "**Hint**: Use [`to_crs`](https://geopandas.org/docs/reference/api/geopandas.GeoDataFrame.to_crs.html) and make sure the `epsg` is using the Pseudo-Mercator projection.\n",
    "\n",
    "**Hint**: You can use `contextily` to superimpose your chloropleth map on a real geographic map.\n",
    "\n",
    "**Hint** You can set a lower opacity for your chloropleth map, to see what's underneath, but be aware that if you plot with too low of an opacity, the map underneath will perturb your chloropleth and meddle with your conclusions.\n",
    "\n",
    "Written answers in the first cell, coding answers in the second cell.\n",
    "\n",
    "<!--\n",
    "BEGIN QUESTION\n",
    "name: q2bi1\n",
    "points: 1\n",
    "manual: True\n",
    "-->"
   ]
  },
  {
   "cell_type": "markdown",
   "id": "41bd3d7a",
   "metadata": {},
   "source": [
    "_Type your answer here, replacing this text._"
   ]
  },
  {
   "cell_type": "markdown",
   "id": "a0351d12",
   "metadata": {
    "deletable": false,
    "editable": false
   },
   "source": [
    "<!-- END QUESTION -->\n",
    "\n",
    "<!-- BEGIN QUESTION -->\n",
    "\n",
    "<!--\n",
    "BEGIN QUESTION\n",
    "name: q2bi2\n",
    "points: 4\n",
    "manual: True\n",
    "-->"
   ]
  },
  {
   "cell_type": "code",
   "execution_count": 52,
   "id": "7d680081",
   "metadata": {},
   "outputs": [],
   "source": []
  },
  {
   "cell_type": "markdown",
   "id": "600c6a78",
   "metadata": {
    "deletable": false,
    "editable": false
   },
   "source": [
    "<!-- END QUESTION -->\n",
    "\n",
    "<!-- BEGIN QUESTION -->\n",
    "\n",
    "### 2.b.ii. Visualize change in average daily speeds pre vs. post lockdown.\n",
    "\n",
    "Visualize a spatial heatmap of the census tract differences in average speeds, that we computed in a previous part. **Write your observations, using your visualization, noting down at least 2 areas or patterns of interest.** Some possible ideas for interesting notes: Which areas saw the most change in average speed? Which areas weren't affected? Why did some areas see *reduced* average speed?\n",
    "\n",
    "First cell is for the written answers, second cell is for the coding answers.\n",
    "\n",
    "<!--\n",
    "BEGIN QUESTION\n",
    "name: q2bii1\n",
    "points: 1\n",
    "manual: True\n",
    "-->"
   ]
  },
  {
   "cell_type": "markdown",
   "id": "8846910d",
   "metadata": {},
   "source": [
    "_Type your answer here, replacing this text._"
   ]
  },
  {
   "cell_type": "markdown",
   "id": "e3e13db6",
   "metadata": {
    "deletable": false,
    "editable": false
   },
   "source": [
    "<!-- END QUESTION -->\n",
    "\n",
    "<!-- BEGIN QUESTION -->\n",
    "\n",
    "<!--\n",
    "BEGIN QUESTION\n",
    "name: q2bii2\n",
    "points: 4\n",
    "manual: True\n",
    "-->"
   ]
  },
  {
   "cell_type": "code",
   "execution_count": 53,
   "id": "00384667",
   "metadata": {
    "scrolled": true
   },
   "outputs": [],
   "source": [
    "..."
   ]
  },
  {
   "cell_type": "markdown",
   "id": "5aa3ac2e",
   "metadata": {},
   "source": [
    "<!-- END QUESTION -->\n",
    "\n",
    "\n",
    "\n",
    "# Step 3 - Open-Ended EDA: Understanding lockdown impact on travel times\n",
    "\n",
    "Explore daily travel times from Hayes Valley to other destinations both before and throughout lockdown. Use the following questions as suggestions for what to explore, temporally and spatially:\n",
    "\n",
    "- How did lockdown affect travel times? Are there any meaningful factors that determined how travel time would be impacted? How was travel time affected over time?\n",
    "- Travel to which destinations were affected by lockdown? Are there surprisingly disproportionate amounts of impact in certain areas?"
   ]
  },
  {
   "cell_type": "markdown",
   "id": "2cbfca76",
   "metadata": {},
   "source": [
    "## 3.a. Load Datasets\n",
    "\n",
    "In this step, we will load two datasets:\n",
    "\n",
    "- Daily travel times from Hayes Valley to all other census tracts around San Francisco.\n",
    "- Daily travel times from 300 Hayes St to Golden Gate Park in San Francisco.\n",
    "\n",
    "For this specific set of data, we can ask several more questions; which questions you pursue are up to you, including any that you come up that are not on this list:\n",
    "\n",
    "- Which routes from Hayes Valley had similar impact on travel time? Did they share any factors in common? Traveling through the same place -- e.g., a freway? Traveling in similar areas e.g., residential areas?\n",
    "- Were clusters of routes impacted more severely than others over time? What determined the degree of impact?"
   ]
  },
  {
   "cell_type": "code",
   "execution_count": 43,
   "id": "0fb8c734",
   "metadata": {
    "scrolled": true
   },
   "outputs": [
    {
     "data": {
      "text/html": [
       "<div>\n",
       "<style scoped>\n",
       "    .dataframe tbody tr th:only-of-type {\n",
       "        vertical-align: middle;\n",
       "    }\n",
       "\n",
       "    .dataframe tbody tr th {\n",
       "        vertical-align: top;\n",
       "    }\n",
       "\n",
       "    .dataframe thead th {\n",
       "        text-align: right;\n",
       "    }\n",
       "</style>\n",
       "<table border=\"1\" class=\"dataframe\">\n",
       "  <thead>\n",
       "    <tr style=\"text-align: right;\">\n",
       "      <th></th>\n",
       "      <th>Origin Movement ID</th>\n",
       "      <th>Origin Display Name</th>\n",
       "      <th>Destination Movement ID</th>\n",
       "      <th>Destination Display Name</th>\n",
       "      <th>Date Range</th>\n",
       "      <th>Mean Travel Time (Seconds)</th>\n",
       "      <th>Range - Lower Bound Travel Time (Seconds)</th>\n",
       "      <th>Range - Upper Bound Travel Time (Seconds)</th>\n",
       "      <th>day</th>\n",
       "    </tr>\n",
       "  </thead>\n",
       "  <tbody>\n",
       "    <tr>\n",
       "      <th>0</th>\n",
       "      <td>1277</td>\n",
       "      <td>300 Hayes Street, Civic Center, San Francisco</td>\n",
       "      <td>9</td>\n",
       "      <td>500 Hyde Street, Tenderloin, San Francisco</td>\n",
       "      <td>3/1/2020 - 3/1/2020, Every day, Daily Average</td>\n",
       "      <td>322</td>\n",
       "      <td>211</td>\n",
       "      <td>489</td>\n",
       "      <td>1</td>\n",
       "    </tr>\n",
       "    <tr>\n",
       "      <th>1</th>\n",
       "      <td>1277</td>\n",
       "      <td>300 Hayes Street, Civic Center, San Francisco</td>\n",
       "      <td>20</td>\n",
       "      <td>900 Sutter Street, Lower Nob Hill, San Francisco</td>\n",
       "      <td>3/1/2020 - 3/1/2020, Every day, Daily Average</td>\n",
       "      <td>291</td>\n",
       "      <td>179</td>\n",
       "      <td>470</td>\n",
       "      <td>1</td>\n",
       "    </tr>\n",
       "    <tr>\n",
       "      <th>2</th>\n",
       "      <td>1277</td>\n",
       "      <td>300 Hayes Street, Civic Center, San Francisco</td>\n",
       "      <td>21</td>\n",
       "      <td>3400 Pierce Street, Marina District, San Franc...</td>\n",
       "      <td>3/1/2020 - 3/1/2020, Every day, Daily Average</td>\n",
       "      <td>635</td>\n",
       "      <td>438</td>\n",
       "      <td>920</td>\n",
       "      <td>1</td>\n",
       "    </tr>\n",
       "    <tr>\n",
       "      <th>3</th>\n",
       "      <td>1277</td>\n",
       "      <td>300 Hayes Street, Civic Center, San Francisco</td>\n",
       "      <td>44</td>\n",
       "      <td>1700 Egbert Avenue, Bayview, San Francisco</td>\n",
       "      <td>3/1/2020 - 3/1/2020, Every day, Daily Average</td>\n",
       "      <td>786</td>\n",
       "      <td>566</td>\n",
       "      <td>1090</td>\n",
       "      <td>1</td>\n",
       "    </tr>\n",
       "    <tr>\n",
       "      <th>4</th>\n",
       "      <td>1277</td>\n",
       "      <td>300 Hayes Street, Civic Center, San Francisco</td>\n",
       "      <td>46</td>\n",
       "      <td>500 Chester Street, West Oakland, Oakland</td>\n",
       "      <td>3/1/2020 - 3/1/2020, Every day, Daily Average</td>\n",
       "      <td>891</td>\n",
       "      <td>682</td>\n",
       "      <td>1162</td>\n",
       "      <td>1</td>\n",
       "    </tr>\n",
       "    <tr>\n",
       "      <th>...</th>\n",
       "      <td>...</td>\n",
       "      <td>...</td>\n",
       "      <td>...</td>\n",
       "      <td>...</td>\n",
       "      <td>...</td>\n",
       "      <td>...</td>\n",
       "      <td>...</td>\n",
       "      <td>...</td>\n",
       "      <td>...</td>\n",
       "    </tr>\n",
       "    <tr>\n",
       "      <th>10333</th>\n",
       "      <td>1277</td>\n",
       "      <td>300 Hayes Street, Civic Center, San Francisco</td>\n",
       "      <td>2624</td>\n",
       "      <td>1300 16th Avenue, Inner Sunset, San Francisco</td>\n",
       "      <td>3/31/2020 - 3/31/2020, Every day, Daily Average</td>\n",
       "      <td>502</td>\n",
       "      <td>411</td>\n",
       "      <td>611</td>\n",
       "      <td>31</td>\n",
       "    </tr>\n",
       "    <tr>\n",
       "      <th>10334</th>\n",
       "      <td>1277</td>\n",
       "      <td>300 Hayes Street, Civic Center, San Francisco</td>\n",
       "      <td>2643</td>\n",
       "      <td>1300 Egbert Avenue, Bayview, San Francisco</td>\n",
       "      <td>3/31/2020 - 3/31/2020, Every day, Daily Average</td>\n",
       "      <td>571</td>\n",
       "      <td>475</td>\n",
       "      <td>685</td>\n",
       "      <td>31</td>\n",
       "    </tr>\n",
       "    <tr>\n",
       "      <th>10335</th>\n",
       "      <td>1277</td>\n",
       "      <td>300 Hayes Street, Civic Center, San Francisco</td>\n",
       "      <td>2673</td>\n",
       "      <td>100 Rutledge Street, Bernal Heights, San Franc...</td>\n",
       "      <td>3/31/2020 - 3/31/2020, Every day, Daily Average</td>\n",
       "      <td>367</td>\n",
       "      <td>265</td>\n",
       "      <td>507</td>\n",
       "      <td>31</td>\n",
       "    </tr>\n",
       "    <tr>\n",
       "      <th>10336</th>\n",
       "      <td>1277</td>\n",
       "      <td>300 Hayes Street, Civic Center, San Francisco</td>\n",
       "      <td>2694</td>\n",
       "      <td>1900 Buchanan Street, Western Addition, San Fr...</td>\n",
       "      <td>3/31/2020 - 3/31/2020, Every day, Daily Average</td>\n",
       "      <td>222</td>\n",
       "      <td>167</td>\n",
       "      <td>294</td>\n",
       "      <td>31</td>\n",
       "    </tr>\n",
       "    <tr>\n",
       "      <th>10337</th>\n",
       "      <td>1277</td>\n",
       "      <td>300 Hayes Street, Civic Center, San Francisco</td>\n",
       "      <td>2695</td>\n",
       "      <td>2200 Rivera Street, Sunset District, San Franc...</td>\n",
       "      <td>3/31/2020 - 3/31/2020, Every day, Daily Average</td>\n",
       "      <td>917</td>\n",
       "      <td>778</td>\n",
       "      <td>1080</td>\n",
       "      <td>31</td>\n",
       "    </tr>\n",
       "  </tbody>\n",
       "</table>\n",
       "<p>10338 rows × 9 columns</p>\n",
       "</div>"
      ],
      "text/plain": [
       "       Origin Movement ID                            Origin Display Name  \\\n",
       "0                    1277  300 Hayes Street, Civic Center, San Francisco   \n",
       "1                    1277  300 Hayes Street, Civic Center, San Francisco   \n",
       "2                    1277  300 Hayes Street, Civic Center, San Francisco   \n",
       "3                    1277  300 Hayes Street, Civic Center, San Francisco   \n",
       "4                    1277  300 Hayes Street, Civic Center, San Francisco   \n",
       "...                   ...                                            ...   \n",
       "10333                1277  300 Hayes Street, Civic Center, San Francisco   \n",
       "10334                1277  300 Hayes Street, Civic Center, San Francisco   \n",
       "10335                1277  300 Hayes Street, Civic Center, San Francisco   \n",
       "10336                1277  300 Hayes Street, Civic Center, San Francisco   \n",
       "10337                1277  300 Hayes Street, Civic Center, San Francisco   \n",
       "\n",
       "       Destination Movement ID  \\\n",
       "0                            9   \n",
       "1                           20   \n",
       "2                           21   \n",
       "3                           44   \n",
       "4                           46   \n",
       "...                        ...   \n",
       "10333                     2624   \n",
       "10334                     2643   \n",
       "10335                     2673   \n",
       "10336                     2694   \n",
       "10337                     2695   \n",
       "\n",
       "                                Destination Display Name  \\\n",
       "0             500 Hyde Street, Tenderloin, San Francisco   \n",
       "1       900 Sutter Street, Lower Nob Hill, San Francisco   \n",
       "2      3400 Pierce Street, Marina District, San Franc...   \n",
       "3             1700 Egbert Avenue, Bayview, San Francisco   \n",
       "4              500 Chester Street, West Oakland, Oakland   \n",
       "...                                                  ...   \n",
       "10333      1300 16th Avenue, Inner Sunset, San Francisco   \n",
       "10334         1300 Egbert Avenue, Bayview, San Francisco   \n",
       "10335  100 Rutledge Street, Bernal Heights, San Franc...   \n",
       "10336  1900 Buchanan Street, Western Addition, San Fr...   \n",
       "10337  2200 Rivera Street, Sunset District, San Franc...   \n",
       "\n",
       "                                            Date Range  \\\n",
       "0        3/1/2020 - 3/1/2020, Every day, Daily Average   \n",
       "1        3/1/2020 - 3/1/2020, Every day, Daily Average   \n",
       "2        3/1/2020 - 3/1/2020, Every day, Daily Average   \n",
       "3        3/1/2020 - 3/1/2020, Every day, Daily Average   \n",
       "4        3/1/2020 - 3/1/2020, Every day, Daily Average   \n",
       "...                                                ...   \n",
       "10333  3/31/2020 - 3/31/2020, Every day, Daily Average   \n",
       "10334  3/31/2020 - 3/31/2020, Every day, Daily Average   \n",
       "10335  3/31/2020 - 3/31/2020, Every day, Daily Average   \n",
       "10336  3/31/2020 - 3/31/2020, Every day, Daily Average   \n",
       "10337  3/31/2020 - 3/31/2020, Every day, Daily Average   \n",
       "\n",
       "       Mean Travel Time (Seconds)  Range - Lower Bound Travel Time (Seconds)  \\\n",
       "0                             322                                        211   \n",
       "1                             291                                        179   \n",
       "2                             635                                        438   \n",
       "3                             786                                        566   \n",
       "4                             891                                        682   \n",
       "...                           ...                                        ...   \n",
       "10333                         502                                        411   \n",
       "10334                         571                                        475   \n",
       "10335                         367                                        265   \n",
       "10336                         222                                        167   \n",
       "10337                         917                                        778   \n",
       "\n",
       "       Range - Upper Bound Travel Time (Seconds)  day  \n",
       "0                                            489    1  \n",
       "1                                            470    1  \n",
       "2                                            920    1  \n",
       "3                                           1090    1  \n",
       "4                                           1162    1  \n",
       "...                                          ...  ...  \n",
       "10333                                        611   31  \n",
       "10334                                        685   31  \n",
       "10335                                        507   31  \n",
       "10336                                        294   31  \n",
       "10337                                       1080   31  \n",
       "\n",
       "[10338 rows x 9 columns]"
      ]
     },
     "execution_count": 43,
     "metadata": {},
     "output_type": "execute_result"
    }
   ],
   "source": [
    "PATH_TIMES = 'data/travel-times-daily-san-francisco-2020-3.csv'\n",
    "times_to_tract = pd.read_csv(PATH_TIMES)\n",
    "times_to_tract"
   ]
  },
  {
   "cell_type": "markdown",
   "id": "2324d4cc",
   "metadata": {},
   "source": [
    "# Step 4 - Guided Modeling: Predict traffic speed post-lockdown\n",
    "\n",
    "In this step, you'll train a model to predict traffic speed. In particular, you'll learn how to provide implicit supervision and correction to your model, when you know there's been a distribution shift in its data, leading to a large gap between train and test sets. You'll follow the following outline:\n",
    "\n",
    "- Build a model to predict daily traffic speed in San Francisco. Train and evaluate on *pre*-lockdown traffic speeds around the city.\n",
    "- Evaluate your model on post-lockdown traffic speeds. Where is your model most mistaken, and why?\n",
    "- Using this knowledge, how would you correct your model for a more accurate post-lockdown traffic predictor?\n",
    "\n",
    "\n",
    "The technical term for a phenomenon like the lockdown, which caused major distributional shifts in the data, is *change point*. A large body of work studies \"change point detection,\" but you'll be harder pressed to find a \"handling change point\" paper. "
   ]
  },
  {
   "cell_type": "markdown",
   "id": "d00c0fb2",
   "metadata": {},
   "source": [
    "## 4.a. Predict daily traffic speed on pre-lockdown data\n",
    "\n",
    "For your model, you will predict daily traffic speed per census tract, given the previous $k=5$ daily traffic speeds for that census tract. In particular, say a matrix $A$ is $n \\times d$, where $n$ is the number of census tracts and $d$ is the number of days. We define the following inputs and labels:\n",
    "\n",
    "$$X_{(i,t)} = [A_{(i,t-5)}, A_{(i,t-4)}, A_{(i,t-3)}, A_{(i,t-2)}, A_{(i,t-1)}]$$\n",
    "$$y_{(i,t)} = [A_{(i,t)}]$$\n",
    "\n",
    "This just means that each sample $X_i$ includes speed averages from the previous 5 days for the $i$th census track."
   ]
  },
  {
   "cell_type": "markdown",
   "id": "62f1a0de",
   "metadata": {
    "deletable": false,
    "editable": false
   },
   "source": [
    "### 4.a.i. Assemble dataset to predict daily traffic speed.\n",
    "\n",
    "Below, we've included skeletons for the helper functions we defined, to complete the problem. We highly recommend following this skeleton code, else we cannot guarantee staff support for debugging your work.\n",
    "\n",
    "\n",
    "**Hint**: What's wrong with collecting all samples, then randomly selecting some percentage to hold out? See the answer in the expandable below.\n",
    "\n",
    "<details>\n",
    "    <summary>[Click to expand] How to do train-validation split correctly, on time series</summary>\n",
    "    \n",
    "For a *time series* in particular, this random split would be cheating, because data within each day is highly correlated. Instead, you should hold out entire days from the dataset. In this case, you should hold out the last 2 days for your validation set.\n",
    "</details>\n",
    "\n",
    "<!--\n",
    "BEGIN QUESTION\n",
    "name: q4ai1\n",
    "points: 1\n",
    "-->"
   ]
  },
  {
   "cell_type": "code",
   "execution_count": 47,
   "id": "12024037-37b9-48af-bf3f-b2a65c2dfa1c",
   "metadata": {},
   "outputs": [
    {
     "data": {
      "text/html": [
       "<div>\n",
       "<style scoped>\n",
       "    .dataframe tbody tr th:only-of-type {\n",
       "        vertical-align: middle;\n",
       "    }\n",
       "\n",
       "    .dataframe tbody tr th {\n",
       "        vertical-align: top;\n",
       "    }\n",
       "\n",
       "    .dataframe thead th {\n",
       "        text-align: right;\n",
       "    }\n",
       "</style>\n",
       "<table border=\"1\" class=\"dataframe\">\n",
       "  <thead>\n",
       "    <tr style=\"text-align: right;\">\n",
       "      <th>day</th>\n",
       "      <th>1</th>\n",
       "      <th>2</th>\n",
       "      <th>3</th>\n",
       "      <th>4</th>\n",
       "      <th>5</th>\n",
       "      <th>6</th>\n",
       "      <th>7</th>\n",
       "      <th>8</th>\n",
       "      <th>9</th>\n",
       "      <th>10</th>\n",
       "      <th>...</th>\n",
       "      <th>22</th>\n",
       "      <th>23</th>\n",
       "      <th>24</th>\n",
       "      <th>25</th>\n",
       "      <th>26</th>\n",
       "      <th>27</th>\n",
       "      <th>28</th>\n",
       "      <th>29</th>\n",
       "      <th>30</th>\n",
       "      <th>31</th>\n",
       "    </tr>\n",
       "    <tr>\n",
       "      <th>MOVEMENT_ID</th>\n",
       "      <th></th>\n",
       "      <th></th>\n",
       "      <th></th>\n",
       "      <th></th>\n",
       "      <th></th>\n",
       "      <th></th>\n",
       "      <th></th>\n",
       "      <th></th>\n",
       "      <th></th>\n",
       "      <th></th>\n",
       "      <th></th>\n",
       "      <th></th>\n",
       "      <th></th>\n",
       "      <th></th>\n",
       "      <th></th>\n",
       "      <th></th>\n",
       "      <th></th>\n",
       "      <th></th>\n",
       "      <th></th>\n",
       "      <th></th>\n",
       "      <th></th>\n",
       "    </tr>\n",
       "  </thead>\n",
       "  <tbody>\n",
       "    <tr>\n",
       "      <th>9</th>\n",
       "      <td>16.196918</td>\n",
       "      <td>14.395121</td>\n",
       "      <td>13.868696</td>\n",
       "      <td>14.225414</td>\n",
       "      <td>14.312199</td>\n",
       "      <td>13.811991</td>\n",
       "      <td>15.508637</td>\n",
       "      <td>16.210738</td>\n",
       "      <td>14.845320</td>\n",
       "      <td>14.711534</td>\n",
       "      <td>...</td>\n",
       "      <td>15.880078</td>\n",
       "      <td>17.019573</td>\n",
       "      <td>15.527393</td>\n",
       "      <td>15.925605</td>\n",
       "      <td>15.959744</td>\n",
       "      <td>17.317841</td>\n",
       "      <td>17.845053</td>\n",
       "      <td>17.839214</td>\n",
       "      <td>15.743376</td>\n",
       "      <td>15.797248</td>\n",
       "    </tr>\n",
       "    <tr>\n",
       "      <th>20</th>\n",
       "      <td>17.418045</td>\n",
       "      <td>15.460956</td>\n",
       "      <td>15.463297</td>\n",
       "      <td>15.419764</td>\n",
       "      <td>15.291956</td>\n",
       "      <td>15.227310</td>\n",
       "      <td>17.088325</td>\n",
       "      <td>18.088862</td>\n",
       "      <td>16.178105</td>\n",
       "      <td>15.295494</td>\n",
       "      <td>...</td>\n",
       "      <td>18.843376</td>\n",
       "      <td>17.029943</td>\n",
       "      <td>16.286795</td>\n",
       "      <td>17.007889</td>\n",
       "      <td>15.205696</td>\n",
       "      <td>17.461643</td>\n",
       "      <td>16.997424</td>\n",
       "      <td>19.024721</td>\n",
       "      <td>14.134949</td>\n",
       "      <td>17.287814</td>\n",
       "    </tr>\n",
       "    <tr>\n",
       "      <th>21</th>\n",
       "      <td>15.141171</td>\n",
       "      <td>13.176998</td>\n",
       "      <td>13.781490</td>\n",
       "      <td>14.052113</td>\n",
       "      <td>14.078134</td>\n",
       "      <td>13.636357</td>\n",
       "      <td>13.958269</td>\n",
       "      <td>14.642295</td>\n",
       "      <td>15.616215</td>\n",
       "      <td>14.850471</td>\n",
       "      <td>...</td>\n",
       "      <td>NaN</td>\n",
       "      <td>NaN</td>\n",
       "      <td>NaN</td>\n",
       "      <td>NaN</td>\n",
       "      <td>NaN</td>\n",
       "      <td>NaN</td>\n",
       "      <td>NaN</td>\n",
       "      <td>NaN</td>\n",
       "      <td>NaN</td>\n",
       "      <td>NaN</td>\n",
       "    </tr>\n",
       "    <tr>\n",
       "      <th>44</th>\n",
       "      <td>25.079544</td>\n",
       "      <td>23.492586</td>\n",
       "      <td>22.727711</td>\n",
       "      <td>22.274143</td>\n",
       "      <td>21.874703</td>\n",
       "      <td>23.082414</td>\n",
       "      <td>22.875819</td>\n",
       "      <td>25.653848</td>\n",
       "      <td>23.501387</td>\n",
       "      <td>22.739869</td>\n",
       "      <td>...</td>\n",
       "      <td>24.381933</td>\n",
       "      <td>25.350187</td>\n",
       "      <td>31.126033</td>\n",
       "      <td>NaN</td>\n",
       "      <td>22.518500</td>\n",
       "      <td>27.697570</td>\n",
       "      <td>26.899667</td>\n",
       "      <td>19.777429</td>\n",
       "      <td>24.385409</td>\n",
       "      <td>24.683422</td>\n",
       "    </tr>\n",
       "    <tr>\n",
       "      <th>78</th>\n",
       "      <td>16.174464</td>\n",
       "      <td>16.755496</td>\n",
       "      <td>16.039120</td>\n",
       "      <td>16.118401</td>\n",
       "      <td>15.665069</td>\n",
       "      <td>15.797723</td>\n",
       "      <td>15.302616</td>\n",
       "      <td>19.284080</td>\n",
       "      <td>16.253357</td>\n",
       "      <td>16.131290</td>\n",
       "      <td>...</td>\n",
       "      <td>NaN</td>\n",
       "      <td>NaN</td>\n",
       "      <td>15.690000</td>\n",
       "      <td>NaN</td>\n",
       "      <td>NaN</td>\n",
       "      <td>16.849000</td>\n",
       "      <td>NaN</td>\n",
       "      <td>NaN</td>\n",
       "      <td>16.493000</td>\n",
       "      <td>16.767400</td>\n",
       "    </tr>\n",
       "    <tr>\n",
       "      <th>...</th>\n",
       "      <td>...</td>\n",
       "      <td>...</td>\n",
       "      <td>...</td>\n",
       "      <td>...</td>\n",
       "      <td>...</td>\n",
       "      <td>...</td>\n",
       "      <td>...</td>\n",
       "      <td>...</td>\n",
       "      <td>...</td>\n",
       "      <td>...</td>\n",
       "      <td>...</td>\n",
       "      <td>...</td>\n",
       "      <td>...</td>\n",
       "      <td>...</td>\n",
       "      <td>...</td>\n",
       "      <td>...</td>\n",
       "      <td>...</td>\n",
       "      <td>...</td>\n",
       "      <td>...</td>\n",
       "      <td>...</td>\n",
       "      <td>...</td>\n",
       "    </tr>\n",
       "    <tr>\n",
       "      <th>2691</th>\n",
       "      <td>NaN</td>\n",
       "      <td>NaN</td>\n",
       "      <td>NaN</td>\n",
       "      <td>NaN</td>\n",
       "      <td>18.600000</td>\n",
       "      <td>17.787000</td>\n",
       "      <td>23.473000</td>\n",
       "      <td>NaN</td>\n",
       "      <td>19.038000</td>\n",
       "      <td>NaN</td>\n",
       "      <td>...</td>\n",
       "      <td>NaN</td>\n",
       "      <td>NaN</td>\n",
       "      <td>NaN</td>\n",
       "      <td>NaN</td>\n",
       "      <td>NaN</td>\n",
       "      <td>NaN</td>\n",
       "      <td>NaN</td>\n",
       "      <td>NaN</td>\n",
       "      <td>NaN</td>\n",
       "      <td>NaN</td>\n",
       "    </tr>\n",
       "    <tr>\n",
       "      <th>2694</th>\n",
       "      <td>17.809761</td>\n",
       "      <td>16.725889</td>\n",
       "      <td>16.530783</td>\n",
       "      <td>16.446517</td>\n",
       "      <td>16.503053</td>\n",
       "      <td>16.652473</td>\n",
       "      <td>17.427329</td>\n",
       "      <td>18.057287</td>\n",
       "      <td>17.310272</td>\n",
       "      <td>16.998730</td>\n",
       "      <td>...</td>\n",
       "      <td>23.886576</td>\n",
       "      <td>23.410192</td>\n",
       "      <td>23.302396</td>\n",
       "      <td>23.031966</td>\n",
       "      <td>23.107702</td>\n",
       "      <td>23.581885</td>\n",
       "      <td>24.382866</td>\n",
       "      <td>23.278001</td>\n",
       "      <td>23.426889</td>\n",
       "      <td>24.056357</td>\n",
       "    </tr>\n",
       "    <tr>\n",
       "      <th>2695</th>\n",
       "      <td>20.106061</td>\n",
       "      <td>20.228850</td>\n",
       "      <td>19.849135</td>\n",
       "      <td>20.145877</td>\n",
       "      <td>22.357605</td>\n",
       "      <td>19.250479</td>\n",
       "      <td>19.223717</td>\n",
       "      <td>19.471282</td>\n",
       "      <td>20.497077</td>\n",
       "      <td>20.401085</td>\n",
       "      <td>...</td>\n",
       "      <td>29.218800</td>\n",
       "      <td>NaN</td>\n",
       "      <td>NaN</td>\n",
       "      <td>NaN</td>\n",
       "      <td>23.396500</td>\n",
       "      <td>NaN</td>\n",
       "      <td>19.708000</td>\n",
       "      <td>26.461900</td>\n",
       "      <td>NaN</td>\n",
       "      <td>19.959500</td>\n",
       "    </tr>\n",
       "    <tr>\n",
       "      <th>2700</th>\n",
       "      <td>34.586890</td>\n",
       "      <td>31.372308</td>\n",
       "      <td>30.866382</td>\n",
       "      <td>31.000998</td>\n",
       "      <td>31.636377</td>\n",
       "      <td>30.213992</td>\n",
       "      <td>33.581884</td>\n",
       "      <td>35.443617</td>\n",
       "      <td>32.179867</td>\n",
       "      <td>32.951855</td>\n",
       "      <td>...</td>\n",
       "      <td>47.265544</td>\n",
       "      <td>39.722920</td>\n",
       "      <td>42.812205</td>\n",
       "      <td>39.087122</td>\n",
       "      <td>54.935270</td>\n",
       "      <td>40.893501</td>\n",
       "      <td>45.208787</td>\n",
       "      <td>60.177978</td>\n",
       "      <td>38.714434</td>\n",
       "      <td>48.398038</td>\n",
       "    </tr>\n",
       "    <tr>\n",
       "      <th>2708</th>\n",
       "      <td>25.176235</td>\n",
       "      <td>24.725863</td>\n",
       "      <td>24.130040</td>\n",
       "      <td>24.287102</td>\n",
       "      <td>24.364056</td>\n",
       "      <td>25.090063</td>\n",
       "      <td>25.552157</td>\n",
       "      <td>26.296112</td>\n",
       "      <td>25.512403</td>\n",
       "      <td>24.886063</td>\n",
       "      <td>...</td>\n",
       "      <td>NaN</td>\n",
       "      <td>19.323625</td>\n",
       "      <td>27.792333</td>\n",
       "      <td>25.255979</td>\n",
       "      <td>25.388000</td>\n",
       "      <td>24.786000</td>\n",
       "      <td>27.643333</td>\n",
       "      <td>27.497250</td>\n",
       "      <td>29.508200</td>\n",
       "      <td>NaN</td>\n",
       "    </tr>\n",
       "  </tbody>\n",
       "</table>\n",
       "<p>295 rows × 31 columns</p>\n",
       "</div>"
      ],
      "text/plain": [
       "day                 1          2          3          4          5          6   \\\n",
       "MOVEMENT_ID                                                                     \n",
       "9            16.196918  14.395121  13.868696  14.225414  14.312199  13.811991   \n",
       "20           17.418045  15.460956  15.463297  15.419764  15.291956  15.227310   \n",
       "21           15.141171  13.176998  13.781490  14.052113  14.078134  13.636357   \n",
       "44           25.079544  23.492586  22.727711  22.274143  21.874703  23.082414   \n",
       "78           16.174464  16.755496  16.039120  16.118401  15.665069  15.797723   \n",
       "...                ...        ...        ...        ...        ...        ...   \n",
       "2691               NaN        NaN        NaN        NaN  18.600000  17.787000   \n",
       "2694         17.809761  16.725889  16.530783  16.446517  16.503053  16.652473   \n",
       "2695         20.106061  20.228850  19.849135  20.145877  22.357605  19.250479   \n",
       "2700         34.586890  31.372308  30.866382  31.000998  31.636377  30.213992   \n",
       "2708         25.176235  24.725863  24.130040  24.287102  24.364056  25.090063   \n",
       "\n",
       "day                 7          8          9          10  ...         22  \\\n",
       "MOVEMENT_ID                                              ...              \n",
       "9            15.508637  16.210738  14.845320  14.711534  ...  15.880078   \n",
       "20           17.088325  18.088862  16.178105  15.295494  ...  18.843376   \n",
       "21           13.958269  14.642295  15.616215  14.850471  ...        NaN   \n",
       "44           22.875819  25.653848  23.501387  22.739869  ...  24.381933   \n",
       "78           15.302616  19.284080  16.253357  16.131290  ...        NaN   \n",
       "...                ...        ...        ...        ...  ...        ...   \n",
       "2691         23.473000        NaN  19.038000        NaN  ...        NaN   \n",
       "2694         17.427329  18.057287  17.310272  16.998730  ...  23.886576   \n",
       "2695         19.223717  19.471282  20.497077  20.401085  ...  29.218800   \n",
       "2700         33.581884  35.443617  32.179867  32.951855  ...  47.265544   \n",
       "2708         25.552157  26.296112  25.512403  24.886063  ...        NaN   \n",
       "\n",
       "day                 23         24         25         26         27         28  \\\n",
       "MOVEMENT_ID                                                                     \n",
       "9            17.019573  15.527393  15.925605  15.959744  17.317841  17.845053   \n",
       "20           17.029943  16.286795  17.007889  15.205696  17.461643  16.997424   \n",
       "21                 NaN        NaN        NaN        NaN        NaN        NaN   \n",
       "44           25.350187  31.126033        NaN  22.518500  27.697570  26.899667   \n",
       "78                 NaN  15.690000        NaN        NaN  16.849000        NaN   \n",
       "...                ...        ...        ...        ...        ...        ...   \n",
       "2691               NaN        NaN        NaN        NaN        NaN        NaN   \n",
       "2694         23.410192  23.302396  23.031966  23.107702  23.581885  24.382866   \n",
       "2695               NaN        NaN        NaN  23.396500        NaN  19.708000   \n",
       "2700         39.722920  42.812205  39.087122  54.935270  40.893501  45.208787   \n",
       "2708         19.323625  27.792333  25.255979  25.388000  24.786000  27.643333   \n",
       "\n",
       "day                 29         30         31  \n",
       "MOVEMENT_ID                                   \n",
       "9            17.839214  15.743376  15.797248  \n",
       "20           19.024721  14.134949  17.287814  \n",
       "21                 NaN        NaN        NaN  \n",
       "44           19.777429  24.385409  24.683422  \n",
       "78                 NaN  16.493000  16.767400  \n",
       "...                ...        ...        ...  \n",
       "2691               NaN        NaN        NaN  \n",
       "2694         23.278001  23.426889  24.056357  \n",
       "2695         26.461900        NaN  19.959500  \n",
       "2700         60.177978  38.714434  48.398038  \n",
       "2708         27.497250  29.508200        NaN  \n",
       "\n",
       "[295 rows x 31 columns]"
      ]
     },
     "execution_count": 47,
     "metadata": {},
     "output_type": "execute_result"
    }
   ],
   "source": [
    "speeds_to_tract.groupby(['MOVEMENT_ID','day'])['speed_mph_mean'].mean().unstack()"
   ]
  },
  {
   "cell_type": "code",
   "execution_count": null,
   "id": "96d0a967-605f-4d00-aea8-b07874244f8c",
   "metadata": {},
   "outputs": [],
   "source": [
    "speeds_to_tract.groupby(['Movement_ID','day'])['']"
   ]
  },
  {
   "cell_type": "code",
   "execution_count": 52,
   "id": "6a10ed6a",
   "metadata": {},
   "outputs": [],
   "source": [
    "def dataframe_to_time_series(df: pd.DataFrame):\n",
    "    \"\"\"Convert your dataframe into a 'time series'.\n",
    "    \n",
    "    :param df: the original dataframe, mapping speeds to census tracts.\n",
    "        This dataframe should contain the `MOVEMENT_ID` (census tract id),\n",
    "        `day`, and average speed for that day `speed_mph_mean`\n",
    "    :return: a new dataframe that is formatted as n x d, where\n",
    "        n is the number of samples (census tracts) and d is the number of\n",
    "        dimensions (days). The values are the speeds.\n",
    "    \"\"\"\n",
    "    return speeds_to_tract.groupby(['MOVEMENT_ID','day'])['speed_mph_mean'].mean().unstack()\n",
    "    \n",
    "time_series = dataframe_to_time_series(speeds_to_tract)\n",
    "time_series_pre = time_series.iloc[:, list(range(13))]"
   ]
  },
  {
   "cell_type": "code",
   "execution_count": 270,
   "id": "c709914f-adce-4e77-b1d8-65a093859da5",
   "metadata": {},
   "outputs": [
    {
     "data": {
      "text/html": [
       "<div>\n",
       "<style scoped>\n",
       "    .dataframe tbody tr th:only-of-type {\n",
       "        vertical-align: middle;\n",
       "    }\n",
       "\n",
       "    .dataframe tbody tr th {\n",
       "        vertical-align: top;\n",
       "    }\n",
       "\n",
       "    .dataframe thead th {\n",
       "        text-align: right;\n",
       "    }\n",
       "</style>\n",
       "<table border=\"1\" class=\"dataframe\">\n",
       "  <thead>\n",
       "    <tr style=\"text-align: right;\">\n",
       "      <th>day</th>\n",
       "      <th>1</th>\n",
       "      <th>2</th>\n",
       "      <th>3</th>\n",
       "      <th>4</th>\n",
       "      <th>5</th>\n",
       "      <th>6</th>\n",
       "      <th>7</th>\n",
       "      <th>8</th>\n",
       "      <th>9</th>\n",
       "      <th>10</th>\n",
       "      <th>...</th>\n",
       "      <th>22</th>\n",
       "      <th>23</th>\n",
       "      <th>24</th>\n",
       "      <th>25</th>\n",
       "      <th>26</th>\n",
       "      <th>27</th>\n",
       "      <th>28</th>\n",
       "      <th>29</th>\n",
       "      <th>30</th>\n",
       "      <th>31</th>\n",
       "    </tr>\n",
       "    <tr>\n",
       "      <th>MOVEMENT_ID</th>\n",
       "      <th></th>\n",
       "      <th></th>\n",
       "      <th></th>\n",
       "      <th></th>\n",
       "      <th></th>\n",
       "      <th></th>\n",
       "      <th></th>\n",
       "      <th></th>\n",
       "      <th></th>\n",
       "      <th></th>\n",
       "      <th></th>\n",
       "      <th></th>\n",
       "      <th></th>\n",
       "      <th></th>\n",
       "      <th></th>\n",
       "      <th></th>\n",
       "      <th></th>\n",
       "      <th></th>\n",
       "      <th></th>\n",
       "      <th></th>\n",
       "      <th></th>\n",
       "    </tr>\n",
       "  </thead>\n",
       "  <tbody>\n",
       "    <tr>\n",
       "      <th>9</th>\n",
       "      <td>16.196918</td>\n",
       "      <td>14.395121</td>\n",
       "      <td>13.868696</td>\n",
       "      <td>14.225414</td>\n",
       "      <td>14.312199</td>\n",
       "      <td>13.811991</td>\n",
       "      <td>15.508637</td>\n",
       "      <td>16.210738</td>\n",
       "      <td>14.845320</td>\n",
       "      <td>14.711534</td>\n",
       "      <td>...</td>\n",
       "      <td>15.880078</td>\n",
       "      <td>17.019573</td>\n",
       "      <td>15.527393</td>\n",
       "      <td>15.925605</td>\n",
       "      <td>15.959744</td>\n",
       "      <td>17.317841</td>\n",
       "      <td>17.845053</td>\n",
       "      <td>17.839214</td>\n",
       "      <td>15.743376</td>\n",
       "      <td>15.797248</td>\n",
       "    </tr>\n",
       "    <tr>\n",
       "      <th>20</th>\n",
       "      <td>17.418045</td>\n",
       "      <td>15.460956</td>\n",
       "      <td>15.463297</td>\n",
       "      <td>15.419764</td>\n",
       "      <td>15.291956</td>\n",
       "      <td>15.227310</td>\n",
       "      <td>17.088325</td>\n",
       "      <td>18.088862</td>\n",
       "      <td>16.178105</td>\n",
       "      <td>15.295494</td>\n",
       "      <td>...</td>\n",
       "      <td>18.843376</td>\n",
       "      <td>17.029943</td>\n",
       "      <td>16.286795</td>\n",
       "      <td>17.007889</td>\n",
       "      <td>15.205696</td>\n",
       "      <td>17.461643</td>\n",
       "      <td>16.997424</td>\n",
       "      <td>19.024721</td>\n",
       "      <td>14.134949</td>\n",
       "      <td>17.287814</td>\n",
       "    </tr>\n",
       "    <tr>\n",
       "      <th>21</th>\n",
       "      <td>15.141171</td>\n",
       "      <td>13.176998</td>\n",
       "      <td>13.781490</td>\n",
       "      <td>14.052113</td>\n",
       "      <td>14.078134</td>\n",
       "      <td>13.636357</td>\n",
       "      <td>13.958269</td>\n",
       "      <td>14.642295</td>\n",
       "      <td>15.616215</td>\n",
       "      <td>14.850471</td>\n",
       "      <td>...</td>\n",
       "      <td>NaN</td>\n",
       "      <td>NaN</td>\n",
       "      <td>NaN</td>\n",
       "      <td>NaN</td>\n",
       "      <td>NaN</td>\n",
       "      <td>NaN</td>\n",
       "      <td>NaN</td>\n",
       "      <td>NaN</td>\n",
       "      <td>NaN</td>\n",
       "      <td>NaN</td>\n",
       "    </tr>\n",
       "    <tr>\n",
       "      <th>44</th>\n",
       "      <td>25.079544</td>\n",
       "      <td>23.492586</td>\n",
       "      <td>22.727711</td>\n",
       "      <td>22.274143</td>\n",
       "      <td>21.874703</td>\n",
       "      <td>23.082414</td>\n",
       "      <td>22.875819</td>\n",
       "      <td>25.653848</td>\n",
       "      <td>23.501387</td>\n",
       "      <td>22.739869</td>\n",
       "      <td>...</td>\n",
       "      <td>24.381933</td>\n",
       "      <td>25.350187</td>\n",
       "      <td>31.126033</td>\n",
       "      <td>NaN</td>\n",
       "      <td>22.518500</td>\n",
       "      <td>27.697570</td>\n",
       "      <td>26.899667</td>\n",
       "      <td>19.777429</td>\n",
       "      <td>24.385409</td>\n",
       "      <td>24.683422</td>\n",
       "    </tr>\n",
       "    <tr>\n",
       "      <th>78</th>\n",
       "      <td>16.174464</td>\n",
       "      <td>16.755496</td>\n",
       "      <td>16.039120</td>\n",
       "      <td>16.118401</td>\n",
       "      <td>15.665069</td>\n",
       "      <td>15.797723</td>\n",
       "      <td>15.302616</td>\n",
       "      <td>19.284080</td>\n",
       "      <td>16.253357</td>\n",
       "      <td>16.131290</td>\n",
       "      <td>...</td>\n",
       "      <td>NaN</td>\n",
       "      <td>NaN</td>\n",
       "      <td>15.690000</td>\n",
       "      <td>NaN</td>\n",
       "      <td>NaN</td>\n",
       "      <td>16.849000</td>\n",
       "      <td>NaN</td>\n",
       "      <td>NaN</td>\n",
       "      <td>16.493000</td>\n",
       "      <td>16.767400</td>\n",
       "    </tr>\n",
       "    <tr>\n",
       "      <th>...</th>\n",
       "      <td>...</td>\n",
       "      <td>...</td>\n",
       "      <td>...</td>\n",
       "      <td>...</td>\n",
       "      <td>...</td>\n",
       "      <td>...</td>\n",
       "      <td>...</td>\n",
       "      <td>...</td>\n",
       "      <td>...</td>\n",
       "      <td>...</td>\n",
       "      <td>...</td>\n",
       "      <td>...</td>\n",
       "      <td>...</td>\n",
       "      <td>...</td>\n",
       "      <td>...</td>\n",
       "      <td>...</td>\n",
       "      <td>...</td>\n",
       "      <td>...</td>\n",
       "      <td>...</td>\n",
       "      <td>...</td>\n",
       "      <td>...</td>\n",
       "    </tr>\n",
       "    <tr>\n",
       "      <th>2691</th>\n",
       "      <td>NaN</td>\n",
       "      <td>NaN</td>\n",
       "      <td>NaN</td>\n",
       "      <td>NaN</td>\n",
       "      <td>18.600000</td>\n",
       "      <td>17.787000</td>\n",
       "      <td>23.473000</td>\n",
       "      <td>NaN</td>\n",
       "      <td>19.038000</td>\n",
       "      <td>NaN</td>\n",
       "      <td>...</td>\n",
       "      <td>NaN</td>\n",
       "      <td>NaN</td>\n",
       "      <td>NaN</td>\n",
       "      <td>NaN</td>\n",
       "      <td>NaN</td>\n",
       "      <td>NaN</td>\n",
       "      <td>NaN</td>\n",
       "      <td>NaN</td>\n",
       "      <td>NaN</td>\n",
       "      <td>NaN</td>\n",
       "    </tr>\n",
       "    <tr>\n",
       "      <th>2694</th>\n",
       "      <td>17.809761</td>\n",
       "      <td>16.725889</td>\n",
       "      <td>16.530783</td>\n",
       "      <td>16.446517</td>\n",
       "      <td>16.503053</td>\n",
       "      <td>16.652473</td>\n",
       "      <td>17.427329</td>\n",
       "      <td>18.057287</td>\n",
       "      <td>17.310272</td>\n",
       "      <td>16.998730</td>\n",
       "      <td>...</td>\n",
       "      <td>23.886576</td>\n",
       "      <td>23.410192</td>\n",
       "      <td>23.302396</td>\n",
       "      <td>23.031966</td>\n",
       "      <td>23.107702</td>\n",
       "      <td>23.581885</td>\n",
       "      <td>24.382866</td>\n",
       "      <td>23.278001</td>\n",
       "      <td>23.426889</td>\n",
       "      <td>24.056357</td>\n",
       "    </tr>\n",
       "    <tr>\n",
       "      <th>2695</th>\n",
       "      <td>20.106061</td>\n",
       "      <td>20.228850</td>\n",
       "      <td>19.849135</td>\n",
       "      <td>20.145877</td>\n",
       "      <td>22.357605</td>\n",
       "      <td>19.250479</td>\n",
       "      <td>19.223717</td>\n",
       "      <td>19.471282</td>\n",
       "      <td>20.497077</td>\n",
       "      <td>20.401085</td>\n",
       "      <td>...</td>\n",
       "      <td>29.218800</td>\n",
       "      <td>NaN</td>\n",
       "      <td>NaN</td>\n",
       "      <td>NaN</td>\n",
       "      <td>23.396500</td>\n",
       "      <td>NaN</td>\n",
       "      <td>19.708000</td>\n",
       "      <td>26.461900</td>\n",
       "      <td>NaN</td>\n",
       "      <td>19.959500</td>\n",
       "    </tr>\n",
       "    <tr>\n",
       "      <th>2700</th>\n",
       "      <td>34.586890</td>\n",
       "      <td>31.372308</td>\n",
       "      <td>30.866382</td>\n",
       "      <td>31.000998</td>\n",
       "      <td>31.636377</td>\n",
       "      <td>30.213992</td>\n",
       "      <td>33.581884</td>\n",
       "      <td>35.443617</td>\n",
       "      <td>32.179867</td>\n",
       "      <td>32.951855</td>\n",
       "      <td>...</td>\n",
       "      <td>47.265544</td>\n",
       "      <td>39.722920</td>\n",
       "      <td>42.812205</td>\n",
       "      <td>39.087122</td>\n",
       "      <td>54.935270</td>\n",
       "      <td>40.893501</td>\n",
       "      <td>45.208787</td>\n",
       "      <td>60.177978</td>\n",
       "      <td>38.714434</td>\n",
       "      <td>48.398038</td>\n",
       "    </tr>\n",
       "    <tr>\n",
       "      <th>2708</th>\n",
       "      <td>25.176235</td>\n",
       "      <td>24.725863</td>\n",
       "      <td>24.130040</td>\n",
       "      <td>24.287102</td>\n",
       "      <td>24.364056</td>\n",
       "      <td>25.090063</td>\n",
       "      <td>25.552157</td>\n",
       "      <td>26.296112</td>\n",
       "      <td>25.512403</td>\n",
       "      <td>24.886063</td>\n",
       "      <td>...</td>\n",
       "      <td>NaN</td>\n",
       "      <td>19.323625</td>\n",
       "      <td>27.792333</td>\n",
       "      <td>25.255979</td>\n",
       "      <td>25.388000</td>\n",
       "      <td>24.786000</td>\n",
       "      <td>27.643333</td>\n",
       "      <td>27.497250</td>\n",
       "      <td>29.508200</td>\n",
       "      <td>NaN</td>\n",
       "    </tr>\n",
       "  </tbody>\n",
       "</table>\n",
       "<p>295 rows × 31 columns</p>\n",
       "</div>"
      ],
      "text/plain": [
       "day                 1          2          3          4          5          6   \\\n",
       "MOVEMENT_ID                                                                     \n",
       "9            16.196918  14.395121  13.868696  14.225414  14.312199  13.811991   \n",
       "20           17.418045  15.460956  15.463297  15.419764  15.291956  15.227310   \n",
       "21           15.141171  13.176998  13.781490  14.052113  14.078134  13.636357   \n",
       "44           25.079544  23.492586  22.727711  22.274143  21.874703  23.082414   \n",
       "78           16.174464  16.755496  16.039120  16.118401  15.665069  15.797723   \n",
       "...                ...        ...        ...        ...        ...        ...   \n",
       "2691               NaN        NaN        NaN        NaN  18.600000  17.787000   \n",
       "2694         17.809761  16.725889  16.530783  16.446517  16.503053  16.652473   \n",
       "2695         20.106061  20.228850  19.849135  20.145877  22.357605  19.250479   \n",
       "2700         34.586890  31.372308  30.866382  31.000998  31.636377  30.213992   \n",
       "2708         25.176235  24.725863  24.130040  24.287102  24.364056  25.090063   \n",
       "\n",
       "day                 7          8          9          10  ...         22  \\\n",
       "MOVEMENT_ID                                              ...              \n",
       "9            15.508637  16.210738  14.845320  14.711534  ...  15.880078   \n",
       "20           17.088325  18.088862  16.178105  15.295494  ...  18.843376   \n",
       "21           13.958269  14.642295  15.616215  14.850471  ...        NaN   \n",
       "44           22.875819  25.653848  23.501387  22.739869  ...  24.381933   \n",
       "78           15.302616  19.284080  16.253357  16.131290  ...        NaN   \n",
       "...                ...        ...        ...        ...  ...        ...   \n",
       "2691         23.473000        NaN  19.038000        NaN  ...        NaN   \n",
       "2694         17.427329  18.057287  17.310272  16.998730  ...  23.886576   \n",
       "2695         19.223717  19.471282  20.497077  20.401085  ...  29.218800   \n",
       "2700         33.581884  35.443617  32.179867  32.951855  ...  47.265544   \n",
       "2708         25.552157  26.296112  25.512403  24.886063  ...        NaN   \n",
       "\n",
       "day                 23         24         25         26         27         28  \\\n",
       "MOVEMENT_ID                                                                     \n",
       "9            17.019573  15.527393  15.925605  15.959744  17.317841  17.845053   \n",
       "20           17.029943  16.286795  17.007889  15.205696  17.461643  16.997424   \n",
       "21                 NaN        NaN        NaN        NaN        NaN        NaN   \n",
       "44           25.350187  31.126033        NaN  22.518500  27.697570  26.899667   \n",
       "78                 NaN  15.690000        NaN        NaN  16.849000        NaN   \n",
       "...                ...        ...        ...        ...        ...        ...   \n",
       "2691               NaN        NaN        NaN        NaN        NaN        NaN   \n",
       "2694         23.410192  23.302396  23.031966  23.107702  23.581885  24.382866   \n",
       "2695               NaN        NaN        NaN  23.396500        NaN  19.708000   \n",
       "2700         39.722920  42.812205  39.087122  54.935270  40.893501  45.208787   \n",
       "2708         19.323625  27.792333  25.255979  25.388000  24.786000  27.643333   \n",
       "\n",
       "day                 29         30         31  \n",
       "MOVEMENT_ID                                   \n",
       "9            17.839214  15.743376  15.797248  \n",
       "20           19.024721  14.134949  17.287814  \n",
       "21                 NaN        NaN        NaN  \n",
       "44           19.777429  24.385409  24.683422  \n",
       "78                 NaN  16.493000  16.767400  \n",
       "...                ...        ...        ...  \n",
       "2691               NaN        NaN        NaN  \n",
       "2694         23.278001  23.426889  24.056357  \n",
       "2695         26.461900        NaN  19.959500  \n",
       "2700         60.177978  38.714434  48.398038  \n",
       "2708         27.497250  29.508200        NaN  \n",
       "\n",
       "[295 rows x 31 columns]"
      ]
     },
     "execution_count": 270,
     "metadata": {},
     "output_type": "execute_result"
    }
   ],
   "source": [
    "speeds_to_tract.pivot_table(index='MOVEMENT_ID', columns='day',values='speed_mph_mean')"
   ]
  },
  {
   "cell_type": "code",
   "execution_count": 53,
   "id": "406c38a7",
   "metadata": {
    "deletable": false,
    "editable": false
   },
   "outputs": [
    {
     "data": {
      "text/html": [
       "<p><strong><pre style='display: inline;'>q4ai1</pre></strong> passed!</p>"
      ],
      "text/plain": [
       "q4ai1 results: All test cases passed!"
      ]
     },
     "execution_count": 53,
     "metadata": {},
     "output_type": "execute_result"
    }
   ],
   "source": [
    "grader.check(\"q4ai1\")"
   ]
  },
  {
   "cell_type": "code",
   "execution_count": 280,
   "id": "2e66942f",
   "metadata": {},
   "outputs": [
    {
     "name": "stdout",
     "output_type": "stream",
     "text": [
      "(5900, 10) (5771, 10)\n"
     ]
    }
   ],
   "source": [
    "def time_series_to_numpy(df: pd.DataFrame, T: int, n_val: int):\n",
    "    \"\"\"Convert your 'time series' into train-validate splits, in numpy\n",
    "    \n",
    "    You can assume your dataframe contains a `day` column where days\n",
    "    start from 1 and are consecutive.\n",
    "    \n",
    "    :param df: the dataframe formatted as n x d, where\n",
    "        n is the number of samples (census tracts) and d is the number of\n",
    "        dimensions (days). The values are the speeds.\n",
    "    :param T: number of days to include in each training sample\n",
    "    :param n_val: number of days to hold out for the validation set.\n",
    "        Say we have 5 total days in our dataset, T=2, n_val=2. This means\n",
    "        during training, we have samples that pull averages from days 1 and\n",
    "        2 to predict day 3: x=(1, 2), y=(3,) For validation, we have samples\n",
    "        like x=(2, 3), y=(4,) and x=(3, 4), y=(5,). This way, the model sees\n",
    "        data from days 4 and 5 only during validation.\n",
    "    :return: Set of 4 numpy arrays - X_train, y_train, X_val, y_val - where\n",
    "        X_* arrays are (n, T) and y_* arrays are (n,).\n",
    "    \"\"\"\n",
    "    X_train,X_val = pd.DataFrame(columns=range(1,T+1)),pd.DataFrame(columns=range(1,T+1))\n",
    "    y_train,y_val = pd.Series(),pd.Series()\n",
    "    i = T\n",
    "    while i < df.shape[1]:\n",
    "        tmp = df.iloc[:,i-T:i+1]\n",
    "        tmp.columns = range(1,T+2)\n",
    "        if i > df.shape[1] - n_val:\n",
    "            X_val = X_val.append(tmp.iloc[:,i-T:i],ignore_index=True)\n",
    "            y_val = y_val.append(tmp.iloc[:,-1])\n",
    "        else:\n",
    "            X_train = X_train.append(tmp.iloc[:,:-1],ignore_index=True)\n",
    "            y_train = y_train.append(tmp.iloc[:,-1])\n",
    "        i+=1\n",
    "    return X_train.values,y_train.values,X_val.values,y_val.values\n",
    "    \n",
    "\n",
    "def remove_nans(X: np.array, y: np.array):\n",
    "    \"\"\"Remove all nans from the provided (X, y) pair.\n",
    "    \n",
    "    Note: A nan in X means that sample must be removed from *both X and y.\n",
    "        Likewise, a nan in y means that sample must be removed from *both\n",
    "        X and y.\n",
    "    \n",
    "    :param X: (n, T) array of model inputs\n",
    "    :param y: (n,) array of labels\n",
    "    :return: (X, y)\n",
    "    \"\"\"\n",
    "    if not len(X):\n",
    "        return X, y\n",
    "    bol = np.isnan(np.sum(X, axis=1)) | np.isnan(y)\n",
    "    #bol = np.any(np.isnan(X),axis=1) | np.isnan(y)\n",
    "    return X[~bol], y[~bol]\n",
    "answer = time_series_to_numpy3(time_series, 10, 2)\n",
    "answer2 = remove_nans(answer[0], answer[1])\n",
    "print(answer[0].shape,answer2[0].shape)"
   ]
  },
  {
   "cell_type": "code",
   "execution_count": 282,
   "id": "a79c55e4-b079-4bc9-b9c7-e1f7e6bb36a2",
   "metadata": {},
   "outputs": [
    {
     "name": "stderr",
     "output_type": "stream",
     "text": [
      "/home/frank/miniconda3/envs/data100/lib/python3.6/site-packages/ipykernel_launcher.py:21: DeprecationWarning: The default dtype for empty Series will be 'object' instead of 'float64' in a future version. Specify a dtype explicitly to silence this warning.\n"
     ]
    },
    {
     "data": {
      "text/plain": [
       "array([[16.19691761, 14.39512135, 13.86869558, ..., 16.21073846,\n",
       "        14.84532001, 14.71153361],\n",
       "       [17.41804536, 15.46095646, 15.46329727, ..., 18.08886246,\n",
       "        16.17810543, 15.29549397],\n",
       "       [15.14117134, 13.17699841, 13.78148992, ..., 14.64229492,\n",
       "        15.61621536, 14.85047114],\n",
       "       ...,\n",
       "       [27.3144    ,         nan, 29.2188    , ...,         nan,\n",
       "        19.708     , 26.4619    ],\n",
       "       [35.524566  , 51.72154921, 47.26554358, ..., 40.89350139,\n",
       "        45.20878667, 60.17797787],\n",
       "       [27.06633333, 29.92566667,         nan, ..., 24.786     ,\n",
       "        27.64333333, 27.49725   ]])"
      ]
     },
     "execution_count": 282,
     "metadata": {},
     "output_type": "execute_result"
    }
   ],
   "source": [
    "time_series_to_numpy(time_series, 10, 2)[0]"
   ]
  },
  {
   "cell_type": "code",
   "execution_count": 281,
   "id": "c9fb5ab9-0cf0-480a-bc1f-6d45ca2b0df7",
   "metadata": {},
   "outputs": [
    {
     "data": {
      "text/plain": [
       "array([[16.19691761, 14.39512135, 13.86869558, ..., 16.21073846,\n",
       "        14.84532001, 14.71153361],\n",
       "       [14.39512135, 13.86869558, 14.22541416, ..., 14.84532001,\n",
       "        14.71153361, 13.73990125],\n",
       "       [13.86869558, 14.22541416, 14.31219934, ..., 14.71153361,\n",
       "        13.73990125, 14.3914358 ],\n",
       "       ...,\n",
       "       [ 0.        ,  0.        ,  0.        , ...,  0.        ,\n",
       "         0.        ,  0.        ],\n",
       "       [ 0.        ,  0.        ,  0.        , ...,  0.        ,\n",
       "         0.        ,  0.        ],\n",
       "       [ 0.        ,  0.        ,  0.        , ...,  0.        ,\n",
       "         0.        ,  0.        ]])"
      ]
     },
     "execution_count": 281,
     "metadata": {},
     "output_type": "execute_result"
    }
   ],
   "source": [
    "time_series_to_numpy3(time_series, 10, 2)[0]"
   ]
  },
  {
   "cell_type": "code",
   "execution_count": 288,
   "id": "81d89e88-9388-436a-962f-2bbc5dbaa57d",
   "metadata": {},
   "outputs": [],
   "source": [
    "## By Sylvia\n",
    "def time_series_to_numpy2(df: pd.DataFrame, T: int, n_val: int):\n",
    "    X_train = []\n",
    "    X_val = []\n",
    "    y_train = []\n",
    "    y_val = []\n",
    "    if n_val == 0:\n",
    "        for i in range(len(df)):\n",
    "            for j in range(df.shape[1] - T - n_val):\n",
    "                new_X = np.array(df.iloc[i, j:j+T])\n",
    "                new_y = np.array(df.iloc[i, j+T])\n",
    "                X_train.append(new_X)\n",
    "                y_train.append(new_y)\n",
    "        return np.array(X_train), np.array(y_train), np.array(X_val), np.array(y_val)\n",
    "    else:\n",
    "        for i in range(len(df)):\n",
    "            for j in range(df.shape[1] - T - n_val):\n",
    "                new_X = np.array(df.iloc[i, j:j+T])\n",
    "                new_y = np.array(df.iloc[i, j+T])\n",
    "                X_train.append(new_X)\n",
    "                y_train.append(new_y)\n",
    "            for k in range(df.shape[1] - T - n_val, df.shape[1] - T):\n",
    "                new_X = np.array(df.iloc[i, k:k+T])\n",
    "                new_y = np.array(df.iloc[i, k+T])\n",
    "                X_val.append(new_X)\n",
    "                y_val.append(new_y)\n",
    "        return np.array(X_train), np.array(y_train), np.array(X_val), np.array(y_val)\n",
    "    \n",
    "#all numpy\n",
    "def time_series_to_numpy3(df: pd.DataFrame, T: int, n_val: int):\n",
    "    m,x = df.shape\n",
    "    n,d = m*(x-T-n_val+1),T\n",
    "    X_train = np.zeros((n,d))\n",
    "    X_val = np.zeros(((n_val-1)*m,d))\n",
    "    #print(X_val.shape)\n",
    "    y_train = np.zeros(n)\n",
    "    y_val = np.zeros(((n_val-1)*m))\n",
    "    i = 0\n",
    "    while i < x-T:\n",
    "        if i +T > x:\n",
    "            print(i)\n",
    "            X_val[i:i+m,:] = df.iloc[:,i:i+T].values\n",
    "            y_val[i:i+m] = df.iloc[:,i+T].values\n",
    "        else:\n",
    "            X_train[i:i+m,:] = df.iloc[:,i:i+T].values\n",
    "            y_train[i:i+m] =df.iloc[:,i+T].values\n",
    "        i+=1\n",
    "        print(i)\n",
    "    return X_train,y_train,X_val,y_val\n"
   ]
  },
  {
   "cell_type": "code",
   "execution_count": 289,
   "id": "b865e64a-8937-4665-9d9e-4d857dd57284",
   "metadata": {},
   "outputs": [
    {
     "name": "stdout",
     "output_type": "stream",
     "text": [
      "1\n",
      "2\n",
      "3\n"
     ]
    },
    {
     "data": {
      "text/plain": [
       "(295,)"
      ]
     },
     "execution_count": 289,
     "metadata": {},
     "output_type": "execute_result"
    }
   ],
   "source": [
    "time_series_to_numpy3(time_series_pre, 10, 2)[3].shape"
   ]
  },
  {
   "cell_type": "code",
   "execution_count": 265,
   "id": "f12e28e6",
   "metadata": {
    "deletable": false,
    "editable": false
   },
   "outputs": [
    {
     "data": {
      "text/html": [
       "<p><strong style='color: red;'><pre style='display: inline;'>q4ai2</pre> results:</strong></p><p><strong><pre style='display: inline;'>q4ai2 - 1</pre> result:</strong></p><pre>    Trying:\n",
       "        answer[0].shape == (5900, 10)\n",
       "    Expecting:\n",
       "        True\n",
       "    **********************************************************************\n",
       "    Line 1, in q4ai2 0\n",
       "    Failed example:\n",
       "        answer[0].shape == (5900, 10)\n",
       "    Expected:\n",
       "        True\n",
       "    Got:\n",
       "        False\n",
       "</pre><p><strong><pre style='display: inline;'>q4ai2 - 2</pre> result:</strong></p><pre>    Trying:\n",
       "        answer[1].shape == (5900,)\n",
       "    Expecting:\n",
       "        True\n",
       "    **********************************************************************\n",
       "    Line 1, in q4ai2 1\n",
       "    Failed example:\n",
       "        answer[1].shape == (5900,)\n",
       "    Expected:\n",
       "        True\n",
       "    Got:\n",
       "        False\n",
       "</pre><p><strong><pre style='display: inline;'>q4ai2 - 3</pre> result:</strong></p><pre>    Trying:\n",
       "        answer[2].shape == (295, 10)\n",
       "    Expecting:\n",
       "        True\n",
       "    **********************************************************************\n",
       "    Line 1, in q4ai2 2\n",
       "    Failed example:\n",
       "        answer[2].shape == (295, 10)\n",
       "    Expected:\n",
       "        True\n",
       "    Got:\n",
       "        False\n",
       "</pre><p><strong><pre style='display: inline;'>q4ai2 - 4</pre> result:</strong></p><pre>    Trying:\n",
       "        answer[3].shape == (295,)\n",
       "    Expecting:\n",
       "        True\n",
       "    **********************************************************************\n",
       "    Line 1, in q4ai2 3\n",
       "    Failed example:\n",
       "        answer[3].shape == (295,)\n",
       "    Expected:\n",
       "        True\n",
       "    Got:\n",
       "        False\n",
       "</pre><p><strong><pre style='display: inline;'>q4ai2 - 5</pre> result:</strong></p><pre>    Trying:\n",
       "        answer2[0].shape == (4528, 10)\n",
       "    Expecting:\n",
       "        True\n",
       "    **********************************************************************\n",
       "    Line 1, in q4ai2 4\n",
       "    Failed example:\n",
       "        answer2[0].shape == (4528, 10)\n",
       "    Expected:\n",
       "        True\n",
       "    Got:\n",
       "        False\n",
       "</pre><p><strong><pre style='display: inline;'>q4ai2 - 6</pre> result:</strong></p><pre>    Trying:\n",
       "        answer2[1].shape == (4528,)\n",
       "    Expecting:\n",
       "        True\n",
       "    **********************************************************************\n",
       "    Line 1, in q4ai2 5\n",
       "    Failed example:\n",
       "        answer2[1].shape == (4528,)\n",
       "    Expected:\n",
       "        True\n",
       "    Got:\n",
       "        False\n",
       "</pre>"
      ],
      "text/plain": [
       "q4ai2 results:\n",
       "    q4ai2 - 1 result:\n",
       "        Trying:\n",
       "            answer[0].shape == (5900, 10)\n",
       "        Expecting:\n",
       "            True\n",
       "        **********************************************************************\n",
       "        Line 1, in q4ai2 0\n",
       "        Failed example:\n",
       "            answer[0].shape == (5900, 10)\n",
       "        Expected:\n",
       "            True\n",
       "        Got:\n",
       "            False\n",
       "\n",
       "    q4ai2 - 2 result:\n",
       "        Trying:\n",
       "            answer[1].shape == (5900,)\n",
       "        Expecting:\n",
       "            True\n",
       "        **********************************************************************\n",
       "        Line 1, in q4ai2 1\n",
       "        Failed example:\n",
       "            answer[1].shape == (5900,)\n",
       "        Expected:\n",
       "            True\n",
       "        Got:\n",
       "            False\n",
       "\n",
       "    q4ai2 - 3 result:\n",
       "        Trying:\n",
       "            answer[2].shape == (295, 10)\n",
       "        Expecting:\n",
       "            True\n",
       "        **********************************************************************\n",
       "        Line 1, in q4ai2 2\n",
       "        Failed example:\n",
       "            answer[2].shape == (295, 10)\n",
       "        Expected:\n",
       "            True\n",
       "        Got:\n",
       "            False\n",
       "\n",
       "    q4ai2 - 4 result:\n",
       "        Trying:\n",
       "            answer[3].shape == (295,)\n",
       "        Expecting:\n",
       "            True\n",
       "        **********************************************************************\n",
       "        Line 1, in q4ai2 3\n",
       "        Failed example:\n",
       "            answer[3].shape == (295,)\n",
       "        Expected:\n",
       "            True\n",
       "        Got:\n",
       "            False\n",
       "\n",
       "    q4ai2 - 5 result:\n",
       "        Trying:\n",
       "            answer2[0].shape == (4528, 10)\n",
       "        Expecting:\n",
       "            True\n",
       "        **********************************************************************\n",
       "        Line 1, in q4ai2 4\n",
       "        Failed example:\n",
       "            answer2[0].shape == (4528, 10)\n",
       "        Expected:\n",
       "            True\n",
       "        Got:\n",
       "            False\n",
       "\n",
       "    q4ai2 - 6 result:\n",
       "        Trying:\n",
       "            answer2[1].shape == (4528,)\n",
       "        Expecting:\n",
       "            True\n",
       "        **********************************************************************\n",
       "        Line 1, in q4ai2 5\n",
       "        Failed example:\n",
       "            answer2[1].shape == (4528,)\n",
       "        Expected:\n",
       "            True\n",
       "        Got:\n",
       "            False"
      ]
     },
     "execution_count": 265,
     "metadata": {},
     "output_type": "execute_result"
    }
   ],
   "source": [
    "grader.check(\"q4ai2\")"
   ]
  },
  {
   "cell_type": "code",
   "execution_count": 275,
   "id": "3fd28eb3",
   "metadata": {},
   "outputs": [
    {
     "name": "stdout",
     "output_type": "stream",
     "text": [
      "(2065, 5) (295, 5)\n",
      "(2051, 5) (295, 5)\n"
     ]
    }
   ],
   "source": [
    "def time_series_to_dataset(time_series: pd.DataFrame, T: int, n_val: int):\n",
    "    \"\"\"Convert 'time series' dataframe to a numpy dataset.\n",
    "    \n",
    "    Uses utilites above `time_series_to_numpy` and `remove_nans`\n",
    "    \n",
    "    For description of arguments, see `time_series_to_numpy` docstring.\n",
    "    \"\"\"\n",
    "    X_train,y_train,X_val,y_val = time_series_to_numpy3(time_series,T,n_val)\n",
    "    print(X_train.shape,X_val.shape)\n",
    "    X_train,y_train = remove_nans(X_train,y_train)\n",
    "    X_val,y_val = remove_nans(X_val,y_val)\n",
    "    print(X_train.shape,X_val.shape)\n",
    "    return X_train, y_train, X_val, y_val\n",
    "X_train, y_train, X_val, y_val = time_series_to_dataset(time_series_pre, 5, 2)\n",
    "#X_train.shape"
   ]
  },
  {
   "cell_type": "code",
   "execution_count": 238,
   "id": "635ff589",
   "metadata": {
    "deletable": false,
    "editable": false
   },
   "outputs": [
    {
     "data": {
      "text/html": [
       "<p><strong style='color: red;'><pre style='display: inline;'>q4ai3</pre> results:</strong></p><p><strong><pre style='display: inline;'>q4ai3 - 1</pre> result:</strong></p><pre>    Trying:\n",
       "        X_train.shape = (1986, 5)\n",
       "    Expecting nothing\n",
       "    **********************************************************************\n",
       "    Line 1, in q4ai3 0\n",
       "    Failed example:\n",
       "        X_train.shape = (1986, 5)\n",
       "    Exception raised:\n",
       "        Traceback (most recent call last):\n",
       "          File \"/home/frank/miniconda3/envs/data100/lib/python3.6/doctest.py\", line 1330, in __run\n",
       "            compileflags, 1), test.globs)\n",
       "          File \"<doctest q4ai3 0[0]>\", line 1, in <module>\n",
       "            X_train.shape = (1986, 5)\n",
       "        ValueError: cannot reshape array of size 8525 into shape (1986,5)\n",
       "</pre><p><strong><pre style='display: inline;'>q4ai3 - 2</pre> result:</strong></p><pre>    Trying:\n",
       "        y_train.shape == (1986,)\n",
       "    Expecting:\n",
       "        True\n",
       "    **********************************************************************\n",
       "    Line 1, in q4ai3 1\n",
       "    Failed example:\n",
       "        y_train.shape == (1986,)\n",
       "    Expected:\n",
       "        True\n",
       "    Got:\n",
       "        False\n",
       "</pre><p><strong><pre style='display: inline;'>q4ai3 - 3</pre> result:</strong></p><pre>    Trying:\n",
       "        X_val.shape == (281, 5)\n",
       "    Expecting:\n",
       "        True\n",
       "    **********************************************************************\n",
       "    Line 1, in q4ai3 2\n",
       "    Failed example:\n",
       "        X_val.shape == (281, 5)\n",
       "    Expected:\n",
       "        True\n",
       "    Got:\n",
       "        False\n",
       "</pre><p><strong><pre style='display: inline;'>q4ai3 - 4</pre> result:</strong></p><pre>    Trying:\n",
       "        y_val.shape == (281,)\n",
       "    Expecting:\n",
       "        True\n",
       "    **********************************************************************\n",
       "    Line 1, in q4ai3 3\n",
       "    Failed example:\n",
       "        y_val.shape == (281,)\n",
       "    Expected:\n",
       "        True\n",
       "    Got:\n",
       "        False\n",
       "</pre>"
      ],
      "text/plain": [
       "q4ai3 results:\n",
       "    q4ai3 - 1 result:\n",
       "        Trying:\n",
       "            X_train.shape = (1986, 5)\n",
       "        Expecting nothing\n",
       "        **********************************************************************\n",
       "        Line 1, in q4ai3 0\n",
       "        Failed example:\n",
       "            X_train.shape = (1986, 5)\n",
       "        Exception raised:\n",
       "            Traceback (most recent call last):\n",
       "              File \"/home/frank/miniconda3/envs/data100/lib/python3.6/doctest.py\", line 1330, in __run\n",
       "                compileflags, 1), test.globs)\n",
       "              File \"<doctest q4ai3 0[0]>\", line 1, in <module>\n",
       "                X_train.shape = (1986, 5)\n",
       "            ValueError: cannot reshape array of size 8525 into shape (1986,5)\n",
       "\n",
       "    q4ai3 - 2 result:\n",
       "        Trying:\n",
       "            y_train.shape == (1986,)\n",
       "        Expecting:\n",
       "            True\n",
       "        **********************************************************************\n",
       "        Line 1, in q4ai3 1\n",
       "        Failed example:\n",
       "            y_train.shape == (1986,)\n",
       "        Expected:\n",
       "            True\n",
       "        Got:\n",
       "            False\n",
       "\n",
       "    q4ai3 - 3 result:\n",
       "        Trying:\n",
       "            X_val.shape == (281, 5)\n",
       "        Expecting:\n",
       "            True\n",
       "        **********************************************************************\n",
       "        Line 1, in q4ai3 2\n",
       "        Failed example:\n",
       "            X_val.shape == (281, 5)\n",
       "        Expected:\n",
       "            True\n",
       "        Got:\n",
       "            False\n",
       "\n",
       "    q4ai3 - 4 result:\n",
       "        Trying:\n",
       "            y_val.shape == (281,)\n",
       "        Expecting:\n",
       "            True\n",
       "        **********************************************************************\n",
       "        Line 1, in q4ai3 3\n",
       "        Failed example:\n",
       "            y_val.shape == (281,)\n",
       "        Expected:\n",
       "            True\n",
       "        Got:\n",
       "            False"
      ]
     },
     "execution_count": 238,
     "metadata": {},
     "output_type": "execute_result"
    }
   ],
   "source": [
    "grader.check(\"q4ai3\")"
   ]
  },
  {
   "cell_type": "code",
   "execution_count": 71,
   "id": "54ebb7d9",
   "metadata": {},
   "outputs": [],
   "source": [
    "time_series"
   ]
  },
  {
   "cell_type": "code",
   "execution_count": 72,
   "id": "6f67b760",
   "metadata": {},
   "outputs": [],
   "source": [
    "time_series_pre"
   ]
  },
  {
   "cell_type": "code",
   "execution_count": 73,
   "id": "3c1a0b33",
   "metadata": {},
   "outputs": [],
   "source": [
    "(X_train.shape, y_train.shape, X_val.shape, y_val.shape)"
   ]
  },
  {
   "cell_type": "markdown",
   "id": "e9183455",
   "metadata": {
    "deletable": false,
    "editable": false
   },
   "source": [
    "<!-- BEGIN QUESTION -->\n",
    "\n",
    "### 4.a.ii. Train and evaluate linear model on pre-lockdown data.\n",
    "\n",
    "1. **Train a linear model that forecasts the next day's speed average** using your training dataset `X_train`, `y_train`. Specifically, predict $y_{(i,t)}$ from $X_{(i,t)}$, where\n",
    "- $y_{(i,t)}$ is the daily speed average for day $t$ and census tract $i$\n",
    "- $X_{(i,t)}$ is a vector of daily speed averages for days $t-5,t-4,t-3,t-2,t-1$ for census tract $i$\n",
    "2. **Evaluate your model** on your validation dataset `X_val`, `y_val`.\n",
    "3. **Make a scatter plot**, plotting predicted averages against ground truth averages. Note the perfect model would line up all points along the line $y=x$.\n",
    "\n",
    "Our model is quantitatively and qualitatively pretty accurate at this point, training and evaluating on pre-lockdown data.\n",
    "\n",
    "<!--\n",
    "BEGIN QUESTION\n",
    "name: q4aii1\n",
    "points: 1\n",
    "manual: True\n",
    "-->"
   ]
  },
  {
   "cell_type": "code",
   "execution_count": 74,
   "id": "5be823d2",
   "metadata": {},
   "outputs": [],
   "source": [
    "reg = ... # set to trained linear model\n",
    "score = ... # report r^2 score\n",
    "# create the scatter plot below"
   ]
  },
  {
   "cell_type": "markdown",
   "id": "5904db8f",
   "metadata": {
    "deletable": false,
    "editable": false
   },
   "source": [
    "<!-- END QUESTION -->\n",
    "\n",
    "<!--\n",
    "BEGIN QUESTION\n",
    "name: q4aii2\n",
    "points: 1\n",
    "-->"
   ]
  },
  {
   "cell_type": "code",
   "execution_count": 75,
   "id": "e74913fb",
   "metadata": {},
   "outputs": [],
   "source": [
    "score"
   ]
  },
  {
   "cell_type": "code",
   "execution_count": null,
   "id": "65cc1e54",
   "metadata": {
    "deletable": false,
    "editable": false
   },
   "outputs": [],
   "source": [
    "grader.check(\"q4aii2\")"
   ]
  },
  {
   "cell_type": "markdown",
   "id": "53bfd2af",
   "metadata": {},
   "source": [
    "## 4.b. Understand failures on post-lockdown data\n",
    "\n",
    "Your dataset is distributed spatially and temporally. As a result, the most intuitive spaces to visualize your model error or performance along is both spatially and temporally. In this step, we focus on understanding *where* your model fails."
   ]
  },
  {
   "cell_type": "markdown",
   "id": "6a43fe82",
   "metadata": {
    "deletable": false,
    "editable": false
   },
   "source": [
    "### 4.b.i. Evaluate on post-lockdown data\n",
    "\n",
    "1. Using your previously trained linear regression model `reg`, **evaluate on post-lockdown data**, meaning daily speed averages on March 14, 2020. Evaluate on all census tracts.\n",
    "2. **Make a scatter plot**, plotting predicted averages against ground truth averages. Note the perfect model would line up all points along the line $y=x$.\n",
    "\n",
    "<!--\n",
    "BEGIN QUESTION\n",
    "name: q4bi1\n",
    "points: 1\n",
    "-->"
   ]
  },
  {
   "cell_type": "code",
   "execution_count": 77,
   "id": "dc8edff4",
   "metadata": {},
   "outputs": [],
   "source": [
    "time_series_x_pre = ... # get 'time series' dataframe for days 8, 10, 11, 12, 13\n",
    "time_series_y_post = ... # get 'time series' dataframe for 14th\n",
    "score_pre_14th = ...\n",
    "score_pre_14th"
   ]
  },
  {
   "cell_type": "code",
   "execution_count": null,
   "id": "46315050",
   "metadata": {
    "deletable": false,
    "editable": false
   },
   "outputs": [],
   "source": [
    "grader.check(\"q4bi1\")"
   ]
  },
  {
   "cell_type": "code",
   "execution_count": 79,
   "id": "c33b5a73",
   "metadata": {},
   "outputs": [],
   "source": [
    "time_series_x_pre"
   ]
  },
  {
   "cell_type": "code",
   "execution_count": 80,
   "id": "d278129b",
   "metadata": {
    "scrolled": true
   },
   "outputs": [],
   "source": [
    "time_series_y_post"
   ]
  },
  {
   "cell_type": "markdown",
   "id": "c91da701",
   "metadata": {
    "deletable": false,
    "editable": false
   },
   "source": [
    "<!-- BEGIN QUESTION -->\n",
    "\n",
    "Make scatter plot below.\n",
    "<!--\n",
    "BEGIN QUESTION\n",
    "name: q4bi2\n",
    "points: 1\n",
    "manual: True\n",
    "-->"
   ]
  },
  {
   "cell_type": "code",
   "execution_count": 81,
   "id": "385011bf",
   "metadata": {},
   "outputs": [],
   "source": []
  },
  {
   "cell_type": "markdown",
   "id": "15e05436",
   "metadata": {
    "deletable": false,
    "editable": false
   },
   "source": [
    "<!-- END QUESTION -->\n",
    "\n",
    "<!-- BEGIN QUESTION -->\n",
    "\n",
    "### 4.b.ii. Report model performance temporally\n",
    "\n",
    "1. **Make a line plot** showing performance of the original model throughout all of March 2020.\n",
    "2. **Report the lowest point on the line plot**, reflecting the lowest model performance.\n",
    "2. **Why is model performance the worst on the 17th?** Why does it begin to worsen on march 15th? And continue to worsen? Use what you know about covid measures on those dates. You may find this webpage useful: https://abc7news.com/timeline-of-coronavirus-us-covid-19-bay-area-sf/6047519/\n",
    "3. **Is the dip in performance on the 9th foreshadowed** by any of our EDA?\n",
    "4. **How does the model miraculously recover on its own?**\n",
    "5. **Make a scatter plot**, plotting predicted averages against ground truth averages *for model predictions on March 17th*. Note the perfect model would line up all points along the line $y=x$. When compared against previous plots of this nature, this plot looks substantially worse, with points straying far from $y=x$.\n",
    "\n",
    "**Note:** Answer questions 2-5 in the Markdown cell below. Q1 and Q6 are answered in the two code cells below.\n",
    "\n",
    "<!--\n",
    "BEGIN QUESTION\n",
    "name: q4bii1\n",
    "points: 3\n",
    "manual: True\n",
    "-->\n",
    "\n"
   ]
  },
  {
   "cell_type": "markdown",
   "id": "fae80544",
   "metadata": {},
   "source": [
    "_Type your answer here, replacing this text._"
   ]
  },
  {
   "cell_type": "markdown",
   "id": "a8f2cda7",
   "metadata": {
    "deletable": false,
    "editable": false
   },
   "source": [
    "<!-- END QUESTION -->\n",
    "\n",
    "<!-- BEGIN QUESTION -->\n",
    "\n",
    "Generate line plot.\n",
    "<!--\n",
    "BEGIN QUESTION\n",
    "name: q4bii2\n",
    "points: 1\n",
    "manual: True\n",
    "-->"
   ]
  },
  {
   "cell_type": "code",
   "execution_count": 82,
   "id": "4e19a9db",
   "metadata": {
    "scrolled": true
   },
   "outputs": [],
   "source": []
  },
  {
   "cell_type": "markdown",
   "id": "f0fd8a4c",
   "metadata": {
    "deletable": false,
    "editable": false
   },
   "source": [
    "<!-- END QUESTION -->\n",
    "\n",
    "<!-- BEGIN QUESTION -->\n",
    "\n",
    "Generate a scatter plot.\n",
    "<!--\n",
    "BEGIN QUESTION\n",
    "name: q4bii3\n",
    "points: 1\n",
    "manual: True\n",
    "-->"
   ]
  },
  {
   "cell_type": "code",
   "execution_count": 83,
   "id": "c2cd380a",
   "metadata": {},
   "outputs": [],
   "source": [
    "..."
   ]
  },
  {
   "cell_type": "markdown",
   "id": "22ad11a5",
   "metadata": {},
   "source": [
    "<!-- END QUESTION -->\n",
    "\n",
    "\n",
    "\n",
    "## 4.c. \"Fix\" model on post-lockdown data\n",
    "\n",
    "Per this survey https://pure.tue.nl/ws/files/3488790/740215.pdf, there are 4 categories of fixes for change points:\n",
    "- Forgetting mechanisms\n",
    "- Explicit change detection\n",
    "- Ensemble techniques\n",
    "- Context-aware approaches\n",
    "\n",
    "In this part, we'll combine insights in model errors with previous EDA insights to produce a fix."
   ]
  },
  {
   "cell_type": "markdown",
   "id": "219adccd",
   "metadata": {
    "deletable": false,
    "editable": false
   },
   "source": [
    "<!-- BEGIN QUESTION -->\n",
    "\n",
    "### 4.c.i. Learn delta off of a moving bias\n",
    "\n",
    "According to our previous work in EDA, the average speed shoots upwards sharply. As a result, our trick to learn delta the around the average and to naively assume that the average of day $t$ is the average for day $t+1$. We will do this in 4 steps:\n",
    "\n",
    "1. **Create a dataset for your delta model**.\n",
    "2. **Train your delta model** on pre-lockdown data.\n",
    "3. **Evaluate your model on pre-lockdown data**, to ensure that the model has learned to a satisfactory degree, in the nominal case. Remember the naive model achieved 0.97 r^2 on pre-lockdown data.\n",
    "4. **Evaluate your model on the 17th**, to compare against the naive model also evaluated on that day. Notice that your r^2 score has improved by 10%+. Why is your delta model so effective for the 17th?\n",
    "5. **Evaluate your model on the 14th**, to compare against the naive model also evaluated on that day. Notice that your r^2 score is now complete garbage. Why is your delta so ineffective for the 14th?\n",
    "\n",
    "**Hint**: As you build your datasets, always check to make sure you're using the right days! It's easy to have a one-off error that throws off your results.\n",
    "\n",
    "Write your written questions in the next cell, then write the code in the following cells.\n",
    "\n",
    "<!--\n",
    "BEGIN QUESTION\n",
    "name: q4ci1\n",
    "points: 2\n",
    "manual: True\n",
    "-->"
   ]
  },
  {
   "cell_type": "markdown",
   "id": "a5dafac4",
   "metadata": {},
   "source": [
    "_Type your answer here, replacing this text._"
   ]
  },
  {
   "cell_type": "markdown",
   "id": "524d3d68",
   "metadata": {
    "deletable": false,
    "editable": false
   },
   "source": [
    "<!-- END QUESTION -->\n",
    "\n",
    "<!--\n",
    "BEGIN QUESTION\n",
    "name: q4ci2\n",
    "points: 1\n",
    "-->"
   ]
  },
  {
   "cell_type": "code",
   "execution_count": 84,
   "id": "83c0171d",
   "metadata": {
    "scrolled": true
   },
   "outputs": [],
   "source": [
    "time_series_delta = ... # subtract daily average from pre-lockdown 'time series' dataframe `time_series_pre`\n",
    "time_series_delta"
   ]
  },
  {
   "cell_type": "code",
   "execution_count": null,
   "id": "89d5cf3b",
   "metadata": {
    "deletable": false,
    "editable": false
   },
   "outputs": [],
   "source": [
    "grader.check(\"q4ci2\")"
   ]
  },
  {
   "cell_type": "code",
   "execution_count": 86,
   "id": "eda7cf5a",
   "metadata": {},
   "outputs": [],
   "source": [
    "X_delta_train, y_delta_train, X_delta_val, y_delta_val = ..., ..., ..., ...\n",
    "...\n",
    "res_4ci3 = reg_delta.score(X_delta_val, y_delta_val) # learning delta as easy as learning original dataset!\n",
    "res_4ci3"
   ]
  },
  {
   "cell_type": "code",
   "execution_count": null,
   "id": "57b32414",
   "metadata": {
    "deletable": false,
    "editable": false
   },
   "outputs": [],
   "source": [
    "grader.check(\"q4ci3\")"
   ]
  },
  {
   "cell_type": "code",
   "execution_count": 88,
   "id": "d00733a4",
   "metadata": {},
   "outputs": [],
   "source": [
    "res_4ci4 = ...\n",
    "..."
   ]
  },
  {
   "cell_type": "code",
   "execution_count": null,
   "id": "97e617a2",
   "metadata": {
    "deletable": false,
    "editable": false
   },
   "outputs": [],
   "source": [
    "grader.check(\"q4ci4\")"
   ]
  },
  {
   "cell_type": "code",
   "execution_count": 90,
   "id": "046257ab",
   "metadata": {},
   "outputs": [],
   "source": [
    "res_4ci5 = ..."
   ]
  },
  {
   "cell_type": "code",
   "execution_count": null,
   "id": "00819d08",
   "metadata": {
    "deletable": false,
    "editable": false
   },
   "outputs": [],
   "source": [
    "grader.check(\"q4ci5\")"
   ]
  },
  {
   "cell_type": "markdown",
   "id": "d7cce1ba",
   "metadata": {
    "deletable": false,
    "editable": false
   },
   "source": [
    "### 4.c.ii. Does it \"solve itself\"? Does the pre-lockdown model predict, after the change point?\n",
    "\n",
    "Had we ignored the problem, would we have been okay? The temporal plot above showing performance over time suggests a partial recovery. **Evaluate the original, naive model on all post-lockdown data** to see. If your final r^2 score does not match the autograder's:\n",
    "- Double check you have selected daily average speeds for the right days, by printing your dataframe.\n",
    "- Double check you're using the right model (a brand new trained model)\n",
    "- Check you're using `T=5, n_val=2`\n",
    "\n",
    "<!--\n",
    "BEGIN QUESTION\n",
    "name: q4cii\n",
    "points: 1\n",
    "-->"
   ]
  },
  {
   "cell_type": "code",
   "execution_count": 92,
   "id": "f8f33751",
   "metadata": {},
   "outputs": [],
   "source": [
    "score_og_post = ...\n",
    "...\n",
    "score_og_post"
   ]
  },
  {
   "cell_type": "code",
   "execution_count": null,
   "id": "7f17be53",
   "metadata": {
    "deletable": false,
    "editable": false
   },
   "outputs": [],
   "source": [
    "grader.check(\"q4cii\")"
   ]
  },
  {
   "cell_type": "markdown",
   "id": "2d64c781",
   "metadata": {
    "deletable": false,
    "editable": false
   },
   "source": [
    "### 4.c.iii. Naively retrain model with post-lockdown data\n",
    "\n",
    "Can we use the same tactics--that we used to train the original model on pre-lockdown data--to train on the post-lockdown data? **Retrain a linear model and evaluate on post-lockdown data only**. You should construct a new dataset using `time_series_to_dataset` using only time series from March 14 to March 31. If your final r^2 score does not match the autograder's:\n",
    "- Double check you have selected daily average speeds for the right days, by printing your dataframe.\n",
    "- Double check you're using the right model (a brand new trained model)\n",
    "- Check you're using `T=5, n_val=2`\n",
    "\n",
    "<!--\n",
    "BEGIN QUESTION\n",
    "name: q4ciii\n",
    "points: 1\n",
    "-->"
   ]
  },
  {
   "cell_type": "code",
   "execution_count": 94,
   "id": "be00ebaf",
   "metadata": {
    "scrolled": true
   },
   "outputs": [],
   "source": [
    "score_post = ...\n",
    "...\n",
    "score_post"
   ]
  },
  {
   "cell_type": "code",
   "execution_count": null,
   "id": "fb292c1d",
   "metadata": {
    "deletable": false,
    "editable": false
   },
   "outputs": [],
   "source": [
    "grader.check(\"q4ciii\")"
   ]
  },
  {
   "cell_type": "markdown",
   "id": "17325151",
   "metadata": {
    "deletable": false,
    "editable": false
   },
   "source": [
    "### 4.c.iv. What if you just ignore the change point?\n",
    "\n",
    "Turns out, this is no good. Even acknowledging the change point and training *either* before *or* after is better. Being ignorant and training on *both* is the worst option, producing a lower r^2.\n",
    "\n",
    "<!--\n",
    "BEGIN QUESTION\n",
    "name: q4civ\n",
    "points: 1\n",
    "-->"
   ]
  },
  {
   "cell_type": "code",
   "execution_count": 96,
   "id": "42833f28",
   "metadata": {},
   "outputs": [],
   "source": [
    "res_4civ = ...\n",
    "res_4civ"
   ]
  },
  {
   "cell_type": "code",
   "execution_count": null,
   "id": "0c012320",
   "metadata": {
    "deletable": false,
    "editable": false
   },
   "outputs": [],
   "source": [
    "grader.check(\"q4civ\")"
   ]
  },
  {
   "cell_type": "markdown",
   "id": "d9fc358d",
   "metadata": {},
   "source": [
    "# Step 5 - Open-Ended Modeling: Predicting travel time post-lockdown\n",
    "\n",
    "*This* is the real deal and ultimately what Uber cares about. Traffic speeds is a proxy task, but the bottom line and moneymaking machine relies on this travel time estimation. Focus on designing experiments instead of focusing on experimental, quantitative results. Your experiments are successful if they inform a decision, even despite a lower-performing model."
   ]
  },
  {
   "cell_type": "markdown",
   "id": "88a75132",
   "metadata": {},
   "source": [
    "## Question 5a\n",
    "\n",
    "Train a baseline model of your choice using any supervised learning approach we have studied; you are not limited to a linear model.\n",
    "\n",
    "\n",
    "**Example**\n",
    "\n",
    "Given the data for this question, you could build a model to predict travel time from Cheesecake Factory to UC Berkeley."
   ]
  },
  {
   "cell_type": "code",
   "execution_count": 4,
   "id": "130df711",
   "metadata": {},
   "outputs": [],
   "source": []
  },
  {
   "cell_type": "markdown",
   "id": "71c3fdb3",
   "metadata": {},
   "source": [
    "## Question 5b\n",
    "\n",
    "Improve on your baseline model. Specify the model you designed and its input features. Justify why you chose these features and their relevance to your model's predictions.\n",
    "\n",
    "**Example**\n",
    "\n",
    "Here are potential questions to consider for this part: How does the other variant of your travel times dataset, aggregated across time but reported for all routes, useful?  What additional data from the Uber Movement website can you export to better your model?"
   ]
  },
  {
   "cell_type": "code",
   "execution_count": null,
   "id": "dbf88fd9",
   "metadata": {},
   "outputs": [],
   "source": []
  },
  {
   "cell_type": "markdown",
   "id": "bd8e5c3e",
   "metadata": {},
   "source": [
    "## Question 5c\n",
    "\n",
    "Explore other modeling aspects and/or temporal information. You are free to relate this to your hypothesis or not. Please expand into multiple parts that logically separate and break down your modeling work!\n",
    "\n",
    "**Example**\n",
    "\n",
    "For example, explore change across time, before and after the lockdown: (a) train and evaluate on *pre*-lockdown traffic travel times for that route; and (b) evaluate your model on *post*-lockdown traffic patterns.\n",
    "How would you correct your model for a more accurate post-lockdown traffic predictor? *The above is just a suggestion. You may pick any topic you find interesting.*"
   ]
  },
  {
   "cell_type": "code",
   "execution_count": null,
   "id": "2648a468",
   "metadata": {},
   "outputs": [],
   "source": []
  },
  {
   "cell_type": "code",
   "execution_count": null,
   "id": "b9bc3e5a",
   "metadata": {},
   "outputs": [],
   "source": []
  },
  {
   "cell_type": "markdown",
   "id": "400dba85",
   "metadata": {
    "deletable": false,
    "editable": false
   },
   "source": [
    "---\n",
    "\n",
    "To double-check your work, the cell below will rerun all of the autograder tests."
   ]
  },
  {
   "cell_type": "code",
   "execution_count": null,
   "id": "a6d058c6",
   "metadata": {
    "deletable": false,
    "editable": false
   },
   "outputs": [],
   "source": [
    "grader.check_all()"
   ]
  },
  {
   "cell_type": "markdown",
   "id": "9a248128",
   "metadata": {
    "deletable": false,
    "editable": false
   },
   "source": [
    "## Submission\n",
    "\n",
    "Make sure you have run all cells in your notebook in order before running the cell below, so that all images/graphs appear in the output. The cell below will generate a zip file for you to submit. **Please save before exporting!**"
   ]
  },
  {
   "cell_type": "code",
   "execution_count": null,
   "id": "c99e244f",
   "metadata": {
    "deletable": false,
    "editable": false
   },
   "outputs": [],
   "source": [
    "# Save your notebook first, then run this cell to export your submission.\n",
    "grader.export()"
   ]
  },
  {
   "cell_type": "markdown",
   "id": "732614ed",
   "metadata": {},
   "source": [
    " "
   ]
  }
 ],
 "metadata": {
  "kernelspec": {
   "display_name": "data100",
   "language": "python",
   "name": "data100"
  },
  "language_info": {
   "codemirror_mode": {
    "name": "ipython",
    "version": 3
   },
   "file_extension": ".py",
   "mimetype": "text/x-python",
   "name": "python",
   "nbconvert_exporter": "python",
   "pygments_lexer": "ipython3",
   "version": "3.6.4"
  }
 },
 "nbformat": 4,
 "nbformat_minor": 5
}
